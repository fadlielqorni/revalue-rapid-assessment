{
 "cells": [
  {
   "cell_type": "markdown",
   "id": "7b826a52-e92a-446a-b395-34c8dc8f016e",
   "metadata": {},
   "source": [
    "# Global Population Assessment"
   ]
  },
  {
   "cell_type": "markdown",
   "id": "905ac47e-95bc-4894-a1a8-ae457830e34f",
   "metadata": {},
   "source": [
    "**Data Source**\n",
    "1. GPWv411:  (Gridded Population of the World Version 4.11) 2000, 2005, 2010, 2015, 2020\n",
    "Center for International Earth Science Information Network - CIESIN - Columbia University. 2018. Gridded Population of the World, Version 4 (GPWv4): Population Density, Revision 11. Palisades, NY: NASA Socioeconomic Data and Applications Center (SEDAC). https://doi.org/10.7927/H49C6VHW. Accessed DAY MONTH YEAR.\n",
    "\n",
    "2. GHSL: Global Human Settlement Layers, Population Grid 1975-1990-2000-2015\n",
    "European Commission, Joint Research Centre (JRC); Columbia University, Center for International Earth Science Information Network - CIESIN (2015): GHS population grid, derived from GPW4, multitemporal (1975, 1990, 2000, 2015). European Commission, Joint Research Centre (JRC) [Dataset] PID: https://data.europa.eu/89h/jrc-ghsl-ghs_pop_gpw4_globe_r2015a\n",
    "\n",
    "3. Primary Humid Tropical Forest\n",
    "Turubanova S., Potapov P., Tyukavina, A., and Hansen M. (2018) Ongoing primary forest loss in Brazil, Democratic Republic of the Congo, and Indonesia. Environmental Research Letters. https://doi.org/10.1088/1748-9326/aacd1c"
   ]
  },
  {
   "cell_type": "code",
   "execution_count": 1,
   "id": "4265fd74-ab61-4221-81fd-da74dc4f352f",
   "metadata": {},
   "outputs": [],
   "source": [
    "%matplotlib inline\n",
    "import os\n",
    "import rasterio\n",
    "from rasterio.plot import show\n",
    "import geopandas as gpd\n",
    "import pandas as pd\n",
    "from tkinter import Tk, filedialog, simpledialog, messagebox\n",
    "import rioxarray as rxr\n",
    "import matplotlib.pyplot as plt\n",
    "from matplotlib_scalebar.scalebar import ScaleBar\n",
    "from matplotlib.colors import ListedColormap, BoundaryNorm, LinearSegmentedColormap\n",
    "import geoplot as gplt\n",
    "import contextily as ctx\n",
    "import plotly.express as px\n",
    "import numpy as np\n",
    "from geocube.api.core import make_geocube\n",
    "from rasterstats import zonal_stats\n",
    "from geemap import cartoee\n",
    "import cartopy.io.img_tiles as cimgt"
   ]
  },
  {
   "cell_type": "code",
   "execution_count": 2,
   "id": "36b2ce09-2dd2-4df2-84ef-4db9fd8ca02b",
   "metadata": {},
   "outputs": [],
   "source": [
    "import ee\n",
    "import geemap\n",
    "try:\n",
    "        ee.Initialize()\n",
    "except Exception as e:\n",
    "        ee.Authenticate()\n",
    "        ee.Initialize()"
   ]
  },
  {
   "cell_type": "code",
   "execution_count": 3,
   "id": "44600e76-a0c0-4ea6-9a11-9d0b329e7ede",
   "metadata": {},
   "outputs": [],
   "source": [
    "root = Tk() # pointing root to Tk() to use it as Tk() in program.\n",
    "root.withdraw() # Hides small tkinter window.\n",
    "root.attributes('-topmost', True) # Opened windows will be active. above all windows despite of selection.\n",
    "roi_directory = filedialog.askopenfile(title = \"Open RoI Shapefile\") \n",
    "output_directory = filedialog.askdirectory(title = \"Specify Output Folder\")"
   ]
  },
  {
   "cell_type": "code",
   "execution_count": 4,
   "id": "22f56155-b8da-4d1d-8ab1-25233bf1bfc8",
   "metadata": {},
   "outputs": [
    {
     "name": "stdout",
     "output_type": "stream",
     "text": [
      "The script will assess  UK Test 2\n",
      "All data will be reprojected to  EPSG3260  canopy cover\n",
      "Column name is  CNTR_NAME\n"
     ]
    }
   ],
   "source": [
    "# specify project name\n",
    "projectname = simpledialog.askstring(\"Input\", \"Speficy project name\",parent=root)\n",
    "\n",
    "if projectname is not None:\n",
    "    print(\"The script will assess \", projectname)\n",
    "else:\n",
    "    print(\"Name has not been submitted, Restart the code!\")\n",
    "    \n",
    "#Specify Projection\n",
    "projection = simpledialog.askstring(\"Input\", \"Specify Projection in UTM zone, example EPSG:3857\", parent=root)\n",
    "\n",
    "if projection is not None:\n",
    "    print(\"All data will be reprojected to \", projection, ' canopy cover')\n",
    "else:\n",
    "    print(\"Projection has not specified, Restart the code!\")\n",
    "    \n",
    "# column name for roi id\n",
    "roi_column_name = simpledialog.askstring(\"Input\", \"Specify columns name in ROI attribute table to define boundary name\",parent=root)\n",
    "\n",
    "if roi_column_name is not None:\n",
    "    print(\"Column name is \", roi_column_name)\n",
    "else:\n",
    "    print(\"Column has not identified, Restart the code!\")"
   ]
  },
  {
   "cell_type": "code",
   "execution_count": 5,
   "id": "3b1a16f4-d0f8-4381-a388-387b689cb667",
   "metadata": {},
   "outputs": [],
   "source": [
    "# output directory\n",
    "out_dir = os.path.expanduser(output_directory+'/geemap_PopulationAssessment')\n",
    "if not os.path.exists(out_dir):\n",
    "    os.makedirs(out_dir)"
   ]
  },
  {
   "cell_type": "code",
   "execution_count": 8,
   "id": "82343230-4558-4eb2-b493-341dafece683",
   "metadata": {},
   "outputs": [],
   "source": [
    "roi = gpd.read_file(roi_directory.name)\n",
    "roi_proj  = roi.to_crs(crs = projection)"
   ]
  },
  {
   "cell_type": "code",
   "execution_count": 9,
   "id": "c4329bc3-2bc9-4c07-b85a-d270aa282a46",
   "metadata": {},
   "outputs": [],
   "source": [
    "roi_proj_gee = geemap.geopandas_to_ee(roi_proj, geodesic=False)"
   ]
  },
  {
   "cell_type": "code",
   "execution_count": 10,
   "id": "ee112960-e29d-4f12-9f64-cc57c445cef7",
   "metadata": {},
   "outputs": [],
   "source": [
    "# For Time lapse animation\n",
    "roi_proj_4326 = roi.to_crs(crs = \"EPSG:4326\")\n",
    "roi_proj_4326_gee = geemap.geopandas_to_ee(roi_proj_4326, geodesic=False)\n",
    "        \n",
    "bounds_roi = roi_proj_4326.total_bounds\n",
    "bbox_roi = [bounds_roi[2], bounds_roi[1], bounds_roi[0], bounds_roi[3]]"
   ]
  },
  {
   "cell_type": "code",
   "execution_count": 11,
   "id": "654e57e7-d86a-4170-82e2-dd14fed6d144",
   "metadata": {},
   "outputs": [],
   "source": [
    "# add north arrow\n",
    "north_arrow_dict = {\n",
    "    \"text\": \"N\",\n",
    "    \"xy\": (0.1, 0.3),\n",
    "    \"arrow_length\": 0.15,\n",
    "    \"text_color\": \"white\",\n",
    "    \"arrow_color\": \"white\",\n",
    "    \"fontsize\": 20,\n",
    "    \"width\": 5,\n",
    "    \"headwidth\": 15,\n",
    "    \"ha\": \"center\",\n",
    "    \"va\": \"center\",\n",
    "}\n",
    "# add scale bar\n",
    "scale_bar_dict = {\n",
    "    \"length\": 10,\n",
    "    \"xy\": (0.1, 0.05),\n",
    "    \"linewidth\": 3,\n",
    "    \"fontsize\": 20,\n",
    "    \"color\": \"white\",\n",
    "    \"unit\": \"km\",\n",
    "    \"ha\": \"center\",\n",
    "    \"va\": \"bottom\",\n",
    "}"
   ]
  },
  {
   "cell_type": "markdown",
   "id": "c5e86085-8e21-4ea9-8472-3ee86f029238",
   "metadata": {},
   "source": [
    "## GPWv411: Population Density (Gridded Population of the World Version 4.11)"
   ]
  },
  {
   "cell_type": "markdown",
   "id": "24af613d-aded-4c9e-bf86-41abe6bad743",
   "metadata": {},
   "source": [
    "The Gridded Population of World Version 4 (GPWv4), Revision 11 models the distribution of global human population for the years 2000, 2005, 2010, 2015, and 2020 \n",
    "on 30 arc-second (approximately 1km) grid cells. These population density grids contain estimates of the number of persons per square kilometer consistent \n",
    "with national censuses and population registers. There is one image for each modeled year.\n",
    "\n",
    "The value represent the estimated number of persons per square kilometer."
   ]
  },
  {
   "cell_type": "code",
   "execution_count": 12,
   "id": "c60ce7a4-8f41-4195-b8d1-393517570bcf",
   "metadata": {},
   "outputs": [],
   "source": [
    "# Population Density 2000\n",
    "GPWdataset_2000 = ee.ImageCollection(\"CIESIN/GPWv411/GPW_Population_Density\").filterDate('2000-01-01', '2000-12-31').first()\n",
    "GPWdataset_2000_proj = GPWdataset_2000.reproject(crs = projection, scale = 1000)\n",
    "GPW_PopDensity_2000_proj = GPWdataset_2000_proj.select('population_density').clip(roi_proj_gee)\n",
    "# Population Density 2005\n",
    "GPWdataset_2005 = ee.ImageCollection(\"CIESIN/GPWv411/GPW_Population_Density\").filterDate('2005-01-01', '2005-12-31').first()\n",
    "GPWdataset_2005_proj = GPWdataset_2005.reproject(crs = projection, scale = 1000)\n",
    "GPW_PopDensity_2005_proj = GPWdataset_2005_proj.select('population_density').clip(roi_proj_gee)\n",
    "# Population Density 2010\n",
    "GPWdataset_2010 = ee.ImageCollection(\"CIESIN/GPWv411/GPW_Population_Density\").filterDate('2010-01-01', '2010-12-31').first()\n",
    "GPWdataset_2010_proj = GPWdataset_2010.reproject(crs = projection, scale = 1000)\n",
    "GPW_PopDensity_2010_proj = GPWdataset_2010_proj.select('population_density').clip(roi_proj_gee)\n",
    "# Population Density 2015\n",
    "GPWdataset_2015 = ee.ImageCollection(\"CIESIN/GPWv411/GPW_Population_Density\").filterDate('2015-01-01', '2015-12-31').first()\n",
    "GPWdataset_2015_proj = GPWdataset_2015.reproject(crs = projection, scale = 1000)\n",
    "GPW_PopDensity_2015_proj = GPWdataset_2015_proj.select('population_density').clip(roi_proj_gee)\n",
    "# Population Density 2020\n",
    "GPWdataset_2020 = ee.ImageCollection(\"CIESIN/GPWv411/GPW_Population_Density\").filterDate('2020-01-01', '2020-12-31').first()\n",
    "GPWdataset_2020_proj = GPWdataset_2020.reproject(crs = projection, scale = 1000)\n",
    "GPW_PopDensity_2020_proj = GPWdataset_2020_proj.select('population_density').clip(roi_proj_gee)"
   ]
  },
  {
   "cell_type": "code",
   "execution_count": 13,
   "id": "bd5183e5-cf48-4bc1-a2c3-b656242a3af7",
   "metadata": {},
   "outputs": [],
   "source": [
    "vis_roi = {'color': '#FF0000', 'width': 2,'lineType': 'solid','fillColor': '00000000'}"
   ]
  },
  {
   "cell_type": "code",
   "execution_count": 14,
   "id": "98586e32-984a-43de-bd52-b62f3261fd77",
   "metadata": {},
   "outputs": [],
   "source": [
    "popden_visParameter = {'palette': ['ffffe7', 'FFc869', 'ffac1d','e17735', 'f2552c', '9f0c21'], 'min' : 0, 'max': 10000};"
   ]
  },
  {
   "cell_type": "code",
   "execution_count": 15,
   "id": "b4fa4a3b-1792-4892-b0f1-5ec948deb4ba",
   "metadata": {},
   "outputs": [
    {
     "data": {
      "application/vnd.jupyter.widget-view+json": {
       "model_id": "8f1b04e177734ab095961766324e124d",
       "version_major": 2,
       "version_minor": 0
      },
      "text/plain": [
       "Map(center=[54.054506083864226, -2.7955740978441677], controls=(WidgetControl(options=['position', 'transparen…"
      ]
     },
     "metadata": {},
     "output_type": "display_data"
    }
   ],
   "source": [
    "Map = geemap.Map()\n",
    "Map.add_basemap('HYBRID')\n",
    "\n",
    "Map.centerObject(roi_proj_gee, 8)\n",
    "\n",
    "# Add individual layer map\n",
    "Map.addLayer(GPW_PopDensity_2000_proj, popden_visParameter, 'RoI - GPW Population Density 2000')\n",
    "Map.addLayer(GPW_PopDensity_2005_proj, popden_visParameter, 'RoI - GPW Population Density 2005')\n",
    "Map.addLayer(GPW_PopDensity_2010_proj, popden_visParameter, 'RoI - GPW Population Density 2010')\n",
    "Map.addLayer(GPW_PopDensity_2015_proj, popden_visParameter, 'RoI - GPW Population Density 2015')\n",
    "Map.addLayer(GPW_PopDensity_2020_proj, popden_visParameter, 'RoI - GPW Population Density 2020')\n",
    "Map.addLayer(roi_proj_gee.style(**vis_roi), {}, \"Region of Interest\")\n",
    "\n",
    "Map"
   ]
  },
  {
   "cell_type": "code",
   "execution_count": 16,
   "id": "ab1373d3-8e64-4af7-9985-88337fd2caf7",
   "metadata": {},
   "outputs": [
    {
     "data": {
      "application/vnd.jupyter.widget-view+json": {
       "model_id": "c0c28434801b4a408bad8436540afbc6",
       "version_major": 2,
       "version_minor": 0
      },
      "text/plain": [
       "Map(center=[54.054506083864226, -2.7955740978441677], controls=(ZoomControl(options=['position', 'zoom_in_text…"
      ]
     },
     "metadata": {},
     "output_type": "display_data"
    }
   ],
   "source": [
    "SplitMap = geemap.Map()\n",
    "SplitMap.add_basemap('HYBRID')\n",
    "\n",
    "SplitMap.centerObject(roi_proj_gee, 8)\n",
    "\n",
    "left_layer = geemap.ee_tile_layer(GPW_PopDensity_2000_proj, popden_visParameter, 'GPW Population Density 2000')\n",
    "right_layer = geemap.ee_tile_layer(GPW_PopDensity_2020_proj, popden_visParameter, 'GPW Population Density 2020')\n",
    "SplitMap.split_map(left_layer, right_layer)\n",
    "SplitMap"
   ]
  },
  {
   "cell_type": "code",
   "execution_count": 17,
   "id": "6ea03b76-607a-4931-aca4-396968a99afa",
   "metadata": {},
   "outputs": [],
   "source": [
    "years_GPW = ee.List.sequence(2000, 2020, 5)\n",
    "\n",
    "def get_GPW_images(year):\n",
    "\n",
    "    start_date = ee.Date.fromYMD(year, 1, 1)\n",
    "    end_date = ee.Date.fromYMD(year, 12, 31)\n",
    "    image = (\n",
    "        ee.ImageCollection('CIESIN/GPWv411/GPW_Population_Density')\n",
    "        .filter(ee.Filter.date(start_date, end_date))\n",
    "        .first()\n",
    "        .clip(roi_proj_4326_gee)\n",
    "    )\n",
    "    return ee.Image(image)\n",
    "\n",
    "collection_GPW = ee.ImageCollection(years_GPW.map(get_GPW_images))"
   ]
  },
  {
   "cell_type": "code",
   "execution_count": 19,
   "id": "4e220ca8-059d-40f2-887c-dec76fb38943",
   "metadata": {},
   "outputs": [
    {
     "name": "stdout",
     "output_type": "stream",
     "text": [
      "Downloading 1/5: gpw_v4_population_density_rev11_2000_30_sec.png ...\n",
      "Downloading 2/5: gpw_v4_population_density_rev11_2005_30_sec.png ...\n",
      "Downloading 3/5: gpw_v4_population_density_rev11_2010_30_sec.png ...\n",
      "Downloading 4/5: gpw_v4_population_density_rev11_2015_30_sec.png ...\n",
      "Downloading 5/5: gpw_v4_population_density_rev11_2020_30_sec.png ...\n",
      "GIF saved to C:\\Users\\FadliUwaisElqorni\\OneDrive - SYSTEMIQ Ltd\\Documents\\Temporary\\Revalue\\Rapid Assessment Script\\Global Population Assessment\\UK Test 2\\geemap_PopulationAssessment\\GPW_TimeLapse_PopDens\\UK Test 2_GPW_PopDens2000_2020.gif\n"
     ]
    }
   ],
   "source": [
    "#GPW_timelapse_visParam = {'bands' : 'population_density', 'palette': ['ffffe7', 'FFc869', 'ffac1d','e17735', 'f2552c', '9f0c21'], 'min' : 0, 'max': 500}\n",
    "GPW_timelapse_visParam = {'bands' : ['population_density'], 'min' : 0, 'max': 100}\n",
    "cartoee.get_image_collection_gif(\n",
    "    ee_ic = collection_GPW,\n",
    "    out_dir = os.path.expanduser(out_dir + '/GPW_TimeLapse_PopDens'),\n",
    "    out_gif = projectname + \"_GPW_PopDens2000_2020.gif\",\n",
    "    vis_params = GPW_timelapse_visParam,\n",
    "    region = bbox_roi,\n",
    "    cmap = 'hot',\n",
    "    fps = 5,\n",
    "    mp4 = False,\n",
    "    grid_interval = (0.5, 0.5),\n",
    "    plot_title = projectname + \" - Population Density (Population/km2)\",\n",
    "    date_format='YYYY',\n",
    "    fig_size=(15, 12),\n",
    "    dpi_plot=100,\n",
    "    file_format=\"png\",\n",
    "    north_arrow_dict=north_arrow_dict,\n",
    "    scale_bar_dict=scale_bar_dict,\n",
    "    verbose=True,\n",
    ")"
   ]
  },
  {
   "cell_type": "code",
   "execution_count": 20,
   "id": "03a15821-89f7-447f-95ff-3d381b6f90f4",
   "metadata": {},
   "outputs": [],
   "source": [
    "# 1. GPW Population Density 2000\n",
    "geemap.ee_export_image_to_drive(\n",
    "    GPW_PopDensity_2000_proj,\n",
    "    description = projectname + '_GPW_PopDensity_2000_roi',\n",
    "    folder = projectname + '_Population_Assessment',\n",
    "    fileNamePrefix = projectname + '_GPW_PopDensity_2000_roi',\n",
    "    scale = 1000,\n",
    "    crs = projection,\n",
    "    maxPixels= 1e12,\n",
    "    region = roi_proj_gee.geometry()\n",
    ")\n",
    "\n",
    "# 2. GPW Population Density 2005\n",
    "geemap.ee_export_image_to_drive(\n",
    "    GPW_PopDensity_2005_proj,\n",
    "    description = projectname + '_GPW_PopDensity_2005_roi',\n",
    "    folder = projectname + '_Population_Assessment',\n",
    "    fileNamePrefix = projectname + '_GPW_PopDensity_2005_roi',\n",
    "    scale = 1000,\n",
    "    crs = projection,\n",
    "    maxPixels= 1e12,\n",
    "    region = roi_proj_gee.geometry()\n",
    ")\n",
    "\n",
    "# 3. GPW Population Density 2010\n",
    "geemap.ee_export_image_to_drive(\n",
    "    GPW_PopDensity_2010_proj,\n",
    "    description = projectname + '_GPW_PopDensity_2010_roi',\n",
    "    folder = projectname + '_Population_Assessment',\n",
    "    fileNamePrefix = projectname + '_GPW_PopDensity_2010_roi',\n",
    "    scale = 1000,\n",
    "    crs = projection,\n",
    "    maxPixels= 1e12,\n",
    "    region = roi_proj_gee.geometry()\n",
    ")\n",
    "\n",
    "# 4. GPW Population Density 2015\n",
    "geemap.ee_export_image_to_drive(\n",
    "    GPW_PopDensity_2015_proj,\n",
    "    description = projectname + '_GPW_PopDensity_2015_roi',\n",
    "    folder = projectname + '_Population_Assessment',\n",
    "    fileNamePrefix = projectname + '_GPW_PopDensity_2015_roi',\n",
    "    scale = 1000,\n",
    "    crs = projection,\n",
    "    maxPixels= 1e12,\n",
    "    region = roi_proj_gee.geometry()\n",
    ")\n",
    "\n",
    "# 5. GPW Population Density 2020\n",
    "geemap.ee_export_image_to_drive(\n",
    "    GPW_PopDensity_2020_proj,\n",
    "    description = projectname + '_GPW_PopDensity_2020_roi',\n",
    "    folder = projectname + '_Population_Assessment',\n",
    "    fileNamePrefix = projectname + '_GPW_PopDensity_2020_roi',\n",
    "    scale = 1000,\n",
    "    crs = projection,\n",
    "    maxPixels= 1e12,\n",
    "    region = roi_proj_gee.geometry()\n",
    ")"
   ]
  },
  {
   "cell_type": "markdown",
   "id": "8aff27e3-512b-458f-b554-84a7842706b0",
   "metadata": {},
   "source": [
    "## GHSL: Global Human Settlement Layers, Population Grid 1975-1990-2000-2015 (P2016)"
   ]
  },
  {
   "cell_type": "markdown",
   "id": "5b39ff03-ef21-44a0-8ad0-97c44172a7a9",
   "metadata": {},
   "source": [
    "This dataset depicts the distribution and density of population, expressed as the number of people per cell, for reference epochs: 1975, 1990, 2000, 2015.\n",
    "Residential population estimates were provided by CIESIN GPW v4. These were disaggregated from census or administrative units to grid cells, informed by the distribution and density of built-up as mapped in the GHSL global layer per corresponding epoch.\n",
    "\n",
    "The value represent Number of people per cell. (Pixel resolution = 250 m)"
   ]
  },
  {
   "cell_type": "code",
   "execution_count": 21,
   "id": "2f3944bd-9942-4b9d-a732-8905a4c5e093",
   "metadata": {},
   "outputs": [],
   "source": [
    "# GHSL Population Count 2000\n",
    "GHSL_dataset_2000 = ee.ImageCollection('JRC/GHSL/P2016/POP_GPW_GLOBE_V1').filterDate('2000-01-01', '2000-12-31').first()\n",
    "GHSL_dataset_2000_proj = GHSL_dataset_2000.reproject(crs = projection, scale = 250).clip(roi_proj_gee)\n",
    "GHSL_PopCount_2000_proj = GHSL_dataset_2000_proj.select('population_count')\n",
    "\n",
    "# GHSL Population Count 2015\n",
    "GHSL_dataset_2015 = ee.ImageCollection('JRC/GHSL/P2016/POP_GPW_GLOBE_V1').filterDate('2015-01-01', '2015-12-31').first()\n",
    "GHSL_dataset_2015_proj = GHSL_dataset_2015.reproject(crs = projection, scale = 250).clip(roi_proj_gee)\n",
    "GHSL_PopCount_2015_proj = GHSL_dataset_2015_proj.select('population_count')"
   ]
  },
  {
   "cell_type": "code",
   "execution_count": 22,
   "id": "aaa83e91-d783-42be-8eab-e7e01bda0825",
   "metadata": {},
   "outputs": [],
   "source": [
    "popCount_visParameter = {'palette': ['060606', '337663', 'f5b301', 'fed053'], 'min' : 0, 'max': 1000};"
   ]
  },
  {
   "cell_type": "code",
   "execution_count": 23,
   "id": "90a34b06-571b-4c54-afc2-984b4a9a1c43",
   "metadata": {},
   "outputs": [
    {
     "data": {
      "application/vnd.jupyter.widget-view+json": {
       "model_id": "b6f9390794fd4fedabbf6f8df2e79fff",
       "version_major": 2,
       "version_minor": 0
      },
      "text/plain": [
       "Map(center=[54.054506083864226, -2.7955740978441677], controls=(WidgetControl(options=['position', 'transparen…"
      ]
     },
     "metadata": {},
     "output_type": "display_data"
    }
   ],
   "source": [
    "Map2 = geemap.Map()\n",
    "Map2.add_basemap('HYBRID')\n",
    "\n",
    "Map2.centerObject(roi_proj_gee, 8)\n",
    "\n",
    "# Add individual layer map\n",
    "Map2.addLayer(GHSL_PopCount_2000_proj, popCount_visParameter, 'RoI - GHSL Population Count 2000')\n",
    "Map2.addLayer(GHSL_PopCount_2015_proj, popCount_visParameter, 'RoI - GHSL Population Count 2015')\n",
    "Map2.addLayer(roi_proj_gee.style(**vis_roi), {}, \"Region of Interest\")\n",
    "#Map2.addLayer(GHSL_PopCount_2015, popCount_visParameter, 'RoI - GHSL Population Count 2015')\n",
    "\n",
    "Map2"
   ]
  },
  {
   "cell_type": "code",
   "execution_count": 24,
   "id": "10696b17-177a-4144-8ec6-2cb49cd84737",
   "metadata": {},
   "outputs": [
    {
     "data": {
      "application/vnd.jupyter.widget-view+json": {
       "model_id": "93de6539ae6f4fa3a9e4e95146b941ca",
       "version_major": 2,
       "version_minor": 0
      },
      "text/plain": [
       "Map(center=[54.054506083864226, -2.7955740978441677], controls=(ZoomControl(options=['position', 'zoom_in_text…"
      ]
     },
     "metadata": {},
     "output_type": "display_data"
    }
   ],
   "source": [
    "SplitMap2 = geemap.Map()\n",
    "SplitMap2.add_basemap('HYBRID')\n",
    "\n",
    "SplitMap2.centerObject(roi_proj_gee, 8)\n",
    "\n",
    "left_layer2 = geemap.ee_tile_layer(GHSL_PopCount_2000_proj, popCount_visParameter, 'RoI - GHSL Population Count 2000')\n",
    "right_layer2 = geemap.ee_tile_layer(GHSL_PopCount_2015_proj, popCount_visParameter, 'RoI - GHSL Population Count 2015')\n",
    "SplitMap2.split_map(left_layer2, right_layer2)\n",
    "SplitMap2"
   ]
  },
  {
   "cell_type": "code",
   "execution_count": 25,
   "id": "0023a18e-7d86-465d-94a9-3e58d9d83ab4",
   "metadata": {},
   "outputs": [],
   "source": [
    "years_GHSL = ee.List.sequence(2000, 2015, 15)\n",
    "\n",
    "def get_GHSL_images(year):\n",
    "\n",
    "    start_date = ee.Date.fromYMD(year, 1, 1)\n",
    "    end_date = ee.Date.fromYMD(year, 12, 31)\n",
    "    image = (\n",
    "        ee.ImageCollection('JRC/GHSL/P2016/POP_GPW_GLOBE_V1')\n",
    "        .filter(ee.Filter.date(start_date, end_date))\n",
    "        .first()\n",
    "        .clip(roi_proj_4326_gee)\n",
    "    )\n",
    "    return ee.Image(image)\n",
    "\n",
    "\n",
    "collection_GHSL = ee.ImageCollection(years_GHSL.map(get_GHSL_images))"
   ]
  },
  {
   "cell_type": "code",
   "execution_count": 26,
   "id": "8ba31341-030e-4546-864b-b097886f79f8",
   "metadata": {},
   "outputs": [
    {
     "name": "stdout",
     "output_type": "stream",
     "text": [
      "Downloading 1/2: 2000.png ...\n",
      "Downloading 2/2: 2015.png ...\n",
      "GIF saved to C:\\Users\\FadliUwaisElqorni\\OneDrive - SYSTEMIQ Ltd\\Documents\\Temporary\\Revalue\\Rapid Assessment Script\\Global Population Assessment\\UK Test 2\\geemap_PopulationAssessment\\GHSL_TimeLapse_PopCount\\UK Test 2_GHSL_PopCount2000_2015.gif\n"
     ]
    }
   ],
   "source": [
    "GHSL_timelapse_visParam = {'bands' : 'population_count', 'min' : 0, 'max': 100}\n",
    "cartoee.get_image_collection_gif(\n",
    "    ee_ic = collection_GHSL,\n",
    "    out_dir = os.path.expanduser(out_dir + '/GHSL_TimeLapse_PopCount'),\n",
    "    out_gif = projectname + \"_GHSL_PopCount2000_2015.gif\",\n",
    "    vis_params = GHSL_timelapse_visParam,\n",
    "    region = bbox_roi,\n",
    "    cmap = 'hot',\n",
    "    fps = 5,\n",
    "    mp4 = False,\n",
    "    grid_interval = (0.5, 0.5),\n",
    "    plot_title = projectname + \" - Population Count per cell\",\n",
    "    date_format='YYYY',\n",
    "    fig_size=(15, 12),\n",
    "    dpi_plot=100,\n",
    "    file_format=\"png\",\n",
    "    north_arrow_dict=north_arrow_dict,\n",
    "    scale_bar_dict=scale_bar_dict,\n",
    "    verbose=True,\n",
    ")"
   ]
  },
  {
   "cell_type": "code",
   "execution_count": 27,
   "id": "7bb0a434-1919-42cd-81d2-7aa607ec58c7",
   "metadata": {},
   "outputs": [],
   "source": [
    "# 1. GPW Population Density 2000\n",
    "geemap.ee_export_image_to_drive(\n",
    "    GHSL_PopCount_2000_proj,\n",
    "    description = projectname + '_GHSL_PopCount_2000_roi',\n",
    "    folder = projectname + '_Population_Assessment',\n",
    "    fileNamePrefix = projectname + '_GHSL_PopCount_2000_roi',\n",
    "    scale = 1000,\n",
    "    crs = projection,\n",
    "    maxPixels= 1e12,\n",
    "    region = roi_proj_gee.geometry()\n",
    ")\n",
    "# 2. GPW Population Density 2015\n",
    "geemap.ee_export_image_to_drive(\n",
    "    GHSL_PopCount_2015_proj,\n",
    "    description = projectname + '_GHSL_PopCount_2015_roi',\n",
    "    folder = projectname + '_Population_Assessment',\n",
    "    fileNamePrefix = projectname + '_GHSL_PopCount_2015_roi',\n",
    "    scale = 1000,\n",
    "    crs = projection,\n",
    "    maxPixels= 1e12,\n",
    "    region = roi_proj_gee.geometry()\n",
    ")"
   ]
  },
  {
   "cell_type": "markdown",
   "id": "104ba546-71bd-468e-802e-7f3c4f3df70c",
   "metadata": {},
   "source": [
    "## WorldPop Global Project Population Data: Estimated Residential Population per 100x100m Grid Square "
   ]
  },
  {
   "cell_type": "markdown",
   "id": "ccde9e9c-67c7-4e74-85f0-d0e59867e34f",
   "metadata": {},
   "source": [
    "Recent census-based population counts matched to their associated administrative units are disaggregated to ~100x100m grid cells through machine learning approaches that exploit the relationships between population densities and a range of geospatial covariate layers. The mapping approach is Random Forest-based dasymetric redistribution. This dataset depict estimated number of people residing in each grid cell in 2010, 2015, and other years.\n",
    "\n",
    "The value represent estimated number of people residing in each grid cell (Resolution = 100 meter)"
   ]
  },
  {
   "cell_type": "code",
   "execution_count": 28,
   "id": "8803a227-d153-4c4a-b974-6206fce8c9d3",
   "metadata": {},
   "outputs": [],
   "source": [
    "# 1. WorldPop 2000\n",
    "WorldPop_dataset_2000 = ee.ImageCollection('WorldPop/GP/100m/pop').filterDate('2000-01-01', '2000-12-31').median()\n",
    "WorldPop_dataset_2000_proj = WorldPop_dataset_2000.reproject(crs = projection, scale = 250).clip(roi_proj_gee)\n",
    "WorldPop_PopCount_2000_proj = WorldPop_dataset_2000_proj.select('population')\n",
    "\n",
    "# 2. WorldPop 2005\n",
    "WorldPop_dataset_2005 = ee.ImageCollection('WorldPop/GP/100m/pop').filterDate('2005-01-01', '2005-12-31').median()\n",
    "WorldPop_dataset_2005_proj = WorldPop_dataset_2005.reproject(crs = projection, scale = 250).clip(roi_proj_gee)\n",
    "WorldPop_PopCount_2005_proj = WorldPop_dataset_2005_proj.select('population')\n",
    "\n",
    "# 3. WorldPop 2010\n",
    "WorldPop_dataset_2010 = ee.ImageCollection('WorldPop/GP/100m/pop').filterDate('2010-01-01', '2010-12-31').median()\n",
    "WorldPop_dataset_2010_proj = WorldPop_dataset_2010.reproject(crs = projection, scale = 250).clip(roi_proj_gee)\n",
    "WorldPop_PopCount_2010_proj = WorldPop_dataset_2010_proj.select('population')\n",
    "\n",
    "# 4. WorldPop 2015\n",
    "WorldPop_dataset_2015 = ee.ImageCollection('WorldPop/GP/100m/pop').filterDate('2015-01-01', '2015-12-31').median()\n",
    "WorldPop_dataset_2015_proj = WorldPop_dataset_2015.reproject(crs = projection, scale = 250).clip(roi_proj_gee)\n",
    "WorldPop_PopCount_2015_proj = WorldPop_dataset_2015_proj.select('population')\n",
    "\n",
    "# 5. WorldPop 2020\n",
    "WorldPop_dataset_2020 = ee.ImageCollection('WorldPop/GP/100m/pop').filterDate('2020-01-01', '2020-12-31').median()\n",
    "WorldPop_dataset_2020_proj = WorldPop_dataset_2020.reproject(crs = projection, scale = 250).clip(roi_proj_gee)\n",
    "WorldPop_PopCount_2020_proj = WorldPop_dataset_2020_proj.select('population')\n"
   ]
  },
  {
   "cell_type": "code",
   "execution_count": 29,
   "id": "fc44b674-4cc2-45d3-8c0e-c285f3f65906",
   "metadata": {},
   "outputs": [],
   "source": [
    "worldpopCount_visParameter = {'palette': ['060606', '337663', 'f5b301', 'fed053'], 'min' : 0, 'max': 50};"
   ]
  },
  {
   "cell_type": "code",
   "execution_count": 30,
   "id": "f6ee8458-68e3-4c74-90bc-64b1aec56a50",
   "metadata": {},
   "outputs": [
    {
     "data": {
      "application/vnd.jupyter.widget-view+json": {
       "model_id": "c545778f822d4c44967341e8b0f70781",
       "version_major": 2,
       "version_minor": 0
      },
      "text/plain": [
       "Map(center=[54.054506083864226, -2.7955740978441677], controls=(WidgetControl(options=['position', 'transparen…"
      ]
     },
     "metadata": {},
     "output_type": "display_data"
    }
   ],
   "source": [
    "Map3 = geemap.Map()\n",
    "Map3.add_basemap('HYBRID')\n",
    "\n",
    "Map3.centerObject(roi_proj_gee, 8)\n",
    "\n",
    "# Add individual layer map\n",
    "Map3.addLayer(WorldPop_PopCount_2000_proj, worldpopCount_visParameter, 'RoI - WorldPop Population Count 2000')\n",
    "Map3.addLayer(WorldPop_PopCount_2005_proj, worldpopCount_visParameter, 'RoI - WorldPop Population Count 2005')\n",
    "Map3.addLayer(WorldPop_PopCount_2010_proj, worldpopCount_visParameter, 'RoI - WorldPop Population Count 2010')\n",
    "Map3.addLayer(WorldPop_PopCount_2015_proj, worldpopCount_visParameter, 'RoI - WorldPop Population Count 2015')\n",
    "Map3.addLayer(WorldPop_PopCount_2020_proj, worldpopCount_visParameter, 'RoI - WorldPop Population Count 2020')\n",
    "Map3.addLayer(roi_proj_gee.style(**vis_roi), {}, \"Region of Interest\")\n",
    "\n",
    "Map3"
   ]
  },
  {
   "cell_type": "code",
   "execution_count": null,
   "id": "5520bd83-71d0-4b7f-92c4-590449708c9c",
   "metadata": {},
   "outputs": [
    {
     "data": {
      "application/vnd.jupyter.widget-view+json": {
       "model_id": "3f7a9ccc4ffe4d8392f17906d2a574b7",
       "version_major": 2,
       "version_minor": 0
      },
      "text/plain": [
       "Map(center=[54.054506083864226, -2.7955740978441677], controls=(ZoomControl(options=['position', 'zoom_in_text…"
      ]
     },
     "metadata": {},
     "output_type": "display_data"
    }
   ],
   "source": [
    "SplitMap3 = geemap.Map()\n",
    "SplitMap3.add_basemap('HYBRID')\n",
    "\n",
    "SplitMap3.centerObject(roi_proj_gee, 8)\n",
    "\n",
    "left_layer3 = geemap.ee_tile_layer(WorldPop_PopCount_2000_proj, worldpopCount_visParameter, 'RoI - WorldPop Population Count 2000')\n",
    "right_layer3 = geemap.ee_tile_layer(WorldPop_PopCount_2020_proj, worldpopCount_visParameter, 'RoI - WorldPop Population Count 2020')\n",
    "SplitMap3.split_map(left_layer3, right_layer3)\n",
    "SplitMap3"
   ]
  },
  {
   "cell_type": "code",
   "execution_count": 53,
   "id": "e75f01dd-241c-46be-aed1-07f70107eb70",
   "metadata": {},
   "outputs": [
    {
     "ename": "UnboundLocalError",
     "evalue": "local variable 'image' referenced before assignment",
     "output_type": "error",
     "traceback": [
      "\u001b[1;31m---------------------------------------------------------------------------\u001b[0m",
      "\u001b[1;31mUnboundLocalError\u001b[0m                         Traceback (most recent call last)",
      "Input \u001b[1;32mIn [53]\u001b[0m, in \u001b[0;36m<cell line: 17>\u001b[1;34m()\u001b[0m\n\u001b[0;32m      7\u001b[0m     image \u001b[38;5;241m=\u001b[39m (\n\u001b[0;32m      8\u001b[0m         ee\u001b[38;5;241m.\u001b[39mImageCollection(\u001b[38;5;124m'\u001b[39m\u001b[38;5;124mWorldPop/GP/100m/pop\u001b[39m\u001b[38;5;124m'\u001b[39m)\n\u001b[0;32m      9\u001b[0m         \u001b[38;5;241m.\u001b[39mfilterDate(start_date, end_date)\n\u001b[1;32m   (...)\u001b[0m\n\u001b[0;32m     13\u001b[0m         \u001b[38;5;241m.\u001b[39mclip(roi_proj_4326_gee)\n\u001b[0;32m     14\u001b[0m     )\n\u001b[0;32m     15\u001b[0m     \u001b[38;5;28;01mreturn\u001b[39;00m ee\u001b[38;5;241m.\u001b[39mImage(image)\n\u001b[1;32m---> 17\u001b[0m collection_WorldPop \u001b[38;5;241m=\u001b[39m ee\u001b[38;5;241m.\u001b[39mImageCollection(\u001b[43myears_WorldPop\u001b[49m\u001b[38;5;241;43m.\u001b[39;49m\u001b[43mmap\u001b[49m\u001b[43m(\u001b[49m\u001b[43mget_WorldPop_images\u001b[49m\u001b[43m)\u001b[49m)\n\u001b[0;32m     19\u001b[0m \u001b[38;5;28;01mdef\u001b[39;00m \u001b[38;5;21mclip_ImageCollection\u001b[39m(images):\n\u001b[0;32m     20\u001b[0m     Single_image \u001b[38;5;241m=\u001b[39m images\u001b[38;5;241m.\u001b[39mclip(roi_proj_4326_gee)\n",
      "File \u001b[1;32m~\\.conda\\envs\\geemap\\lib\\site-packages\\ee\\apifunction.py:205\u001b[0m, in \u001b[0;36mApiFunction.importApi.<locals>.MakeBoundFunction.<locals>.<lambda>\u001b[1;34m(*args, **kwargs)\u001b[0m\n\u001b[0;32m    203\u001b[0m \u001b[38;5;28;01mdef\u001b[39;00m \u001b[38;5;21mMakeBoundFunction\u001b[39m(func):\n\u001b[0;32m    204\u001b[0m   \u001b[38;5;66;03m# We need the lambda to capture \"func\" from the enclosing scope.\u001b[39;00m\n\u001b[1;32m--> 205\u001b[0m   \u001b[38;5;28;01mreturn\u001b[39;00m \u001b[38;5;28;01mlambda\u001b[39;00m \u001b[38;5;241m*\u001b[39margs, \u001b[38;5;241m*\u001b[39m\u001b[38;5;241m*\u001b[39mkwargs: \u001b[43mfunc\u001b[49m\u001b[38;5;241;43m.\u001b[39;49m\u001b[43mcall\u001b[49m\u001b[43m(\u001b[49m\u001b[38;5;241;43m*\u001b[39;49m\u001b[43margs\u001b[49m\u001b[43m,\u001b[49m\u001b[43m \u001b[49m\u001b[38;5;241;43m*\u001b[39;49m\u001b[38;5;241;43m*\u001b[39;49m\u001b[43mkwargs\u001b[49m\u001b[43m)\u001b[49m\n",
      "File \u001b[1;32m~\\.conda\\envs\\geemap\\lib\\site-packages\\ee\\function.py:67\u001b[0m, in \u001b[0;36mFunction.call\u001b[1;34m(self, *args, **kwargs)\u001b[0m\n\u001b[0;32m     55\u001b[0m \u001b[38;5;28;01mdef\u001b[39;00m \u001b[38;5;21mcall\u001b[39m(\u001b[38;5;28mself\u001b[39m, \u001b[38;5;241m*\u001b[39margs, \u001b[38;5;241m*\u001b[39m\u001b[38;5;241m*\u001b[39mkwargs):\n\u001b[0;32m     56\u001b[0m   \u001b[38;5;124;03m\"\"\"Calls the function with the given positional and keyword arguments.\u001b[39;00m\n\u001b[0;32m     57\u001b[0m \n\u001b[0;32m     58\u001b[0m \u001b[38;5;124;03m  Args:\u001b[39;00m\n\u001b[1;32m   (...)\u001b[0m\n\u001b[0;32m     65\u001b[0m \u001b[38;5;124;03m    to that type.\u001b[39;00m\n\u001b[0;32m     66\u001b[0m \u001b[38;5;124;03m  \"\"\"\u001b[39;00m\n\u001b[1;32m---> 67\u001b[0m   \u001b[38;5;28;01mreturn\u001b[39;00m \u001b[38;5;28;43mself\u001b[39;49m\u001b[38;5;241;43m.\u001b[39;49m\u001b[43mapply\u001b[49m\u001b[43m(\u001b[49m\u001b[38;5;28;43mself\u001b[39;49m\u001b[38;5;241;43m.\u001b[39;49m\u001b[43mnameArgs\u001b[49m\u001b[43m(\u001b[49m\u001b[43margs\u001b[49m\u001b[43m,\u001b[49m\u001b[43m \u001b[49m\u001b[43mkwargs\u001b[49m\u001b[43m)\u001b[49m\u001b[43m)\u001b[49m\n",
      "File \u001b[1;32m~\\.conda\\envs\\geemap\\lib\\site-packages\\ee\\function.py:80\u001b[0m, in \u001b[0;36mFunction.apply\u001b[1;34m(self, named_args)\u001b[0m\n\u001b[0;32m     69\u001b[0m \u001b[38;5;28;01mdef\u001b[39;00m \u001b[38;5;21mapply\u001b[39m(\u001b[38;5;28mself\u001b[39m, named_args):\n\u001b[0;32m     70\u001b[0m   \u001b[38;5;124;03m\"\"\"Calls the function with a dictionary of named arguments.\u001b[39;00m\n\u001b[0;32m     71\u001b[0m \n\u001b[0;32m     72\u001b[0m \u001b[38;5;124;03m  Args:\u001b[39;00m\n\u001b[1;32m   (...)\u001b[0m\n\u001b[0;32m     78\u001b[0m \u001b[38;5;124;03m    to that type.\u001b[39;00m\n\u001b[0;32m     79\u001b[0m \u001b[38;5;124;03m  \"\"\"\u001b[39;00m\n\u001b[1;32m---> 80\u001b[0m   result \u001b[38;5;241m=\u001b[39m computedobject\u001b[38;5;241m.\u001b[39mComputedObject(\u001b[38;5;28mself\u001b[39m, \u001b[38;5;28;43mself\u001b[39;49m\u001b[38;5;241;43m.\u001b[39;49m\u001b[43mpromoteArgs\u001b[49m\u001b[43m(\u001b[49m\u001b[43mnamed_args\u001b[49m\u001b[43m)\u001b[49m)\n\u001b[0;32m     81\u001b[0m   \u001b[38;5;28;01mreturn\u001b[39;00m Function\u001b[38;5;241m.\u001b[39m_promoter(result, \u001b[38;5;28mself\u001b[39m\u001b[38;5;241m.\u001b[39mgetReturnType())\n",
      "File \u001b[1;32m~\\.conda\\envs\\geemap\\lib\\site-packages\\ee\\function.py:107\u001b[0m, in \u001b[0;36mFunction.promoteArgs\u001b[1;34m(self, args)\u001b[0m\n\u001b[0;32m    105\u001b[0m name \u001b[38;5;241m=\u001b[39m spec[\u001b[38;5;124m'\u001b[39m\u001b[38;5;124mname\u001b[39m\u001b[38;5;124m'\u001b[39m]\n\u001b[0;32m    106\u001b[0m \u001b[38;5;28;01mif\u001b[39;00m name \u001b[38;5;129;01min\u001b[39;00m args:\n\u001b[1;32m--> 107\u001b[0m   promoted_args[name] \u001b[38;5;241m=\u001b[39m \u001b[43mFunction\u001b[49m\u001b[38;5;241;43m.\u001b[39;49m\u001b[43m_promoter\u001b[49m\u001b[43m(\u001b[49m\u001b[43margs\u001b[49m\u001b[43m[\u001b[49m\u001b[43mname\u001b[49m\u001b[43m]\u001b[49m\u001b[43m,\u001b[49m\u001b[43m \u001b[49m\u001b[43mspec\u001b[49m\u001b[43m[\u001b[49m\u001b[38;5;124;43m'\u001b[39;49m\u001b[38;5;124;43mtype\u001b[39;49m\u001b[38;5;124;43m'\u001b[39;49m\u001b[43m]\u001b[49m\u001b[43m)\u001b[49m\n\u001b[0;32m    108\u001b[0m \u001b[38;5;28;01melif\u001b[39;00m \u001b[38;5;129;01mnot\u001b[39;00m spec\u001b[38;5;241m.\u001b[39mget(\u001b[38;5;124m'\u001b[39m\u001b[38;5;124moptional\u001b[39m\u001b[38;5;124m'\u001b[39m):\n\u001b[0;32m    109\u001b[0m   \u001b[38;5;28;01mraise\u001b[39;00m ee_exception\u001b[38;5;241m.\u001b[39mEEException(\n\u001b[0;32m    110\u001b[0m       \u001b[38;5;124m'\u001b[39m\u001b[38;5;124mRequired argument (\u001b[39m\u001b[38;5;132;01m%s\u001b[39;00m\u001b[38;5;124m) missing to function: \u001b[39m\u001b[38;5;132;01m%s\u001b[39;00m\u001b[38;5;124m'\u001b[39m\n\u001b[0;32m    111\u001b[0m       \u001b[38;5;241m%\u001b[39m (name, \u001b[38;5;28mself\u001b[39m\u001b[38;5;241m.\u001b[39mname))\n",
      "File \u001b[1;32m~\\.conda\\envs\\geemap\\lib\\site-packages\\ee\\__init__.py:261\u001b[0m, in \u001b[0;36m_Promote\u001b[1;34m(arg, klass)\u001b[0m\n\u001b[0;32m    259\u001b[0m   \u001b[38;5;28;01melse\u001b[39;00m:\n\u001b[0;32m    260\u001b[0m     args_count \u001b[38;5;241m=\u001b[39m \u001b[38;5;28mlen\u001b[39m(inspect\u001b[38;5;241m.\u001b[39mgetfullargspec(arg)\u001b[38;5;241m.\u001b[39margs)\n\u001b[1;32m--> 261\u001b[0m   \u001b[38;5;28;01mreturn\u001b[39;00m \u001b[43mCustomFunction\u001b[49m\u001b[38;5;241;43m.\u001b[39;49m\u001b[43mcreate\u001b[49m\u001b[43m(\u001b[49m\u001b[43marg\u001b[49m\u001b[43m,\u001b[49m\u001b[43m \u001b[49m\u001b[38;5;124;43m'\u001b[39;49m\u001b[38;5;124;43mObject\u001b[39;49m\u001b[38;5;124;43m'\u001b[39;49m\u001b[43m,\u001b[49m\u001b[43m \u001b[49m\u001b[43m[\u001b[49m\u001b[38;5;124;43m'\u001b[39;49m\u001b[38;5;124;43mObject\u001b[39;49m\u001b[38;5;124;43m'\u001b[39;49m\u001b[43m]\u001b[49m\u001b[43m \u001b[49m\u001b[38;5;241;43m*\u001b[39;49m\u001b[43m \u001b[49m\u001b[43margs_count\u001b[49m\u001b[43m)\u001b[49m\n\u001b[0;32m    262\u001b[0m \u001b[38;5;28;01melif\u001b[39;00m \u001b[38;5;28misinstance\u001b[39m(arg, Encodable):\n\u001b[0;32m    263\u001b[0m   \u001b[38;5;66;03m# An ee.Function or a computed function like the return value of\u001b[39;00m\n\u001b[0;32m    264\u001b[0m   \u001b[38;5;66;03m# Image.parseExpression().\u001b[39;00m\n\u001b[0;32m    265\u001b[0m   \u001b[38;5;28;01mreturn\u001b[39;00m arg\n",
      "File \u001b[1;32m~\\.conda\\envs\\geemap\\lib\\site-packages\\ee\\customfunction.py:125\u001b[0m, in \u001b[0;36mCustomFunction.create\u001b[1;34m(func, return_type, arg_types)\u001b[0m\n\u001b[0;32m    119\u001b[0m args \u001b[38;5;241m=\u001b[39m [{\u001b[38;5;124m'\u001b[39m\u001b[38;5;124mname\u001b[39m\u001b[38;5;124m'\u001b[39m: \u001b[38;5;28;01mNone\u001b[39;00m, \u001b[38;5;124m'\u001b[39m\u001b[38;5;124mtype\u001b[39m\u001b[38;5;124m'\u001b[39m: StringifyType(i)} \u001b[38;5;28;01mfor\u001b[39;00m i \u001b[38;5;129;01min\u001b[39;00m arg_types]\n\u001b[0;32m    120\u001b[0m signature \u001b[38;5;241m=\u001b[39m {\n\u001b[0;32m    121\u001b[0m     \u001b[38;5;124m'\u001b[39m\u001b[38;5;124mname\u001b[39m\u001b[38;5;124m'\u001b[39m: \u001b[38;5;124m'\u001b[39m\u001b[38;5;124m'\u001b[39m,\n\u001b[0;32m    122\u001b[0m     \u001b[38;5;124m'\u001b[39m\u001b[38;5;124mreturns\u001b[39m\u001b[38;5;124m'\u001b[39m: StringifyType(return_type),\n\u001b[0;32m    123\u001b[0m     \u001b[38;5;124m'\u001b[39m\u001b[38;5;124margs\u001b[39m\u001b[38;5;124m'\u001b[39m: args\n\u001b[0;32m    124\u001b[0m }\n\u001b[1;32m--> 125\u001b[0m \u001b[38;5;28;01mreturn\u001b[39;00m \u001b[43mCustomFunction\u001b[49m\u001b[43m(\u001b[49m\u001b[43msignature\u001b[49m\u001b[43m,\u001b[49m\u001b[43m \u001b[49m\u001b[43mfunc\u001b[49m\u001b[43m)\u001b[49m\n",
      "File \u001b[1;32m~\\.conda\\envs\\geemap\\lib\\site-packages\\ee\\customfunction.py:43\u001b[0m, in \u001b[0;36mCustomFunction.__init__\u001b[1;34m(self, signature, body)\u001b[0m\n\u001b[0;32m     29\u001b[0m \u001b[38;5;124;03m\"\"\"Creates a function defined by a given expression with unbound variables.\u001b[39;00m\n\u001b[0;32m     30\u001b[0m \n\u001b[0;32m     31\u001b[0m \u001b[38;5;124;03mThe expression is created by evaluating the given function\u001b[39;00m\n\u001b[1;32m   (...)\u001b[0m\n\u001b[0;32m     38\u001b[0m \u001b[38;5;124;03m  body: The Python function to evaluate.\u001b[39;00m\n\u001b[0;32m     39\u001b[0m \u001b[38;5;124;03m\"\"\"\u001b[39;00m\n\u001b[0;32m     40\u001b[0m variables \u001b[38;5;241m=\u001b[39m [CustomFunction\u001b[38;5;241m.\u001b[39mvariable(arg[\u001b[38;5;124m'\u001b[39m\u001b[38;5;124mtype\u001b[39m\u001b[38;5;124m'\u001b[39m], arg[\u001b[38;5;124m'\u001b[39m\u001b[38;5;124mname\u001b[39m\u001b[38;5;124m'\u001b[39m])\n\u001b[0;32m     41\u001b[0m              \u001b[38;5;28;01mfor\u001b[39;00m arg \u001b[38;5;129;01min\u001b[39;00m signature[\u001b[38;5;124m'\u001b[39m\u001b[38;5;124margs\u001b[39m\u001b[38;5;124m'\u001b[39m]]\n\u001b[1;32m---> 43\u001b[0m \u001b[38;5;28;01mif\u001b[39;00m \u001b[43mbody\u001b[49m\u001b[43m(\u001b[49m\u001b[38;5;241;43m*\u001b[39;49m\u001b[43mvariables\u001b[49m\u001b[43m)\u001b[49m \u001b[38;5;129;01mis\u001b[39;00m \u001b[38;5;28;01mNone\u001b[39;00m:\n\u001b[0;32m     44\u001b[0m   \u001b[38;5;28;01mraise\u001b[39;00m ee_exception\u001b[38;5;241m.\u001b[39mEEException(\u001b[38;5;124m'\u001b[39m\u001b[38;5;124mUser-defined methods must return a value\u001b[39m\u001b[38;5;124m'\u001b[39m)\n\u001b[0;32m     46\u001b[0m \u001b[38;5;66;03m# The signature of the function.\u001b[39;00m\n",
      "Input \u001b[1;32mIn [53]\u001b[0m, in \u001b[0;36mget_WorldPop_images\u001b[1;34m(year)\u001b[0m\n\u001b[0;32m      5\u001b[0m start_date \u001b[38;5;241m=\u001b[39m ee\u001b[38;5;241m.\u001b[39mDate\u001b[38;5;241m.\u001b[39mfromYMD(year, \u001b[38;5;241m1\u001b[39m, \u001b[38;5;241m1\u001b[39m)\n\u001b[0;32m      6\u001b[0m end_date \u001b[38;5;241m=\u001b[39m ee\u001b[38;5;241m.\u001b[39mDate\u001b[38;5;241m.\u001b[39mfromYMD(year, \u001b[38;5;241m12\u001b[39m, \u001b[38;5;241m31\u001b[39m)\n\u001b[0;32m      7\u001b[0m image \u001b[38;5;241m=\u001b[39m (\n\u001b[0;32m      8\u001b[0m     ee\u001b[38;5;241m.\u001b[39mImageCollection(\u001b[38;5;124m'\u001b[39m\u001b[38;5;124mWorldPop/GP/100m/pop\u001b[39m\u001b[38;5;124m'\u001b[39m)\n\u001b[0;32m      9\u001b[0m     \u001b[38;5;241m.\u001b[39mfilterDate(start_date, end_date)\n\u001b[0;32m     10\u001b[0m     \u001b[38;5;241m.\u001b[39mselect(\u001b[38;5;124m'\u001b[39m\u001b[38;5;124mpopulation\u001b[39m\u001b[38;5;124m'\u001b[39m)\n\u001b[0;32m     11\u001b[0m     \u001b[38;5;241m.\u001b[39mmedian()\n\u001b[1;32m---> 12\u001b[0m     \u001b[38;5;241m.\u001b[39mcopyProperties(\u001b[43mimage\u001b[49m, image\u001b[38;5;241m.\u001b[39mpropertyNames())\n\u001b[0;32m     13\u001b[0m     \u001b[38;5;241m.\u001b[39mclip(roi_proj_4326_gee)\n\u001b[0;32m     14\u001b[0m )\n\u001b[0;32m     15\u001b[0m \u001b[38;5;28;01mreturn\u001b[39;00m ee\u001b[38;5;241m.\u001b[39mImage(image)\n",
      "\u001b[1;31mUnboundLocalError\u001b[0m: local variable 'image' referenced before assignment"
     ]
    }
   ],
   "source": [
    "years_WorldPop = ee.List.sequence(2000, 2020, 5)\n",
    "\n",
    "def get_WorldPop_images(year):\n",
    "\n",
    "    start_date = ee.Date.fromYMD(year, 1, 1)\n",
    "    end_date = ee.Date.fromYMD(year, 12, 31)\n",
    "    image = (\n",
    "        ee.ImageCollection('WorldPop/GP/100m/pop')\n",
    "        .filterDate(start_date, end_date)\n",
    "        .select('population')\n",
    "        .median()\n",
    "        .copyProperties(image, image.propertyNames())\n",
    "        .clip(roi_proj_4326_gee)\n",
    "    )\n",
    "    return ee.Image(image)\n",
    "\n",
    "collection_WorldPop = ee.ImageCollection(years_WorldPop.map(get_WorldPop_images))\n",
    "\n",
    "def clip_ImageCollection(images):\n",
    "    Single_image = images.clip(roi_proj_4326_gee)\n",
    "    return ee.ImageCollection(Single_image)\n",
    "\n",
    "collection_WorldPop_clip = collection_WorldPop.map(clip_ImageCollection)"
   ]
  },
  {
   "cell_type": "code",
   "execution_count": 52,
   "id": "135b003f-584e-40d6-ab52-539aa950c9a6",
   "metadata": {},
   "outputs": [
    {
     "data": {
      "text/plain": [
       "{'type': 'ImageCollection',\n",
       " 'bands': [],\n",
       " 'features': [{'type': 'Image',\n",
       "   'bands': [{'id': 'population',\n",
       "     'data_type': {'type': 'PixelType', 'precision': 'float'},\n",
       "     'crs': 'EPSG:4326',\n",
       "     'crs_transform': [1, 0, 0, 0, 1, 0]}],\n",
       "   'properties': {'system:index': '0'}},\n",
       "  {'type': 'Image',\n",
       "   'bands': [{'id': 'population',\n",
       "     'data_type': {'type': 'PixelType', 'precision': 'float'},\n",
       "     'crs': 'EPSG:4326',\n",
       "     'crs_transform': [1, 0, 0, 0, 1, 0]}],\n",
       "   'properties': {'system:index': '1'}},\n",
       "  {'type': 'Image',\n",
       "   'bands': [{'id': 'population',\n",
       "     'data_type': {'type': 'PixelType', 'precision': 'float'},\n",
       "     'crs': 'EPSG:4326',\n",
       "     'crs_transform': [1, 0, 0, 0, 1, 0]}],\n",
       "   'properties': {'system:index': '2'}},\n",
       "  {'type': 'Image',\n",
       "   'bands': [{'id': 'population',\n",
       "     'data_type': {'type': 'PixelType', 'precision': 'float'},\n",
       "     'crs': 'EPSG:4326',\n",
       "     'crs_transform': [1, 0, 0, 0, 1, 0]}],\n",
       "   'properties': {'system:index': '3'}},\n",
       "  {'type': 'Image',\n",
       "   'bands': [{'id': 'population',\n",
       "     'data_type': {'type': 'PixelType', 'precision': 'float'},\n",
       "     'crs': 'EPSG:4326',\n",
       "     'crs_transform': [1, 0, 0, 0, 1, 0]}],\n",
       "   'properties': {'system:index': '4'}}]}"
      ]
     },
     "execution_count": 52,
     "metadata": {},
     "output_type": "execute_result"
    }
   ],
   "source": [
    "collection_WorldPop.getInfo()"
   ]
  },
  {
   "cell_type": "code",
   "execution_count": null,
   "id": "5b44a109-5420-4ba0-9fbb-b09872059ce2",
   "metadata": {},
   "outputs": [
    {
     "ename": "FileNotFoundError",
     "evalue": "No png could be found in C:\\Users\\FadliUwaisElqorni\\OneDrive - SYSTEMIQ Ltd\\Documents\\Temporary\\Revalue\\Rapid Assessment Script\\Global Population Assessment\\UK Test 2\\geemap_PopulationAssessment\\WorldPop_TimeLapse_PopCount.",
     "output_type": "error",
     "traceback": [
      "\u001b[1;31m---------------------------------------------------------------------------\u001b[0m",
      "\u001b[1;31mFileNotFoundError\u001b[0m                         Traceback (most recent call last)",
      "Input \u001b[1;32mIn [48]\u001b[0m, in \u001b[0;36m<cell line: 2>\u001b[1;34m()\u001b[0m\n\u001b[0;32m      1\u001b[0m WorldPop_timelapse_visParam \u001b[38;5;241m=\u001b[39m {\u001b[38;5;124m'\u001b[39m\u001b[38;5;124mbands\u001b[39m\u001b[38;5;124m'\u001b[39m : [\u001b[38;5;124m'\u001b[39m\u001b[38;5;124mpopulation\u001b[39m\u001b[38;5;124m'\u001b[39m], \u001b[38;5;124m'\u001b[39m\u001b[38;5;124mmin\u001b[39m\u001b[38;5;124m'\u001b[39m : \u001b[38;5;241m0\u001b[39m, \u001b[38;5;124m'\u001b[39m\u001b[38;5;124mmax\u001b[39m\u001b[38;5;124m'\u001b[39m: \u001b[38;5;241m50\u001b[39m}\n\u001b[1;32m----> 2\u001b[0m \u001b[43mcartoee\u001b[49m\u001b[38;5;241;43m.\u001b[39;49m\u001b[43mget_image_collection_gif\u001b[49m\u001b[43m(\u001b[49m\n\u001b[0;32m      3\u001b[0m \u001b[43m    \u001b[49m\u001b[43mee_ic\u001b[49m\u001b[43m \u001b[49m\u001b[38;5;241;43m=\u001b[39;49m\u001b[43m \u001b[49m\u001b[43mcollection_WorldPop\u001b[49m\u001b[43m,\u001b[49m\n\u001b[0;32m      4\u001b[0m \u001b[43m    \u001b[49m\u001b[43mout_dir\u001b[49m\u001b[43m \u001b[49m\u001b[38;5;241;43m=\u001b[39;49m\u001b[43m \u001b[49m\u001b[43mos\u001b[49m\u001b[38;5;241;43m.\u001b[39;49m\u001b[43mpath\u001b[49m\u001b[38;5;241;43m.\u001b[39;49m\u001b[43mexpanduser\u001b[49m\u001b[43m(\u001b[49m\u001b[43mout_dir\u001b[49m\u001b[43m \u001b[49m\u001b[38;5;241;43m+\u001b[39;49m\u001b[43m \u001b[49m\u001b[38;5;124;43m'\u001b[39;49m\u001b[38;5;124;43m/WorldPop_TimeLapse_PopCount\u001b[39;49m\u001b[38;5;124;43m'\u001b[39;49m\u001b[43m)\u001b[49m\u001b[43m,\u001b[49m\n\u001b[0;32m      5\u001b[0m \u001b[43m    \u001b[49m\u001b[43mout_gif\u001b[49m\u001b[43m \u001b[49m\u001b[38;5;241;43m=\u001b[39;49m\u001b[43m \u001b[49m\u001b[43mprojectname\u001b[49m\u001b[43m \u001b[49m\u001b[38;5;241;43m+\u001b[39;49m\u001b[43m \u001b[49m\u001b[38;5;124;43m\"\u001b[39;49m\u001b[38;5;124;43m_WorldPop_PopCount2000_2015.gif\u001b[39;49m\u001b[38;5;124;43m\"\u001b[39;49m\u001b[43m,\u001b[49m\n\u001b[0;32m      6\u001b[0m \u001b[43m    \u001b[49m\u001b[43mvis_params\u001b[49m\u001b[43m \u001b[49m\u001b[38;5;241;43m=\u001b[39;49m\u001b[43m \u001b[49m\u001b[43mWorldPop_timelapse_visParam\u001b[49m\u001b[43m,\u001b[49m\n\u001b[0;32m      7\u001b[0m \u001b[43m    \u001b[49m\u001b[43mregion\u001b[49m\u001b[43m \u001b[49m\u001b[38;5;241;43m=\u001b[39;49m\u001b[43m \u001b[49m\u001b[43mbbox_roi\u001b[49m\u001b[43m,\u001b[49m\n\u001b[0;32m      8\u001b[0m \u001b[43m    \u001b[49m\u001b[43mcmap\u001b[49m\u001b[43m \u001b[49m\u001b[38;5;241;43m=\u001b[39;49m\u001b[43m \u001b[49m\u001b[38;5;124;43m'\u001b[39;49m\u001b[38;5;124;43mhot\u001b[39;49m\u001b[38;5;124;43m'\u001b[39;49m\u001b[43m,\u001b[49m\n\u001b[0;32m      9\u001b[0m \u001b[43m    \u001b[49m\u001b[43mfps\u001b[49m\u001b[43m \u001b[49m\u001b[38;5;241;43m=\u001b[39;49m\u001b[43m \u001b[49m\u001b[38;5;241;43m5\u001b[39;49m\u001b[43m,\u001b[49m\n\u001b[0;32m     10\u001b[0m \u001b[43m    \u001b[49m\u001b[43mmp4\u001b[49m\u001b[43m \u001b[49m\u001b[38;5;241;43m=\u001b[39;49m\u001b[43m \u001b[49m\u001b[38;5;28;43;01mFalse\u001b[39;49;00m\u001b[43m,\u001b[49m\n\u001b[0;32m     11\u001b[0m \u001b[43m    \u001b[49m\u001b[43mgrid_interval\u001b[49m\u001b[43m \u001b[49m\u001b[38;5;241;43m=\u001b[39;49m\u001b[43m \u001b[49m\u001b[43m(\u001b[49m\u001b[38;5;241;43m0.5\u001b[39;49m\u001b[43m,\u001b[49m\u001b[43m \u001b[49m\u001b[38;5;241;43m0.5\u001b[39;49m\u001b[43m)\u001b[49m\u001b[43m,\u001b[49m\n\u001b[0;32m     12\u001b[0m \u001b[43m    \u001b[49m\u001b[43mplot_title\u001b[49m\u001b[43m \u001b[49m\u001b[38;5;241;43m=\u001b[39;49m\u001b[43m \u001b[49m\u001b[43mprojectname\u001b[49m\u001b[43m \u001b[49m\u001b[38;5;241;43m+\u001b[39;49m\u001b[43m \u001b[49m\u001b[38;5;124;43m\"\u001b[39;49m\u001b[38;5;124;43m - Population Count per cell\u001b[39;49m\u001b[38;5;124;43m\"\u001b[39;49m\u001b[43m,\u001b[49m\n\u001b[0;32m     13\u001b[0m \u001b[43m \u001b[49m\u001b[38;5;66;43;03m#   date_format='YYYY',\u001b[39;49;00m\n\u001b[0;32m     14\u001b[0m \u001b[43m    \u001b[49m\u001b[43mfig_size\u001b[49m\u001b[38;5;241;43m=\u001b[39;49m\u001b[43m(\u001b[49m\u001b[38;5;241;43m15\u001b[39;49m\u001b[43m,\u001b[49m\u001b[43m \u001b[49m\u001b[38;5;241;43m12\u001b[39;49m\u001b[43m)\u001b[49m\u001b[43m,\u001b[49m\n\u001b[0;32m     15\u001b[0m \u001b[43m    \u001b[49m\u001b[43mdpi_plot\u001b[49m\u001b[38;5;241;43m=\u001b[39;49m\u001b[38;5;241;43m100\u001b[39;49m\u001b[43m,\u001b[49m\n\u001b[0;32m     16\u001b[0m \u001b[43m    \u001b[49m\u001b[43mfile_format\u001b[49m\u001b[38;5;241;43m=\u001b[39;49m\u001b[38;5;124;43m\"\u001b[39;49m\u001b[38;5;124;43mpng\u001b[39;49m\u001b[38;5;124;43m\"\u001b[39;49m\u001b[43m,\u001b[49m\n\u001b[0;32m     17\u001b[0m \u001b[43m    \u001b[49m\u001b[43mnorth_arrow_dict\u001b[49m\u001b[38;5;241;43m=\u001b[39;49m\u001b[43mnorth_arrow_dict\u001b[49m\u001b[43m,\u001b[49m\n\u001b[0;32m     18\u001b[0m \u001b[43m    \u001b[49m\u001b[43mscale_bar_dict\u001b[49m\u001b[38;5;241;43m=\u001b[39;49m\u001b[43mscale_bar_dict\u001b[49m\u001b[43m,\u001b[49m\n\u001b[0;32m     19\u001b[0m \u001b[43m    \u001b[49m\u001b[43mverbose\u001b[49m\u001b[38;5;241;43m=\u001b[39;49m\u001b[38;5;28;43;01mTrue\u001b[39;49;00m\u001b[43m,\u001b[49m\n\u001b[0;32m     20\u001b[0m \u001b[43m)\u001b[49m\n",
      "File \u001b[1;32m~\\.conda\\envs\\geemap\\lib\\site-packages\\geemap\\cartoee.py:1237\u001b[0m, in \u001b[0;36mget_image_collection_gif\u001b[1;34m(ee_ic, out_dir, out_gif, vis_params, region, cmap, proj, fps, mp4, grid_interval, plot_title, date_format, fig_size, dpi_plot, file_format, north_arrow_dict, scale_bar_dict, verbose)\u001b[0m\n\u001b[0;32m   1234\u001b[0m     plt\u001b[38;5;241m.\u001b[39mclose()\n\u001b[0;32m   1236\u001b[0m out_gif \u001b[38;5;241m=\u001b[39m os\u001b[38;5;241m.\u001b[39mpath\u001b[38;5;241m.\u001b[39mabspath(out_gif)\n\u001b[1;32m-> 1237\u001b[0m \u001b[43mpng_to_gif\u001b[49m\u001b[43m(\u001b[49m\u001b[43mout_dir\u001b[49m\u001b[43m,\u001b[49m\u001b[43m \u001b[49m\u001b[43mout_gif\u001b[49m\u001b[43m,\u001b[49m\u001b[43m \u001b[49m\u001b[43mfps\u001b[49m\u001b[43m)\u001b[49m\n\u001b[0;32m   1238\u001b[0m \u001b[38;5;28;01mif\u001b[39;00m verbose:\n\u001b[0;32m   1239\u001b[0m     \u001b[38;5;28mprint\u001b[39m(\u001b[38;5;124mf\u001b[39m\u001b[38;5;124m\"\u001b[39m\u001b[38;5;124mGIF saved to \u001b[39m\u001b[38;5;132;01m{\u001b[39;00mout_gif\u001b[38;5;132;01m}\u001b[39;00m\u001b[38;5;124m\"\u001b[39m)\n",
      "File \u001b[1;32m~\\.conda\\envs\\geemap\\lib\\site-packages\\geemap\\common.py:8303\u001b[0m, in \u001b[0;36mpng_to_gif\u001b[1;34m(in_dir, out_gif, fps, loop)\u001b[0m\n\u001b[0;32m   8300\u001b[0m imgs\u001b[38;5;241m.\u001b[39msort()\n\u001b[0;32m   8302\u001b[0m \u001b[38;5;28;01mif\u001b[39;00m \u001b[38;5;28mlen\u001b[39m(imgs) \u001b[38;5;241m==\u001b[39m \u001b[38;5;241m0\u001b[39m:\n\u001b[1;32m-> 8303\u001b[0m     \u001b[38;5;28;01mraise\u001b[39;00m \u001b[38;5;167;01mFileNotFoundError\u001b[39;00m(\u001b[38;5;124mf\u001b[39m\u001b[38;5;124m\"\u001b[39m\u001b[38;5;124mNo png could be found in \u001b[39m\u001b[38;5;132;01m{\u001b[39;00min_dir\u001b[38;5;132;01m}\u001b[39;00m\u001b[38;5;124m.\u001b[39m\u001b[38;5;124m\"\u001b[39m)\n\u001b[0;32m   8305\u001b[0m \u001b[38;5;28;01mfor\u001b[39;00m i \u001b[38;5;129;01min\u001b[39;00m imgs:\n\u001b[0;32m   8306\u001b[0m     new_frame \u001b[38;5;241m=\u001b[39m Image\u001b[38;5;241m.\u001b[39mopen(i)\n",
      "\u001b[1;31mFileNotFoundError\u001b[0m: No png could be found in C:\\Users\\FadliUwaisElqorni\\OneDrive - SYSTEMIQ Ltd\\Documents\\Temporary\\Revalue\\Rapid Assessment Script\\Global Population Assessment\\UK Test 2\\geemap_PopulationAssessment\\WorldPop_TimeLapse_PopCount."
     ]
    }
   ],
   "source": [
    "WorldPop_timelapse_visParam = {'bands' : ['population'], 'min' : 0, 'max': 50}\n",
    "cartoee.get_image_collection_gif(\n",
    "    ee_ic = collection_WorldPop,\n",
    "    out_dir = os.path.expanduser(out_dir + '/WorldPop_TimeLapse_PopCount'),\n",
    "    out_gif = projectname + \"_WorldPop_PopCount2000_2015.gif\",\n",
    "    vis_params = WorldPop_timelapse_visParam,\n",
    "    region = bbox_roi,\n",
    "    cmap = 'hot',\n",
    "    fps = 5,\n",
    "    mp4 = False,\n",
    "    grid_interval = (0.5, 0.5),\n",
    "    plot_title = projectname + \" - Population Count per cell\",\n",
    " #   date_format='YYYY',\n",
    "    fig_size=(15, 12),\n",
    "    dpi_plot=100,\n",
    "    file_format=\"png\",\n",
    "    north_arrow_dict=north_arrow_dict,\n",
    "    scale_bar_dict=scale_bar_dict,\n",
    "    verbose=True,\n",
    ")"
   ]
  },
  {
   "cell_type": "code",
   "execution_count": null,
   "id": "43349515-ff11-410b-a2d2-3efcf1225bad",
   "metadata": {},
   "outputs": [],
   "source": [
    "# 1. WorldPop Population Density 2000\n",
    "geemap.ee_export_image_to_drive(\n",
    "    WorldPop_PopCount_2000_proj,\n",
    "    description = projectname + '_WorldPop_PopCount_2000_roi',\n",
    "    folder = projectname + '_Population_Assessment',\n",
    "    fileNamePrefix = projectname + '_WorldPop_PopCount_2000_roi',\n",
    "    scale = 1000,\n",
    "    crs = projection,\n",
    "    maxPixels= 1e12,\n",
    "    region = roi_proj_gee.geometry()\n",
    ")\n",
    "\n",
    "# 2. WorldPop Population Density 2005\n",
    "geemap.ee_export_image_to_drive(\n",
    "    WorldPop_PopCount_2005_proj,\n",
    "    description = projectname + '_WorldPop_PopCount_2005_roi',\n",
    "    folder = projectname + '_Population_Assessment',\n",
    "    fileNamePrefix = projectname + '_WorldPop_PopCount_2005_roi',\n",
    "    scale = 1000,\n",
    "    crs = projection,\n",
    "    maxPixels= 1e12,\n",
    "    region = roi_proj_gee.geometry()\n",
    ")\n",
    "\n",
    "# 3. WorldPop Population Density 2010\n",
    "geemap.ee_export_image_to_drive(\n",
    "    WorldPop_PopCount_2010_proj,\n",
    "    description = projectname + '_WorldPop_PopCount_2010_roi',\n",
    "    folder = projectname + '_Population_Assessment',\n",
    "    fileNamePrefix = projectname + '_WorldPop_PopCount_2010_roi',\n",
    "    scale = 1000,\n",
    "    crs = projection,\n",
    "    maxPixels= 1e12,\n",
    "    region = roi_proj_gee.geometry()\n",
    ")\n",
    "\n",
    "# 4. WorldPop Population Density 2015\n",
    "geemap.ee_export_image_to_drive(\n",
    "    WorldPop_PopCount_2015_proj,\n",
    "    description = projectname + '_WorldPop_PopCount_2015_roi',\n",
    "    folder = projectname + '_Population_Assessment',\n",
    "    fileNamePrefix = projectname + '_WorldPop_PopCount_2015_roi',\n",
    "    scale = 1000,\n",
    "    crs = projection,\n",
    "    maxPixels= 1e12,\n",
    "    region = roi_proj_gee.geometry()\n",
    ")\n",
    "\n",
    "# 5. WorldPop Population Density 2020\n",
    "geemap.ee_export_image_to_drive(\n",
    "    WorldPop_PopCount_2020_proj,\n",
    "    description = projectname + '_WorldPop_PopCount_2020_roi',\n",
    "    folder = projectname + '_Population_Assessment',\n",
    "    fileNamePrefix = projectname + '_WorldPop_PopCount_2020_roi',\n",
    "    scale = 1000,\n",
    "    crs = projection,\n",
    "    maxPixels= 1e12,\n",
    "    region = roi_proj_gee.geometry()\n",
    ")"
   ]
  }
 ],
 "metadata": {
  "kernelspec": {
   "display_name": "Python 3 (ipykernel)",
   "language": "python",
   "name": "python3"
  },
  "language_info": {
   "codemirror_mode": {
    "name": "ipython",
    "version": 3
   },
   "file_extension": ".py",
   "mimetype": "text/x-python",
   "name": "python",
   "nbconvert_exporter": "python",
   "pygments_lexer": "ipython3",
   "version": "3.8.13"
  }
 },
 "nbformat": 4,
 "nbformat_minor": 5
}
