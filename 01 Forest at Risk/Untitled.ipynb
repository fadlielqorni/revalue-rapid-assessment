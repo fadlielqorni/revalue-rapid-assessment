{
 "cells": [
  {
   "cell_type": "code",
   "execution_count": 2,
   "id": "81294936-5a24-44fb-bffa-4f68aa4e4216",
   "metadata": {},
   "outputs": [
    {
     "name": "stdout",
     "output_type": "stream",
     "text": [
      "no display found. Using non-interactive Agg backend\n",
      "# forestatrisk: modelling and forecasting deforestation in the tropics.\n",
      "# https://ecology.ghislainv.fr/forestatrisk/\n"
     ]
    }
   ],
   "source": [
    "import os\n",
    "import pkg_resources\n",
    "import re\n",
    "from shutil import copy2\n",
    "import sys\n",
    "\n",
    "from dotenv import load_dotenv\n",
    "import ee\n",
    "import numpy as np\n",
    "import matplotlib.pyplot as plt\n",
    "import pandas as pd\n",
    "from patsy import dmatrices\n",
    "import pickle\n",
    "from sklearn.linear_model import LogisticRegression\n",
    "from sklearn.ensemble import RandomForestClassifier\n",
    "from sklearn.metrics import log_loss\n",
    "from tabulate import tabulate\n",
    "\n",
    "from pywdpa import get_token\n",
    "import forestatrisk as far"
   ]
  },
  {
   "cell_type": "code",
   "execution_count": 3,
   "id": "b3cf048e-73be-43b2-953e-66a31a9eecbd",
   "metadata": {},
   "outputs": [],
   "source": [
    "far.make_dir('output')"
   ]
  },
  {
   "cell_type": "code",
   "execution_count": 4,
   "id": "4b7a761a-a7bb-4abc-8a08-15eb944c4979",
   "metadata": {},
   "outputs": [],
   "source": [
    "import urllib.request\n",
    "from zipfile import ZipFile\n",
    "\n",
    "# Source of the data\n",
    "url = \"https://github.com/ghislainv/forestatrisk/raw/master/docsrc/notebooks/data_GLP.zip\"\n",
    "\n",
    "if os.path.exists(\"data_GPL.zip\") is False:\n",
    "    urllib.request.urlretrieve(url, \"data_GPL.zip\")\n",
    "    with ZipFile(\"data_GPL.zip\", \"r\") as z:\n",
    "        z.extractall(\"data\")"
   ]
  },
  {
   "cell_type": "code",
   "execution_count": 7,
   "id": "d947722e-4123-42aa-b4ec-2082c4506f8a",
   "metadata": {},
   "outputs": [],
   "source": [
    "# Plot forest\n",
    "fig_fcc23 = far.plot.fcc(\n",
    "    input_fcc_raster=\"data/fcc23.tif\",\n",
    "    maxpixels=1e8,\n",
    "    output_file=\"output/fcc23.png\",\n",
    "    borders=\"data/ctry_PROJ.shp\",\n",
    "    linewidth=0.3, dpi=500)"
   ]
  }
 ],
 "metadata": {
  "kernelspec": {
   "display_name": "Python 3 (ipykernel)",
   "language": "python",
   "name": "python3"
  },
  "language_info": {
   "codemirror_mode": {
    "name": "ipython",
    "version": 3
   },
   "file_extension": ".py",
   "mimetype": "text/x-python",
   "name": "python",
   "nbconvert_exporter": "python",
   "pygments_lexer": "ipython3",
   "version": "3.10.6"
  }
 },
 "nbformat": 4,
 "nbformat_minor": 5
}
