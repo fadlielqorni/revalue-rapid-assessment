{
 "cells": [
  {
   "cell_type": "markdown",
   "id": "fa9b5ef4-be03-42e7-9572-ebf5a5c8ad80",
   "metadata": {},
   "source": [
    "# **Global Biomes and Ecoregions Assessment**\n",
    "<span style = \"font-size: 1.5em;\"> ***RESOLVE Biome and Ecoregion Dataset in 2017*** </span>"
   ]
  },
  {
   "cell_type": "markdown",
   "id": "8a91b089-8cb5-4931-a929-deb1a17b26d3",
   "metadata": {},
   "source": [
    "## Brief Description"
   ]
  },
  {
   "cell_type": "markdown",
   "id": "95e1037c-2807-400b-8e6a-a92bc3db2e7d",
   "metadata": {},
   "source": [
    "### <span style = \"font-size: 1em;\"> ***Brief Description of The Asssessment*** </span>\n",
    "\n",
    "The assessment will estimate the spatial distribution of ecoregions and biomes area in the region of interest  in 2017. \n",
    "\n",
    "<span style=\"font-size:1.1em;\"> ***Input Data Needed*** </span>\n",
    "- Shapefile\n",
    "> - **roi_directory** : specify region of interest shapefiile\n",
    "> - **ecoregions_directory** : select the global biomes and ecoregions shapefile\n",
    "\n",
    "- Input Data Variables\n",
    "> - **projectname (string)** : project name (example: \"RVL_IDN_KubuRaya\")\n",
    "> - **projection**: UTM projection code in code (example: \"EPSG:3857\")\n",
    "> - **roi_column_name** : variable name that specifiy unique ID for multipolygon analysis (example: \"Name\")\n",
    "\n",
    "- Output directory folder\n",
    "> - **output_directory** : select directory folder to put the output result\n",
    "\n",
    "<span style=\"font-size:1.1em;\"> ***Expected Output*** </span>\n",
    "- Shapefile dataset\n",
    "> - Biomess and Ecoregions Shapefile\n",
    "\n",
    "- csv, graph and maps \n",
    "> - Biomes and Ecoregions distribution extent Area (Ha)"
   ]
  },
  {
   "cell_type": "markdown",
   "id": "1388e028-483a-4fc9-85b7-cc2f59ba7694",
   "metadata": {},
   "source": [
    "### <span style = \"font-size: 1em;\"> ***Brief Description of The Dataset*** </span>\n",
    "\n",
    "The data shows global terrestrial ecoregions and biomes in 2017. Ecoregions are the ecosystem of regional extent which has a distinct assemblages of biodiversity at all taxa. The terrestrial ecoregions then are grouped into biomes where represent the forest and non-forest biomes. Biomes is a geographically extensive type of ecosystem which are characterized by the life forms of their dominant organisms, not necessarily by their particular species. On terrestrials, biomes are generally identified by their mature or older-growth vegetation whereas aquatic biome are distinguished by their dominant aquatic animals.\n",
    "\n",
    "<span style=\"font-size:1.1em;\"> ***Source*** </span>\n",
    "- RESOLVE - Global Biomes and Ecoregions Extent Change 2017\n",
    "Eric Dinerstein, David Olson, Anup Joshi, Carly Vynne, Neil D. Burgess, Eric Wikramanayake, Nathan Hahn, Suzanne Palminteri, Prashant Hedao, Reed Noss, Matt Hansen, Harvey Locke, Erle C Ellis, Benjamin Jones, Charles Victor Barber, Randy Hayes, Cyril Kormos, Vance Martin, Eileen Crist, Wes Sechrest, Lori Price, Jonathan E. M. Baillie, Don Weeden, Kierán Suckling, Crystal Davis, Nigel Sizer, Rebecca Moore, David Thau, Tanya Birch, Peter Potapov, Svetlana Turubanova, Alexandra Tyukavina, Nadia de Souza, Lilian Pintea, José C. Brito, Othman A. Llewellyn, Anthony G. Miller, Annette Patzelt, Shahina A. Ghazanfar, Jonathan Timberlake, Heinz Klöser, Yara Shennan-Farpón, Roeland Kindt, Jens-Peter Barnekow Lillesø, Paulo van Breugel, Lars Graudal, Maianna Voge, Khalaf F. Al-Shammari, Muhammad Saleem, An Ecoregion-Based Approach to Protecting Half the Terrestrial Realm, BioScience, Volume 67, Issue 6, June 2017, Pages 534–545, https://doi.org/10.1093/biosci/bix014\n"
   ]
  },
  {
   "cell_type": "markdown",
   "id": "ac7cea2f-3a47-455c-bea2-cb385efc55a7",
   "metadata": {},
   "source": [
    "### <span style = \"font-size: 1em;\"> ***Note*** </span>\n",
    "\n",
    "- The script will  estimate the **biomes and ecoregions extent area in 2020**"
   ]
  },
  {
   "cell_type": "markdown",
   "id": "b84043e1-8fda-4d96-a011-f14d523a4d8c",
   "metadata": {},
   "source": [
    "## Data Preparation"
   ]
  },
  {
   "cell_type": "markdown",
   "id": "6e3e4f92-c0b0-4faa-853f-b40d2e67f716",
   "metadata": {},
   "source": [
    "### Import modules and Relevant Datasets"
   ]
  },
  {
   "cell_type": "code",
   "execution_count": 1,
   "id": "68ed8b25-53b4-4861-97ca-c681ccbc60a0",
   "metadata": {},
   "outputs": [],
   "source": [
    "%matplotlib inline\n",
    "import os\n",
    "import geopandas as gpd\n",
    "import pandas as pd\n",
    "from tkinter import Tk, filedialog, simpledialog, messagebox\n",
    "from tkinter import * \n",
    "import matplotlib.pyplot as plt\n",
    "from matplotlib_scalebar.scalebar import ScaleBar\n",
    "from matplotlib.colors import ListedColormap, BoundaryNorm, LinearSegmentedColormap\n",
    "from matplotlib import colors\n",
    "from matplotlib.patches import Patch\n",
    "import geoplot as gplt\n",
    "import contextily as ctx\n",
    "import plotly.express as px\n",
    "import numpy as np\n",
    "import geoplot.crs as gcrs\n",
    "import mapclassify as mc\n",
    "import cartopy.io.img_tiles as cimgt\n",
    "import shapely.wkt"
   ]
  },
  {
   "cell_type": "code",
   "execution_count": 2,
   "id": "6d8d2b7f-49c8-4792-bdff-e5c8a7d9a4ae",
   "metadata": {},
   "outputs": [],
   "source": [
    "root = Tk() # pointing root to Tk() to use it as Tk() in program.\n",
    "root.withdraw() # Hides small tkinter window.\n",
    "root.attributes('-topmost', True) # Opened windows will be active. above all windows despite of selection.\n",
    "roi_directory = filedialog.askopenfile(title = \"Open RoI Shapefile\") \n",
    "biomes_ecoregions_directory = filedialog.askopenfile(title = \"Open Biomes and Ecoregions Shapefile\")\n",
    "# Output folder\n",
    "output_directory = filedialog.askdirectory(title = \"Specify Output Folder\")"
   ]
  },
  {
   "cell_type": "code",
   "execution_count": 3,
   "id": "2d5cc236-a356-4a8b-9588-0acfd4098029",
   "metadata": {},
   "outputs": [],
   "source": [
    "# output directory\n",
    "out_dir = os.path.expanduser(output_directory+'/RapidScreening_BiomesEcoregionsAssessment')\n",
    "if not os.path.exists(out_dir):\n",
    "    os.makedirs(out_dir)"
   ]
  },
  {
   "cell_type": "markdown",
   "id": "403de4a2-467d-4a22-81dc-f2b3bc3004c0",
   "metadata": {},
   "source": [
    "### Specify Input Data"
   ]
  },
  {
   "cell_type": "code",
   "execution_count": 5,
   "id": "53b43556-7b30-4c4c-9342-ada3795c3f71",
   "metadata": {},
   "outputs": [
    {
     "name": "stdout",
     "output_type": "stream",
     "text": [
      "The script will assess  Jambi\n",
      "All data will be reprojected to  EPSG:32748  canopy cover\n",
      "Column name is  PROVINSI\n"
     ]
    }
   ],
   "source": [
    "# specify project name\n",
    "projectname = simpledialog.askstring(\"Input\", \"Speficy project name\",parent=root)\n",
    "\n",
    "if projectname is not None:\n",
    "    print(\"The script will assess \", projectname)\n",
    "else:\n",
    "    print(\"Name has not been submitted, Restart the code!\")\n",
    "    \n",
    "#Specify Projection\n",
    "projection = simpledialog.askstring(\"Input\", \"Specify Projection in UTM zone, example EPSG:3857\", parent=root)\n",
    "\n",
    "if projection is not None:\n",
    "    print(\"All data will be reprojected to \", projection, ' canopy cover')\n",
    "else:\n",
    "    print(\"Projection has not specified, Restart the code!\")\n",
    "    \n",
    "# column name for roi id\n",
    "roi_column_name = simpledialog.askstring(\"Input\", \"Specify columns name in ROI attribute table to define boundary name\",parent=root)\n",
    "\n",
    "if roi_column_name is not None:\n",
    "    print(\"Column name is \", roi_column_name)\n",
    "else:\n",
    "    print(\"Column has not identified, Restart the code!\")"
   ]
  },
  {
   "cell_type": "markdown",
   "id": "34956f30-72ae-477d-8e32-0a4bdc41b98c",
   "metadata": {},
   "source": [
    "## Spatial Distribution of Biomes and Ecoregions Extent"
   ]
  },
  {
   "cell_type": "code",
   "execution_count": 6,
   "id": "604a2ca0-a7b3-445b-927e-2177972572e6",
   "metadata": {},
   "outputs": [],
   "source": [
    "# roi shapefile\n",
    "roi = gpd.read_file(roi_directory.name)\n",
    "biomes_ecoregions = gpd.read_file(biomes_ecoregions_directory.name)\n",
    "\n",
    "# reproject to UTM\n",
    "roi_proj  = roi.to_crs(crs = projection)\n",
    "biomes_ecoregions_proj = biomes_ecoregions.to_crs(crs = projection)"
   ]
  },
  {
   "cell_type": "code",
   "execution_count": 7,
   "id": "7eea44a3-0ea5-4310-b2d1-bf025fef4d5d",
   "metadata": {},
   "outputs": [
    {
     "name": "stderr",
     "output_type": "stream",
     "text": [
      "C:\\Users\\FadliUwaisElqorni\\.conda\\envs\\geemap\\lib\\site-packages\\pygeos\\constructive.py:175: RuntimeWarning: invalid value encountered in buffer\n",
      "  return lib.buffer(\n"
     ]
    }
   ],
   "source": [
    "biomes_ecoregions_proj2 = biomes_ecoregions_proj.buffer(0)"
   ]
  },
  {
   "cell_type": "code",
   "execution_count": 27,
   "id": "348d3f25-4548-4cd0-b1ed-287e387a076c",
   "metadata": {},
   "outputs": [],
   "source": [
    "biomes_ecoregions_proj[\"geometry\"] = biomes_ecoregions_proj[\"geometry\"].apply(lambda x: shapely.wkt.loads(shapely.wkt.dumps(x, rounding_precision=4)))"
   ]
  },
  {
   "cell_type": "code",
   "execution_count": 14,
   "id": "d0c1ea4f-de87-4d4d-9836-e5b13af72182",
   "metadata": {},
   "outputs": [
    {
     "ename": "GEOSException",
     "evalue": "TopologyException: side location conflict at -2392450.9566475092 29955059.337994698. This can occur if the input geometry is invalid.",
     "output_type": "error",
     "traceback": [
      "\u001b[1;31m---------------------------------------------------------------------------\u001b[0m",
      "\u001b[1;31mGEOSException\u001b[0m                             Traceback (most recent call last)",
      "Input \u001b[1;32mIn [14]\u001b[0m, in \u001b[0;36m<cell line: 2>\u001b[1;34m()\u001b[0m\n\u001b[0;32m      1\u001b[0m \u001b[38;5;66;03m# dissolve BIOMES\u001b[39;00m\n\u001b[1;32m----> 2\u001b[0m biomes_proj \u001b[38;5;241m=\u001b[39m \u001b[43mbiomes_ecoregions_proj\u001b[49m\u001b[43m[\u001b[49m\u001b[43m[\u001b[49m\u001b[38;5;124;43m'\u001b[39;49m\u001b[38;5;124;43mBIOME_NUM\u001b[39;49m\u001b[38;5;124;43m'\u001b[39;49m\u001b[43m,\u001b[49m\u001b[38;5;124;43m'\u001b[39;49m\u001b[38;5;124;43mBIOME_NAME\u001b[39;49m\u001b[38;5;124;43m'\u001b[39;49m\u001b[43m,\u001b[49m\u001b[38;5;124;43m'\u001b[39;49m\u001b[38;5;124;43mCOLOR_BIO\u001b[39;49m\u001b[38;5;124;43m'\u001b[39;49m\u001b[43m,\u001b[49m\u001b[38;5;124;43m'\u001b[39;49m\u001b[38;5;124;43mgeometry\u001b[39;49m\u001b[38;5;124;43m'\u001b[39;49m\u001b[43m]\u001b[49m\u001b[43m]\u001b[49m\u001b[38;5;241;43m.\u001b[39;49m\u001b[43mdissolve\u001b[49m\u001b[43m(\u001b[49m\u001b[43mby\u001b[49m\u001b[43m \u001b[49m\u001b[38;5;241;43m=\u001b[39;49m\u001b[43m \u001b[49m\u001b[43m[\u001b[49m\u001b[38;5;124;43m'\u001b[39;49m\u001b[38;5;124;43mBIOME_NUM\u001b[39;49m\u001b[38;5;124;43m'\u001b[39;49m\u001b[43m,\u001b[49m\u001b[38;5;124;43m'\u001b[39;49m\u001b[38;5;124;43mBIOME_NAME\u001b[39;49m\u001b[38;5;124;43m'\u001b[39;49m\u001b[43m,\u001b[49m\u001b[38;5;124;43m'\u001b[39;49m\u001b[38;5;124;43mCOLOR_BIO\u001b[39;49m\u001b[38;5;124;43m'\u001b[39;49m\u001b[43m]\u001b[49m\u001b[43m)\u001b[49m\n",
      "File \u001b[1;32m~\\.conda\\envs\\geemap\\lib\\site-packages\\geopandas\\geodataframe.py:1713\u001b[0m, in \u001b[0;36mGeoDataFrame.dissolve\u001b[1;34m(self, by, aggfunc, as_index, level, sort, observed, dropna)\u001b[0m\n\u001b[0;32m   1710\u001b[0m     merged_geom \u001b[38;5;241m=\u001b[39m block\u001b[38;5;241m.\u001b[39munary_union\n\u001b[0;32m   1711\u001b[0m     \u001b[38;5;28;01mreturn\u001b[39;00m merged_geom\n\u001b[1;32m-> 1713\u001b[0m g \u001b[38;5;241m=\u001b[39m \u001b[38;5;28;43mself\u001b[39;49m\u001b[38;5;241;43m.\u001b[39;49m\u001b[43mgroupby\u001b[49m\u001b[43m(\u001b[49m\u001b[43mgroup_keys\u001b[49m\u001b[38;5;241;43m=\u001b[39;49m\u001b[38;5;28;43;01mFalse\u001b[39;49;00m\u001b[43m,\u001b[49m\u001b[43m \u001b[49m\u001b[38;5;241;43m*\u001b[39;49m\u001b[38;5;241;43m*\u001b[39;49m\u001b[43mgroupby_kwargs\u001b[49m\u001b[43m)\u001b[49m\u001b[43m[\u001b[49m\u001b[38;5;28;43mself\u001b[39;49m\u001b[38;5;241;43m.\u001b[39;49m\u001b[43mgeometry\u001b[49m\u001b[38;5;241;43m.\u001b[39;49m\u001b[43mname\u001b[49m\u001b[43m]\u001b[49m\u001b[38;5;241;43m.\u001b[39;49m\u001b[43magg\u001b[49m\u001b[43m(\u001b[49m\n\u001b[0;32m   1714\u001b[0m \u001b[43m    \u001b[49m\u001b[43mmerge_geometries\u001b[49m\n\u001b[0;32m   1715\u001b[0m \u001b[43m\u001b[49m\u001b[43m)\u001b[49m\n\u001b[0;32m   1717\u001b[0m \u001b[38;5;66;03m# Aggregate\u001b[39;00m\n\u001b[0;32m   1718\u001b[0m aggregated_geometry \u001b[38;5;241m=\u001b[39m GeoDataFrame(g, geometry\u001b[38;5;241m=\u001b[39m\u001b[38;5;28mself\u001b[39m\u001b[38;5;241m.\u001b[39mgeometry\u001b[38;5;241m.\u001b[39mname, crs\u001b[38;5;241m=\u001b[39m\u001b[38;5;28mself\u001b[39m\u001b[38;5;241m.\u001b[39mcrs)\n",
      "File \u001b[1;32m~\\.conda\\envs\\geemap\\lib\\site-packages\\pandas\\core\\groupby\\generic.py:284\u001b[0m, in \u001b[0;36mSeriesGroupBy.aggregate\u001b[1;34m(self, func, engine, engine_kwargs, *args, **kwargs)\u001b[0m\n\u001b[0;32m    281\u001b[0m     \u001b[38;5;28;01mreturn\u001b[39;00m \u001b[38;5;28mgetattr\u001b[39m(\u001b[38;5;28mself\u001b[39m, cyfunc)()\n\u001b[0;32m    283\u001b[0m \u001b[38;5;28;01mif\u001b[39;00m \u001b[38;5;28mself\u001b[39m\u001b[38;5;241m.\u001b[39mgrouper\u001b[38;5;241m.\u001b[39mnkeys \u001b[38;5;241m>\u001b[39m \u001b[38;5;241m1\u001b[39m:\n\u001b[1;32m--> 284\u001b[0m     \u001b[38;5;28;01mreturn\u001b[39;00m \u001b[38;5;28;43mself\u001b[39;49m\u001b[38;5;241;43m.\u001b[39;49m\u001b[43m_python_agg_general\u001b[49m\u001b[43m(\u001b[49m\u001b[43mfunc\u001b[49m\u001b[43m,\u001b[49m\u001b[43m \u001b[49m\u001b[38;5;241;43m*\u001b[39;49m\u001b[43margs\u001b[49m\u001b[43m,\u001b[49m\u001b[43m \u001b[49m\u001b[38;5;241;43m*\u001b[39;49m\u001b[38;5;241;43m*\u001b[39;49m\u001b[43mkwargs\u001b[49m\u001b[43m)\u001b[49m\n\u001b[0;32m    286\u001b[0m \u001b[38;5;28;01mtry\u001b[39;00m:\n\u001b[0;32m    287\u001b[0m     \u001b[38;5;28;01mreturn\u001b[39;00m \u001b[38;5;28mself\u001b[39m\u001b[38;5;241m.\u001b[39m_python_agg_general(func, \u001b[38;5;241m*\u001b[39margs, \u001b[38;5;241m*\u001b[39m\u001b[38;5;241m*\u001b[39mkwargs)\n",
      "File \u001b[1;32m~\\.conda\\envs\\geemap\\lib\\site-packages\\pandas\\core\\groupby\\groupby.py:1490\u001b[0m, in \u001b[0;36mGroupBy._python_agg_general\u001b[1;34m(self, func, *args, **kwargs)\u001b[0m\n\u001b[0;32m   1486\u001b[0m name \u001b[38;5;241m=\u001b[39m obj\u001b[38;5;241m.\u001b[39mname\n\u001b[0;32m   1488\u001b[0m \u001b[38;5;28;01mtry\u001b[39;00m:\n\u001b[0;32m   1489\u001b[0m     \u001b[38;5;66;03m# if this function is invalid for this dtype, we will ignore it.\u001b[39;00m\n\u001b[1;32m-> 1490\u001b[0m     result \u001b[38;5;241m=\u001b[39m \u001b[38;5;28;43mself\u001b[39;49m\u001b[38;5;241;43m.\u001b[39;49m\u001b[43mgrouper\u001b[49m\u001b[38;5;241;43m.\u001b[39;49m\u001b[43magg_series\u001b[49m\u001b[43m(\u001b[49m\u001b[43mobj\u001b[49m\u001b[43m,\u001b[49m\u001b[43m \u001b[49m\u001b[43mf\u001b[49m\u001b[43m)\u001b[49m\n\u001b[0;32m   1491\u001b[0m \u001b[38;5;28;01mexcept\u001b[39;00m \u001b[38;5;167;01mTypeError\u001b[39;00m:\n\u001b[0;32m   1492\u001b[0m     warn_dropping_nuisance_columns_deprecated(\u001b[38;5;28mtype\u001b[39m(\u001b[38;5;28mself\u001b[39m), \u001b[38;5;124m\"\u001b[39m\u001b[38;5;124magg\u001b[39m\u001b[38;5;124m\"\u001b[39m)\n",
      "File \u001b[1;32m~\\.conda\\envs\\geemap\\lib\\site-packages\\pandas\\core\\groupby\\ops.py:972\u001b[0m, in \u001b[0;36mBaseGrouper.agg_series\u001b[1;34m(self, obj, func, preserve_dtype)\u001b[0m\n\u001b[0;32m    969\u001b[0m     result \u001b[38;5;241m=\u001b[39m \u001b[38;5;28mself\u001b[39m\u001b[38;5;241m.\u001b[39m_aggregate_series_pure_python(obj, func)\n\u001b[0;32m    971\u001b[0m \u001b[38;5;28;01melif\u001b[39;00m \u001b[38;5;129;01mnot\u001b[39;00m \u001b[38;5;28misinstance\u001b[39m(obj\u001b[38;5;241m.\u001b[39m_values, np\u001b[38;5;241m.\u001b[39mndarray):\n\u001b[1;32m--> 972\u001b[0m     result \u001b[38;5;241m=\u001b[39m \u001b[38;5;28;43mself\u001b[39;49m\u001b[38;5;241;43m.\u001b[39;49m\u001b[43m_aggregate_series_pure_python\u001b[49m\u001b[43m(\u001b[49m\u001b[43mobj\u001b[49m\u001b[43m,\u001b[49m\u001b[43m \u001b[49m\u001b[43mfunc\u001b[49m\u001b[43m)\u001b[49m\n\u001b[0;32m    974\u001b[0m     \u001b[38;5;66;03m# we can preserve a little bit more aggressively with EA dtype\u001b[39;00m\n\u001b[0;32m    975\u001b[0m     \u001b[38;5;66;03m#  because maybe_cast_pointwise_result will do a try/except\u001b[39;00m\n\u001b[0;32m    976\u001b[0m     \u001b[38;5;66;03m#  with _from_sequence.  NB we are assuming here that _from_sequence\u001b[39;00m\n\u001b[0;32m    977\u001b[0m     \u001b[38;5;66;03m#  is sufficiently strict that it casts appropriately.\u001b[39;00m\n\u001b[0;32m    978\u001b[0m     preserve_dtype \u001b[38;5;241m=\u001b[39m \u001b[38;5;28;01mTrue\u001b[39;00m\n",
      "File \u001b[1;32m~\\.conda\\envs\\geemap\\lib\\site-packages\\pandas\\core\\groupby\\ops.py:1005\u001b[0m, in \u001b[0;36mBaseGrouper._aggregate_series_pure_python\u001b[1;34m(self, obj, func)\u001b[0m\n\u001b[0;32m   1003\u001b[0m \u001b[38;5;28;01mfor\u001b[39;00m i, group \u001b[38;5;129;01min\u001b[39;00m \u001b[38;5;28menumerate\u001b[39m(splitter):\n\u001b[0;32m   1004\u001b[0m     group \u001b[38;5;241m=\u001b[39m group\u001b[38;5;241m.\u001b[39m__finalize__(obj, method\u001b[38;5;241m=\u001b[39m\u001b[38;5;124m\"\u001b[39m\u001b[38;5;124mgroupby\u001b[39m\u001b[38;5;124m\"\u001b[39m)\n\u001b[1;32m-> 1005\u001b[0m     res \u001b[38;5;241m=\u001b[39m \u001b[43mfunc\u001b[49m\u001b[43m(\u001b[49m\u001b[43mgroup\u001b[49m\u001b[43m)\u001b[49m\n\u001b[0;32m   1006\u001b[0m     res \u001b[38;5;241m=\u001b[39m libreduction\u001b[38;5;241m.\u001b[39mextract_result(res)\n\u001b[0;32m   1008\u001b[0m     \u001b[38;5;28;01mif\u001b[39;00m \u001b[38;5;129;01mnot\u001b[39;00m initialized:\n\u001b[0;32m   1009\u001b[0m         \u001b[38;5;66;03m# We only do this validation on the first iteration\u001b[39;00m\n",
      "File \u001b[1;32m~\\.conda\\envs\\geemap\\lib\\site-packages\\pandas\\core\\groupby\\groupby.py:1476\u001b[0m, in \u001b[0;36mGroupBy._python_agg_general.<locals>.<lambda>\u001b[1;34m(x)\u001b[0m\n\u001b[0;32m   1473\u001b[0m \u001b[38;5;129m@final\u001b[39m\n\u001b[0;32m   1474\u001b[0m \u001b[38;5;28;01mdef\u001b[39;00m \u001b[38;5;21m_python_agg_general\u001b[39m(\u001b[38;5;28mself\u001b[39m, func, \u001b[38;5;241m*\u001b[39margs, \u001b[38;5;241m*\u001b[39m\u001b[38;5;241m*\u001b[39mkwargs):\n\u001b[0;32m   1475\u001b[0m     func \u001b[38;5;241m=\u001b[39m com\u001b[38;5;241m.\u001b[39mis_builtin_func(func)\n\u001b[1;32m-> 1476\u001b[0m     f \u001b[38;5;241m=\u001b[39m \u001b[38;5;28;01mlambda\u001b[39;00m x: \u001b[43mfunc\u001b[49m\u001b[43m(\u001b[49m\u001b[43mx\u001b[49m\u001b[43m,\u001b[49m\u001b[43m \u001b[49m\u001b[38;5;241;43m*\u001b[39;49m\u001b[43margs\u001b[49m\u001b[43m,\u001b[49m\u001b[43m \u001b[49m\u001b[38;5;241;43m*\u001b[39;49m\u001b[38;5;241;43m*\u001b[39;49m\u001b[43mkwargs\u001b[49m\u001b[43m)\u001b[49m\n\u001b[0;32m   1478\u001b[0m     \u001b[38;5;66;03m# iterate through \"columns\" ex exclusions to populate output dict\u001b[39;00m\n\u001b[0;32m   1479\u001b[0m     output: \u001b[38;5;28mdict\u001b[39m[base\u001b[38;5;241m.\u001b[39mOutputKey, ArrayLike] \u001b[38;5;241m=\u001b[39m {}\n",
      "File \u001b[1;32m~\\.conda\\envs\\geemap\\lib\\site-packages\\geopandas\\geodataframe.py:1710\u001b[0m, in \u001b[0;36mGeoDataFrame.dissolve.<locals>.merge_geometries\u001b[1;34m(block)\u001b[0m\n\u001b[0;32m   1709\u001b[0m \u001b[38;5;28;01mdef\u001b[39;00m \u001b[38;5;21mmerge_geometries\u001b[39m(block):\n\u001b[1;32m-> 1710\u001b[0m     merged_geom \u001b[38;5;241m=\u001b[39m \u001b[43mblock\u001b[49m\u001b[38;5;241;43m.\u001b[39;49m\u001b[43munary_union\u001b[49m\n\u001b[0;32m   1711\u001b[0m     \u001b[38;5;28;01mreturn\u001b[39;00m merged_geom\n",
      "File \u001b[1;32m~\\.conda\\envs\\geemap\\lib\\site-packages\\geopandas\\base.py:728\u001b[0m, in \u001b[0;36mGeoPandasBase.unary_union\u001b[1;34m(self)\u001b[0m\n\u001b[0;32m    709\u001b[0m \u001b[38;5;129m@property\u001b[39m\n\u001b[0;32m    710\u001b[0m \u001b[38;5;28;01mdef\u001b[39;00m \u001b[38;5;21munary_union\u001b[39m(\u001b[38;5;28mself\u001b[39m):\n\u001b[0;32m    711\u001b[0m     \u001b[38;5;124;03m\"\"\"Returns a geometry containing the union of all geometries in the\u001b[39;00m\n\u001b[0;32m    712\u001b[0m \u001b[38;5;124;03m    ``GeoSeries``.\u001b[39;00m\n\u001b[0;32m    713\u001b[0m \n\u001b[1;32m   (...)\u001b[0m\n\u001b[0;32m    726\u001b[0m \u001b[38;5;124;03m    POLYGON ((0 1, 0 2, 2 2, 2 0, 1 0, 0 0, 0 1))\u001b[39;00m\n\u001b[0;32m    727\u001b[0m \u001b[38;5;124;03m    \"\"\"\u001b[39;00m\n\u001b[1;32m--> 728\u001b[0m     \u001b[38;5;28;01mreturn\u001b[39;00m \u001b[38;5;28;43mself\u001b[39;49m\u001b[38;5;241;43m.\u001b[39;49m\u001b[43mgeometry\u001b[49m\u001b[38;5;241;43m.\u001b[39;49m\u001b[43mvalues\u001b[49m\u001b[38;5;241;43m.\u001b[39;49m\u001b[43munary_union\u001b[49m\u001b[43m(\u001b[49m\u001b[43m)\u001b[49m\n",
      "File \u001b[1;32m~\\.conda\\envs\\geemap\\lib\\site-packages\\geopandas\\array.py:638\u001b[0m, in \u001b[0;36mGeometryArray.unary_union\u001b[1;34m(self)\u001b[0m\n\u001b[0;32m    637\u001b[0m \u001b[38;5;28;01mdef\u001b[39;00m \u001b[38;5;21munary_union\u001b[39m(\u001b[38;5;28mself\u001b[39m):\n\u001b[1;32m--> 638\u001b[0m     \u001b[38;5;28;01mreturn\u001b[39;00m \u001b[43mvectorized\u001b[49m\u001b[38;5;241;43m.\u001b[39;49m\u001b[43munary_union\u001b[49m\u001b[43m(\u001b[49m\u001b[38;5;28;43mself\u001b[39;49m\u001b[38;5;241;43m.\u001b[39;49m\u001b[43mdata\u001b[49m\u001b[43m)\u001b[49m\n",
      "File \u001b[1;32m~\\.conda\\envs\\geemap\\lib\\site-packages\\geopandas\\_vectorized.py:907\u001b[0m, in \u001b[0;36munary_union\u001b[1;34m(data)\u001b[0m\n\u001b[0;32m    905\u001b[0m \u001b[38;5;28;01mdef\u001b[39;00m \u001b[38;5;21munary_union\u001b[39m(data):\n\u001b[0;32m    906\u001b[0m     \u001b[38;5;28;01mif\u001b[39;00m compat\u001b[38;5;241m.\u001b[39mUSE_PYGEOS:\n\u001b[1;32m--> 907\u001b[0m         \u001b[38;5;28;01mreturn\u001b[39;00m _pygeos_to_shapely(\u001b[43mpygeos\u001b[49m\u001b[38;5;241;43m.\u001b[39;49m\u001b[43munion_all\u001b[49m\u001b[43m(\u001b[49m\u001b[43mdata\u001b[49m\u001b[43m)\u001b[49m)\n\u001b[0;32m    908\u001b[0m     \u001b[38;5;28;01melse\u001b[39;00m:\n\u001b[0;32m    909\u001b[0m         data \u001b[38;5;241m=\u001b[39m [g \u001b[38;5;28;01mfor\u001b[39;00m g \u001b[38;5;129;01min\u001b[39;00m data \u001b[38;5;28;01mif\u001b[39;00m g \u001b[38;5;129;01mis\u001b[39;00m \u001b[38;5;129;01mnot\u001b[39;00m \u001b[38;5;28;01mNone\u001b[39;00m]\n",
      "File \u001b[1;32m~\\.conda\\envs\\geemap\\lib\\site-packages\\pygeos\\decorators.py:80\u001b[0m, in \u001b[0;36mmultithreading_enabled.<locals>.wrapped\u001b[1;34m(*args, **kwargs)\u001b[0m\n\u001b[0;32m     78\u001b[0m     \u001b[38;5;28;01mfor\u001b[39;00m arr \u001b[38;5;129;01min\u001b[39;00m array_args:\n\u001b[0;32m     79\u001b[0m         arr\u001b[38;5;241m.\u001b[39mflags\u001b[38;5;241m.\u001b[39mwriteable \u001b[38;5;241m=\u001b[39m \u001b[38;5;28;01mFalse\u001b[39;00m\n\u001b[1;32m---> 80\u001b[0m     \u001b[38;5;28;01mreturn\u001b[39;00m \u001b[43mfunc\u001b[49m\u001b[43m(\u001b[49m\u001b[38;5;241;43m*\u001b[39;49m\u001b[43margs\u001b[49m\u001b[43m,\u001b[49m\u001b[43m \u001b[49m\u001b[38;5;241;43m*\u001b[39;49m\u001b[38;5;241;43m*\u001b[39;49m\u001b[43mkwargs\u001b[49m\u001b[43m)\u001b[49m\n\u001b[0;32m     81\u001b[0m \u001b[38;5;28;01mfinally\u001b[39;00m:\n\u001b[0;32m     82\u001b[0m     \u001b[38;5;28;01mfor\u001b[39;00m arr, old_flag \u001b[38;5;129;01min\u001b[39;00m \u001b[38;5;28mzip\u001b[39m(array_args, old_flags):\n",
      "File \u001b[1;32m~\\.conda\\envs\\geemap\\lib\\site-packages\\pygeos\\set_operations.py:388\u001b[0m, in \u001b[0;36munion_all\u001b[1;34m(geometries, grid_size, axis, **kwargs)\u001b[0m\n\u001b[0;32m    385\u001b[0m     result \u001b[38;5;241m=\u001b[39m lib\u001b[38;5;241m.\u001b[39munary_union_prec(collections, grid_size, \u001b[38;5;241m*\u001b[39m\u001b[38;5;241m*\u001b[39mkwargs)\n\u001b[0;32m    387\u001b[0m \u001b[38;5;28;01melse\u001b[39;00m:\n\u001b[1;32m--> 388\u001b[0m     result \u001b[38;5;241m=\u001b[39m \u001b[43mlib\u001b[49m\u001b[38;5;241;43m.\u001b[39;49m\u001b[43munary_union\u001b[49m\u001b[43m(\u001b[49m\u001b[43mcollections\u001b[49m\u001b[43m,\u001b[49m\u001b[43m \u001b[49m\u001b[38;5;241;43m*\u001b[39;49m\u001b[38;5;241;43m*\u001b[39;49m\u001b[43mkwargs\u001b[49m\u001b[43m)\u001b[49m\n\u001b[0;32m    389\u001b[0m \u001b[38;5;66;03m# for consistency with other _all functions, we replace GEOMETRY COLLECTION EMPTY\u001b[39;00m\n\u001b[0;32m    390\u001b[0m \u001b[38;5;66;03m# if the original collection had no geometries\u001b[39;00m\n\u001b[0;32m    391\u001b[0m only_none \u001b[38;5;241m=\u001b[39m lib\u001b[38;5;241m.\u001b[39mget_num_geometries(collections) \u001b[38;5;241m==\u001b[39m \u001b[38;5;241m0\u001b[39m\n",
      "\u001b[1;31mGEOSException\u001b[0m: TopologyException: side location conflict at -2392450.9566475092 29955059.337994698. This can occur if the input geometry is invalid."
     ]
    }
   ],
   "source": [
    "# dissolve BIOMES\n",
    "biomes_proj = biomes_ecoregions_proj[['BIOME_NUM','BIOME_NAME','COLOR_BIO','geometry']].dissolve(by = ['BIOME_NUM','BIOME_NAME','COLOR_BIO'])"
   ]
  },
  {
   "cell_type": "code",
   "execution_count": 8,
   "id": "402700dc-7c71-42de-a3e0-58cc7d327819",
   "metadata": {},
   "outputs": [
    {
     "name": "stderr",
     "output_type": "stream",
     "text": [
      "C:\\Users\\FadliUwaisElqorni\\.conda\\envs\\geemap\\lib\\site-packages\\pygeos\\constructive.py:175: RuntimeWarning: invalid value encountered in buffer\n",
      "  return lib.buffer(\n"
     ]
    }
   ],
   "source": [
    "# intersect roi with biomes and ecoregions\n",
    "biomes_ecoregions_roi_proj = gpd.overlay(roi_proj, biomes_ecoregions_proj, how = \"intersection\", keep_geom_type=False)"
   ]
  },
  {
   "cell_type": "code",
   "execution_count": null,
   "id": "e70b2e9a-0636-42ca-8039-497abb01ee6e",
   "metadata": {},
   "outputs": [],
   "source": [
    "# calculate area\n",
    "# calculate area\n",
    "biomes_ecoregions_roi_proj[\"Area_Ha\"] = biomes_ecoregions_roi_proj['geometry'].area/10000"
   ]
  },
  {
   "cell_type": "markdown",
   "id": "d37f6ac8-0a36-4561-b503-cb30888a2244",
   "metadata": {},
   "source": [
    "### Data Visualization"
   ]
  },
  {
   "cell_type": "code",
   "execution_count": null,
   "id": "ada70cfc-cd6a-456d-b851-759aecea7841",
   "metadata": {},
   "outputs": [],
   "source": [
    "roi_proj_4326 = roi_proj.to_crs(crs = 'EPSG:4326')\n",
    "biomes_ecoregions_roi_proj_4326 = biomes_ecoregions_roi_proj.to_crs(crs = 'EPSG:4326')"
   ]
  },
  {
   "cell_type": "code",
   "execution_count": null,
   "id": "47da4c88-f478-45cc-a07b-d0ddbcc9a06f",
   "metadata": {},
   "outputs": [],
   "source": [
    "colors_ecoregions = biomes_ecoregions_roi_proj_4326['COLOR'].tolist()\n",
    "colormap_ecoregions = LinearSegmentedColormap.from_list([1, 2],colors_mangrove)\n",
    "\n",
    "colors_biomes = biomes_ecoregions_roi_proj_4326['COLOR_BIO'].tolist()\n",
    "\n",
    "\n",
    "scheme_mnm = mc.UserDefined(mangrove_nonmangrove_roi_proj_4326['Data'], bins = [1, 2])"
   ]
  }
 ],
 "metadata": {
  "kernelspec": {
   "display_name": "Python 3 (ipykernel)",
   "language": "python",
   "name": "python3"
  },
  "language_info": {
   "codemirror_mode": {
    "name": "ipython",
    "version": 3
   },
   "file_extension": ".py",
   "mimetype": "text/x-python",
   "name": "python",
   "nbconvert_exporter": "python",
   "pygments_lexer": "ipython3",
   "version": "3.8.13"
  }
 },
 "nbformat": 4,
 "nbformat_minor": 5
}
