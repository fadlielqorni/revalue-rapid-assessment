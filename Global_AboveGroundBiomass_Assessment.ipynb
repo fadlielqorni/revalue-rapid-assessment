{
 "cells": [
  {
   "cell_type": "markdown",
   "id": "855d5374-d3af-4296-9ed4-f46965b8f5c9",
   "metadata": {},
   "source": [
    "# **Global Above-ground Live Woody Biomass Assessment**\n",
    "<span style = \"font-size: 1.5em;\"> ***WHRC Pantropical National Level Carbon Stock Dataset in 2012*** </span>"
   ]
  },
  {
   "cell_type": "markdown",
   "id": "cc40792a-cfc3-4130-87ec-a6931ad43363",
   "metadata": {
    "tags": []
   },
   "source": [
    "## Brief Description"
   ]
  },
  {
   "cell_type": "markdown",
   "id": "896d1099-cc71-45b0-a785-fc0882e5f6f2",
   "metadata": {},
   "source": [
    "### <span style = \"font-size: 1em;\"> ***Brief Description of The Asssessment*** </span>\n",
    "\n",
    "The assessment will estimate the above ground biomass (AGB) (ton C) in RoI and Remaining Forest in 2022. The AGB on Forest area is derived from overlay and masking analysis between WHRC Biomass dataset and Hansen Tree Cover.\n",
    "\n",
    "<span style=\"font-size:1.1em;\"> ***Input Data Needed*** </span>\n",
    "- Shapefile\n",
    "> - **roi_directory** : specify region of interest shapefiile\n",
    "\n",
    "- Input Data Variables\n",
    "> - **projectname (string)** : project name (example: \"RVL_IDN_KubuRaya\")\n",
    "> - **projection**: UTM projection code in code (example: \"EPSG:3857\")\n",
    "> - **roi_column_name** : variable name that specifiy unique ID for multipolygon analysis (example: \"Name\")\n",
    "\n",
    "- Output directory folder\n",
    "> - **output_directory** : select directory folder to put the output result\n",
    "\n",
    "<span style=\"font-size:1.1em;\"> ***Expected Output*** </span>\n",
    "- Rasters dataset\n",
    "> - WHRC Above ground biomass (Mg/Ha) in RoI and Forest extent in 2022\n",
    "\n",
    "- csv, graph and maps \n",
    "> - Above ground biomass estimation in remaining forest extent area (Mg/Ha)\n",
    "> - Above Ground Biomass distribution in remaining forest extent area"
   ]
  },
  {
   "cell_type": "markdown",
   "id": "4c045924-1dca-42cd-b943-39ae861cc525",
   "metadata": {},
   "source": [
    "### <span style = \"font-size: 1em;\"> ***Brief Description of The Dataset*** </span>\n",
    "\n",
    "A national-level map of above-ground live woody biomass density for tropical countries at 500m in 2012. This dataset was assembled from a combination of co-located field measurements, LiDAR observations, and imagery recorded from the Moderate Resolution Imaging Spectroradiometer (MODIS).\n",
    "\n",
    "\n",
    "<span style=\"font-size:1.1em;\"> ***Source*** </span>\n",
    "- WHRC Pantropical National Level Carbon Stock Dataset in 2012\n",
    "A. Baccini, S J. Goetz, W.S. Walker, N. T. Laporte, M. Sun, D. Sulla-Menashe, J. Hackler, P.S.A. Beck, R. Dubayah, M.A. Friedl, S. Samanta and R. A. Houghton. Estimated carbon dioxide emissions from tropical deforestation improved by carbon-density maps. 2012 Nature Climate Change, https://doi.org/10.1038/NCLIMATE1354\n"
   ]
  },
  {
   "cell_type": "markdown",
   "id": "548a69c2-67d3-4dfe-9bd5-8ceb2707a52d",
   "metadata": {},
   "source": [
    "### <span style = \"font-size: 1em;\"> ***Note*** </span>\n",
    "\n",
    "- WHRC biomass datasets represent the above ground biomass estimation in 2012"
   ]
  },
  {
   "cell_type": "markdown",
   "id": "0b496c73-2654-441d-bec7-3166b491a6c6",
   "metadata": {},
   "source": [
    "## Data Preparation"
   ]
  },
  {
   "cell_type": "markdown",
   "id": "aa3edd64-761a-4191-a237-b72ca2cccd37",
   "metadata": {},
   "source": [
    "### Import modules and Relevant Datasets"
   ]
  },
  {
   "cell_type": "code",
   "execution_count": 1,
   "id": "095d54b7-6e3d-4fc3-adf8-e2c08891089a",
   "metadata": {},
   "outputs": [],
   "source": [
    "%matplotlib inline\n",
    "# Earth Engine Packages\n",
    "import os\n",
    "import ee\n",
    "import geemap\n",
    "import geopandas as gpd\n",
    "import pandas as pd\n",
    "from tkinter import Tk, filedialog, simpledialog, messagebox\n",
    "from tkinter import * \n",
    "import matplotlib.pyplot as plt\n",
    "from matplotlib_scalebar.scalebar import ScaleBar\n",
    "from matplotlib.colors import ListedColormap, BoundaryNorm, LinearSegmentedColormap\n",
    "from matplotlib import colors\n",
    "from matplotlib.patches import Patch\n",
    "import geoplot as gplt\n",
    "import contextily as ctx\n",
    "import plotly.express as px\n",
    "import numpy as np\n",
    "import geoplot.crs as gcrs\n",
    "import mapclassify as mc\n",
    "import cartopy.io.img_tiles as cimgt\n",
    "import shapely.wkt"
   ]
  },
  {
   "cell_type": "code",
   "execution_count": 2,
   "id": "7eacf561-2a69-4ae3-8ded-808e1e7124d9",
   "metadata": {},
   "outputs": [],
   "source": [
    "try:\n",
    "        ee.Initialize()\n",
    "except Exception as e:\n",
    "        ee.Authenticate()\n",
    "        ee.Initialize()"
   ]
  },
  {
   "cell_type": "code",
   "execution_count": 3,
   "id": "50e134fb-d7a9-46f5-8ffb-a6f18d296f5a",
   "metadata": {},
   "outputs": [],
   "source": [
    "root = Tk() # pointing root to Tk() to use it as Tk() in program.\n",
    "root.withdraw() # Hides small tkinter window.\n",
    "root.attributes('-topmost', True) # Opened windows will be active. above all windows despite of selection.\n",
    "roi_directory = filedialog.askopenfile(title = \"Open RoI Shapefile\") \n",
    "# Output folder\n",
    "output_directory = filedialog.askdirectory(title = \"Specify Output Folder\")"
   ]
  },
  {
   "cell_type": "code",
   "execution_count": 4,
   "id": "42eb78ce-94fd-4f2b-8903-1755aa457b00",
   "metadata": {},
   "outputs": [],
   "source": [
    "# output directory\n",
    "out_dir = os.path.expanduser(output_directory+'/RapidScreening_AGBiomassAssessment')\n",
    "if not os.path.exists(out_dir):\n",
    "    os.makedirs(out_dir)"
   ]
  },
  {
   "cell_type": "markdown",
   "id": "54e640af-a6ff-4981-99ea-b2dbccac5d9e",
   "metadata": {
    "tags": []
   },
   "source": [
    "### Specify Input Data"
   ]
  },
  {
   "cell_type": "code",
   "execution_count": 5,
   "id": "7314c27a-7b59-4612-b39e-2e1d23bb28ce",
   "metadata": {},
   "outputs": [
    {
     "name": "stdout",
     "output_type": "stream",
     "text": [
      "The script will assess  Gabon RoI\n",
      "Forest is defined as area with >=  30  canopy cover\n",
      "All data will be reprojected to  EPSG:32732  canopy cover\n",
      "Minimum mapping unit size is  12  pixels\n",
      "Column name is  NAME\n"
     ]
    }
   ],
   "source": [
    "###### 1 Specify project/region name, Forest threshold and projection\n",
    "root = Tk() # pointing root to Tk() to use it as Tk() in program.\n",
    "root.withdraw() # Hides small tkinter window.\n",
    "root.attributes('-topmost', True) # Opened windows will be active. above all windows despite of selection.\n",
    "\n",
    "# specify project name\n",
    "projectname = simpledialog.askstring(\"Input\", \"Speficy project name\",parent=root)\n",
    "\n",
    "if projectname is not None:\n",
    "    print(\"The script will assess \", projectname)\n",
    "else:\n",
    "    print(\"Name has not been submitted, Restart the code!\")\n",
    "\n",
    "#Specify forest_threshold\n",
    "forest_threshold = simpledialog.askinteger(\"Input\", \"Specify forest threshold value to define forest\",parent=root , \n",
    "                                           minvalue =0, maxvalue = 100)\n",
    "\n",
    "if forest_threshold is not None:\n",
    "    print(\"Forest is defined as area with >= \", forest_threshold, ' canopy cover')\n",
    "else:\n",
    "    print(\"Forest Threshold has not specified, Restart the code!\")\n",
    "    \n",
    "#Specify Projection\n",
    "projection = simpledialog.askstring(\"Input\", \"Specify Projection in UTM zone, example EPSG:3857\", parent=root)\n",
    "\n",
    "if projection is not None:\n",
    "    print(\"All data will be reprojected to \", projection, ' canopy cover')\n",
    "else:\n",
    "    print(\"Projection has not specified, Restart the code!\")\n",
    "    \n",
    "# Specify minimum mapping unit - forest\n",
    "min_mapping_unit = simpledialog.askinteger(\"Input\", \"Specify Min pixels area, example: 22 pixels = 2 Ha or 6 pixels = 0.5 Ha\",\n",
    "                                           parent=root , minvalue =0, maxvalue = 100)\n",
    "\n",
    "if min_mapping_unit is not None:\n",
    "    print(\"Minimum mapping unit size is \", min_mapping_unit, ' pixels')\n",
    "else:\n",
    "    print(\"Minimum pixels size has not identified, Restart the code!\")\n",
    "\n",
    "pixels_mmu = ee.Number(min_mapping_unit)\n",
    "\n",
    "# Specify column name in RoI attribute table\n",
    "roi_column_name = simpledialog.askstring(\"Input\", \"Specify columns name in ROI attribute table to define boundary name\",parent=root)\n",
    "\n",
    "if roi_column_name is not None:\n",
    "    print(\"Column name is \", roi_column_name)\n",
    "else:\n",
    "    print(\"Column has not identified, Restart the code!\")"
   ]
  },
  {
   "cell_type": "code",
   "execution_count": 6,
   "id": "4af4ddbf-8cf3-4330-aeca-249b4298c0fe",
   "metadata": {},
   "outputs": [],
   "source": [
    "# tile scale to avoid memory ran out issue\n",
    "tileScale = 4"
   ]
  },
  {
   "cell_type": "markdown",
   "id": "fc22e18e-d349-4f2d-a18c-afab5ba438fe",
   "metadata": {
    "tags": []
   },
   "source": [
    "### Visualisation Parameters"
   ]
  },
  {
   "cell_type": "code",
   "execution_count": 7,
   "id": "88a02613-155a-4f38-8c8a-d8893a5c59b7",
   "metadata": {},
   "outputs": [],
   "source": [
    "# Forest non forest map\n",
    "vis_forestnonforest = {'palette': ['#008000']};\n",
    "\n",
    "vis_biomass = {'min': 0.0, 'max': 350.0, 'palette': ['FFFFFF', 'CE7E45', 'DF923D', 'F1B555', 'FCD163', '99B718', '74A901',\n",
    "                                                     '66A000', '529400', '3E8601', '207401', '056201', '004C00', '023B01',\n",
    "                                                     '012E01', '011D01', '011301'],};\n",
    "\n",
    "# roi polygon\n",
    "vis_roi = {'color': '#FF0000', 'width': 2,'lineType': 'solid','fillColor': '00000000'}"
   ]
  },
  {
   "cell_type": "markdown",
   "id": "2447facb-564d-4a0d-9157-7c474262c86b",
   "metadata": {
    "tags": []
   },
   "source": [
    "## Above Ground Biomass (AGB) Estimation in RoI and Remaining Forest Area"
   ]
  },
  {
   "cell_type": "code",
   "execution_count": 52,
   "id": "aea46baa-4c21-41fb-b0c2-8fbcd3a7eace",
   "metadata": {},
   "outputs": [],
   "source": [
    "# Region of interest\n",
    "roi = gpd.read_file(roi_directory.name)\n",
    "\n",
    "# Reproject Shapefile to UTM and convert to ee.FeatureCollection\n",
    "roi_proj  = roi.to_crs(crs=projection)\n",
    "\n",
    "# Convert to ee.FeatureCollection for calculation process\n",
    "roi_proj_gee = geemap.geopandas_to_ee(roi_proj, geodesic=False)"
   ]
  },
  {
   "cell_type": "markdown",
   "id": "1c6db042-ed3f-4826-85e9-763a58bbd0d7",
   "metadata": {
    "tags": []
   },
   "source": [
    "### Data Processing - Hansen Remaining Forest Area"
   ]
  },
  {
   "cell_type": "code",
   "execution_count": 53,
   "id": "c3c74678-6a61-47ca-ad65-33402b825aa4",
   "metadata": {},
   "outputs": [],
   "source": [
    "# Import Hansen image dataset\n",
    "Hansen = ee.Image(\"UMD/hansen/global_forest_change_2021_v1_9\")\n",
    "\n",
    "# Select bands\n",
    "treeCover = Hansen.select(['treecover2000']);\n",
    "lossImage = Hansen.select(['loss']);\n",
    "gainImage = Hansen.select(['gain']);\n",
    "lossImage_year = Hansen.select(['lossyear']);\n",
    "landmask = Hansen.select(['datamask']);"
   ]
  },
  {
   "cell_type": "code",
   "execution_count": 54,
   "id": "6b46c3b8-04a5-4776-bc8d-151f4d1251cc",
   "metadata": {},
   "outputs": [],
   "source": [
    "# Reproject Image to UTM\n",
    "treeCover_proj = treeCover.reproject(crs = projection, scale = 30)\n",
    "lossImage_proj = lossImage.reproject(crs = projection, scale = 30)\n",
    "lossImage_year_proj = lossImage_year.reproject(crs = projection, scale = 30)\n",
    "landmask_proj = landmask.reproject(crs = projection, scale = 30)"
   ]
  },
  {
   "cell_type": "code",
   "execution_count": 55,
   "id": "e994ad35-a47d-4e8d-9186-84b56341122a",
   "metadata": {},
   "outputs": [],
   "source": [
    "# 1 Forest Map in 2000\n",
    "\n",
    "## Define forest area by >= canopy cover\n",
    "Hansen_Forest = treeCover_proj.gte(forest_threshold);\n",
    "## Mask forest canopy cover threshold\n",
    "Hansen_Forest_LandMasked = Hansen_Forest.updateMask(Hansen_Forest.eq(1)).updateMask(landmask_proj.eq(1));\n",
    "\n",
    "## Apply smoothing with minimum area unit\n",
    "Hansen_Forest_MinArea = Hansen_Forest_LandMasked.connectedPixelCount().gte(pixels_mmu).selfMask()\n",
    "\n",
    "## Final forest cover in 2000\n",
    "Hansen_Forest_firstPeriod = Hansen_Forest_LandMasked.updateMask(Hansen_Forest_MinArea);"
   ]
  },
  {
   "cell_type": "code",
   "execution_count": 56,
   "id": "738531a8-c529-41be-8d7d-1516ac6ddaa5",
   "metadata": {},
   "outputs": [],
   "source": [
    "# 2 Accumulative Forest Loss 2001-2021\n",
    "maskerforestLos_0121 = lossImage_year_proj.gte(1);\n",
    "## Set MMU to Estimate accumulative forest 2013-2021\n",
    "forestLoss_0121 = lossImage_proj.updateMask(Hansen_Forest_firstPeriod).updateMask(landmask_proj.eq(1)).updateMask(maskerforestLos_0121);\n",
    "contLoss = forestLoss_0121.connectedPixelCount().gte(pixels_mmu);\n",
    "AccumForestLoss_0121 = forestLoss_0121.updateMask(contLoss);"
   ]
  },
  {
   "cell_type": "code",
   "execution_count": 57,
   "id": "d7ae3846-c1c7-4a50-8f95-36b7bbd5f7a7",
   "metadata": {},
   "outputs": [],
   "source": [
    "# 3 Forest Cover in 2022\n",
    "minLossUnmask_22 = AccumForestLoss_0121.unmask();\n",
    "notLoss_22 = minLossUnmask_22.select('loss').eq(0);\n",
    "Hansen_Remaining_Forest = Hansen_Forest_firstPeriod.updateMask(notLoss_22)\n",
    "\n",
    "# Clip in roi\n",
    "Hansen_Remaining_Forest_roi = Hansen_Remaining_Forest.clip(roi_proj_gee)"
   ]
  },
  {
   "cell_type": "markdown",
   "id": "628ec408-e7e9-4a74-a595-6d56ca73d946",
   "metadata": {
    "tags": []
   },
   "source": [
    "### Data Processing - WHRC Above Ground Biomass"
   ]
  },
  {
   "cell_type": "code",
   "execution_count": 58,
   "id": "ccace05e-c220-4901-bd85-9712df0b8ea6",
   "metadata": {},
   "outputs": [],
   "source": [
    "# 1. Reproject WHRC Dataset\n",
    "WHRC = ee.Image(\"WHRC/biomass/tropical\")\n",
    "WHRC_proj = WHRC.reproject(crs = projection, scale = 500)"
   ]
  },
  {
   "cell_type": "code",
   "execution_count": 59,
   "id": "0c1cc188-d873-4aab-89ea-d138e0168b8c",
   "metadata": {},
   "outputs": [],
   "source": [
    "# 2. Mask WHRC with roi and Remaining Forest\n",
    "WHRC_roi_proj = WHRC_proj.clip(roi_proj_gee)\n",
    "WHRC_RemainingForest_proj = WHRC_proj.updateMask(Hansen_Remaining_Forest_roi.eq(1))"
   ]
  },
  {
   "cell_type": "code",
   "execution_count": 60,
   "id": "dc382911-a860-4100-9b61-eb1998c557a5",
   "metadata": {},
   "outputs": [],
   "source": [
    "# 3. Above ground biomass estimation\n",
    "abv_biomass_roi = WHRC_roi_proj.select('Mg').multiply(25)\n",
    "abv_biomass_RemainingForest = WHRC_RemainingForest_proj.select ('Mg').multiply(25)"
   ]
  },
  {
   "cell_type": "markdown",
   "id": "6e99fe26-3124-498e-b679-0ab4394eacce",
   "metadata": {
    "tags": []
   },
   "source": [
    "### Interactive Map visualization"
   ]
  },
  {
   "cell_type": "code",
   "execution_count": 61,
   "id": "c34ae7e2-92d4-4134-a41b-322f064026fe",
   "metadata": {},
   "outputs": [
    {
     "data": {
      "application/vnd.jupyter.widget-view+json": {
       "model_id": "7d8e08155ed64373b6b8cb6bd7700695",
       "version_major": 2,
       "version_minor": 0
      },
      "text/plain": [
       "Map(center=[0.4653966800280865, 9.583736496336329], controls=(WidgetControl(options=['position', 'transparent_…"
      ]
     },
     "execution_count": 61,
     "metadata": {},
     "output_type": "execute_result"
    }
   ],
   "source": [
    "Map = geemap.Map()\n",
    "Map.centerObject(roi_proj_gee, 10)\n",
    "\n",
    "# 1 RoI and buffer\n",
    "Map.addLayer(roi_proj_gee, vis_roi, \"Region of Interest\");\n",
    "# 2 Remaining Forest\n",
    "Map.addLayer(Hansen_Remaining_Forest_roi, vis_forestnonforest, \"Forest/Non-forest 2022\");\n",
    "# 3. Above ground biomass \n",
    "Map.addLayer(WHRC_roi_proj, vis_biomass, 'WHRC-Biomass in RoI', False)\n",
    "Map.addLayer(WHRC_RemainingForest_proj, vis_biomass, 'WHRC-Biomass in Forest 2022', True)\n",
    "\n",
    "Map"
   ]
  },
  {
   "cell_type": "markdown",
   "id": "e5514158-3e92-4cab-a8d8-1d2e4c547502",
   "metadata": {
    "tags": []
   },
   "source": [
    "### Export Results"
   ]
  },
  {
   "cell_type": "code",
   "execution_count": 44,
   "id": "d90224b1-1dca-4aff-9b33-3cf05e6c9c2f",
   "metadata": {},
   "outputs": [
    {
     "name": "stdout",
     "output_type": "stream",
     "text": [
      "Computing statistics ...\n",
      "Generating URL ...\n",
      "Downloading data from https://earthengine.googleapis.com/v1alpha/projects/earthengine-legacy/tables/1eef3800904cf261a2c9671a4413eec5-4cf6074e3c111f7fe5dba37a419a4642:getFeatures\n",
      "Please wait ...\n",
      "Data downloaded to C:\\Users\\FadliUwaisElqorni\\SYSTEMIQ Ltd\\GIS Tools - Documents\\23_FEASIBILITY RVL_TZA_RUV - AUDD\\Python Script\\03 Comparison Number Checking All\\03 Jupyter Calculation\\RapidScreening_AGBiomassAssessment\\Gabon RoI_AGBiomass_roi.csv\n",
      "Computing statistics ...\n",
      "Generating URL ...\n",
      "Downloading data from https://earthengine.googleapis.com/v1alpha/projects/earthengine-legacy/tables/79ed2f0aeb4cf9dbcc27a3f24a7c73f0-7f16a5f8ce56418945cd01f0d8a8b376:getFeatures\n",
      "Please wait ...\n",
      "Data downloaded to C:\\Users\\FadliUwaisElqorni\\SYSTEMIQ Ltd\\GIS Tools - Documents\\23_FEASIBILITY RVL_TZA_RUV - AUDD\\Python Script\\03 Comparison Number Checking All\\03 Jupyter Calculation\\RapidScreening_AGBiomassAssessment\\Gabon RoI_AGBiomass_RemainingForest.csv\n"
     ]
    }
   ],
   "source": [
    "# 1. Above ground Biomass\n",
    "\n",
    "# a. Above ground biomass - RoI\n",
    "AGB_roi_dir = os.path.join(out_dir, projectname + '_AGBiomass_roi.csv')\n",
    "geemap.zonal_stats(\n",
    "    abv_biomass_roi,\n",
    "    roi_proj_gee,\n",
    "    AGB_roi_dir,\n",
    "    statistics_type='SUM',\n",
    "    tile_scale = tileScale,\n",
    "    scale = 500,\n",
    "    crs = projection,\n",
    ")\n",
    "\n",
    "# b. Above ground biomass - Remaining Forest in 2022\n",
    "AGB_RemainingForest_dir = os.path.join(out_dir, projectname + '_AGBiomass_RemainingForest.csv')\n",
    "geemap.zonal_stats(\n",
    "    abv_biomass_RemainingForest,\n",
    "    roi_proj_gee,\n",
    "    AGB_RemainingForest_dir,\n",
    "    statistics_type='SUM',\n",
    "    tile_scale = tileScale,\n",
    "    scale = 500,\n",
    "    crs = projection,\n",
    ")"
   ]
  },
  {
   "cell_type": "code",
   "execution_count": 51,
   "id": "e5f483bb-9894-4af6-89f9-ad50137b90d5",
   "metadata": {},
   "outputs": [],
   "source": [
    "# 2. Above ground biomass Rasters\n",
    "\n",
    "# a. Above ground biomass -Remaining Forest in 2022\n",
    "geemap.ee_export_image_to_drive(\n",
    "    abv_biomass_RemainingForest,\n",
    "    description = projectname + '_AGBiomass_RemainingForest22',\n",
    "    folder = projectname + '_BiomassAssessment',\n",
    "    fileNamePrefix = projectname + '_AGBiomass_RemainingForest22',\n",
    "    scale = 30,\n",
    "    crs = projection,\n",
    "    maxPixels= 1e12,\n",
    "    region = roi_proj_gee.geometry()\n",
    ")\n",
    "\n",
    "# b. Above ground biomass -RoI\n",
    "geemap.ee_export_image_to_drive(\n",
    "    abv_biomass_roi,\n",
    "    description = projectname + '_AGBiomass_RoI',\n",
    "    folder = projectname + '_BiomassAssessment',\n",
    "    fileNamePrefix = projectname + '_AGBiomass_RoI',\n",
    "    scale = 30,\n",
    "    crs = projection,\n",
    "    maxPixels= 1e12,\n",
    "    region = roi_proj_gee.geometry()\n",
    ")"
   ]
  },
  {
   "cell_type": "markdown",
   "id": "5b357be8-d333-4e04-885d-2910d6477ded",
   "metadata": {},
   "source": [
    "## Data Visualization"
   ]
  },
  {
   "cell_type": "code",
   "execution_count": 62,
   "id": "919973db-1c17-4d55-bf68-12fcba313705",
   "metadata": {},
   "outputs": [],
   "source": [
    "# 1. Above Ground Biomass in RoI and Forest Extent 2022\n",
    "# 1.1 RoI\n",
    "agb_roi_table = pd.read_csv(AGB_roi_dir.replace(os.sep,'/'))\n",
    "agb_roi_table['Region'] = 'RoI'\n",
    "# 1.2 Forest 2022\n",
    "agb_forest22_table = pd.read_csv(AGB_RemainingForest_dir.replace(os.sep, '/'))\n",
    "agb_forest22_table['Region'] = 'Forest extent in 2022'"
   ]
  },
  {
   "cell_type": "code",
   "execution_count": 63,
   "id": "906bf080-491a-402e-a5d8-7f6f9e6b1b0c",
   "metadata": {},
   "outputs": [],
   "source": [
    "# merge table\n",
    "merge_agb_table = pd.concat([agb_roi_table, agb_forest22_table], ignore_index=True)"
   ]
  },
  {
   "cell_type": "code",
   "execution_count": 64,
   "id": "eb73669d-e329-4af1-a9d9-41e30c938581",
   "metadata": {},
   "outputs": [
    {
     "data": {
      "text/html": [
       "<div>\n",
       "<style scoped>\n",
       "    .dataframe tbody tr th:only-of-type {\n",
       "        vertical-align: middle;\n",
       "    }\n",
       "\n",
       "    .dataframe tbody tr th {\n",
       "        vertical-align: top;\n",
       "    }\n",
       "\n",
       "    .dataframe thead th {\n",
       "        text-align: right;\n",
       "    }\n",
       "</style>\n",
       "<table border=\"1\" class=\"dataframe\">\n",
       "  <thead>\n",
       "    <tr style=\"text-align: right;\">\n",
       "      <th></th>\n",
       "      <th>sum</th>\n",
       "      <th>system:index</th>\n",
       "      <th>NAME</th>\n",
       "      <th>id</th>\n",
       "      <th>Region</th>\n",
       "    </tr>\n",
       "  </thead>\n",
       "  <tbody>\n",
       "    <tr>\n",
       "      <th>0</th>\n",
       "      <td>10767.745098</td>\n",
       "      <td>0</td>\n",
       "      <td>Test_1</td>\n",
       "      <td>1</td>\n",
       "      <td>RoI</td>\n",
       "    </tr>\n",
       "    <tr>\n",
       "      <th>1</th>\n",
       "      <td>31714.313725</td>\n",
       "      <td>1</td>\n",
       "      <td>Test_2</td>\n",
       "      <td>2</td>\n",
       "      <td>RoI</td>\n",
       "    </tr>\n",
       "    <tr>\n",
       "      <th>2</th>\n",
       "      <td>4475.098039</td>\n",
       "      <td>2</td>\n",
       "      <td>Test_3</td>\n",
       "      <td>3</td>\n",
       "      <td>RoI</td>\n",
       "    </tr>\n",
       "    <tr>\n",
       "      <th>3</th>\n",
       "      <td>10767.745098</td>\n",
       "      <td>0</td>\n",
       "      <td>Test_1</td>\n",
       "      <td>1</td>\n",
       "      <td>Forest extent in 2022</td>\n",
       "    </tr>\n",
       "    <tr>\n",
       "      <th>4</th>\n",
       "      <td>31714.313725</td>\n",
       "      <td>1</td>\n",
       "      <td>Test_2</td>\n",
       "      <td>2</td>\n",
       "      <td>Forest extent in 2022</td>\n",
       "    </tr>\n",
       "    <tr>\n",
       "      <th>5</th>\n",
       "      <td>4106.274510</td>\n",
       "      <td>2</td>\n",
       "      <td>Test_3</td>\n",
       "      <td>3</td>\n",
       "      <td>Forest extent in 2022</td>\n",
       "    </tr>\n",
       "  </tbody>\n",
       "</table>\n",
       "</div>"
      ],
      "text/plain": [
       "            sum  system:index    NAME  id                 Region\n",
       "0  10767.745098             0  Test_1   1                    RoI\n",
       "1  31714.313725             1  Test_2   2                    RoI\n",
       "2   4475.098039             2  Test_3   3                    RoI\n",
       "3  10767.745098             0  Test_1   1  Forest extent in 2022\n",
       "4  31714.313725             1  Test_2   2  Forest extent in 2022\n",
       "5   4106.274510             2  Test_3   3  Forest extent in 2022"
      ]
     },
     "execution_count": 64,
     "metadata": {},
     "output_type": "execute_result"
    }
   ],
   "source": [
    "merge_agb_table"
   ]
  },
  {
   "cell_type": "code",
   "execution_count": 65,
   "id": "1d9ce81b-3c49-4189-bd8b-4949f4d7c8f1",
   "metadata": {},
   "outputs": [
    {
     "data": {
      "application/vnd.plotly.v1+json": {
       "config": {
        "plotlyServerURL": "https://plot.ly"
       },
       "data": [
        {
         "alignmentgroup": "True",
         "hovertemplate": "Region=RoI<br>RoI Name=%{x}<br>sum=%{y}<extra></extra>",
         "legendgroup": "RoI",
         "marker": {
          "color": "#77dd77",
          "pattern": {
           "shape": ""
          }
         },
         "name": "RoI",
         "offsetgroup": "RoI",
         "orientation": "v",
         "showlegend": true,
         "textposition": "auto",
         "type": "bar",
         "x": [
          "Test_1",
          "Test_2",
          "Test_3"
         ],
         "xaxis": "x",
         "y": [
          10767.745098039217,
          31714.313725490192,
          4475.098039215686
         ],
         "yaxis": "y"
        },
        {
         "alignmentgroup": "True",
         "hovertemplate": "Region=Forest extent in 2022<br>RoI Name=%{x}<br>sum=%{y}<extra></extra>",
         "legendgroup": "Forest extent in 2022",
         "marker": {
          "color": "#228b22",
          "pattern": {
           "shape": ""
          }
         },
         "name": "Forest extent in 2022",
         "offsetgroup": "Forest extent in 2022",
         "orientation": "v",
         "showlegend": true,
         "textposition": "auto",
         "type": "bar",
         "x": [
          "Test_1",
          "Test_2",
          "Test_3"
         ],
         "xaxis": "x",
         "y": [
          10767.745098039217,
          31714.313725490192,
          4106.274509803921
         ],
         "yaxis": "y"
        }
       ],
       "layout": {
        "barmode": "group",
        "height": 500,
        "legend": {
         "title": {
          "text": "Extent"
         },
         "tracegroupgap": 0
        },
        "template": {
         "data": {
          "bar": [
           {
            "error_x": {
             "color": "#2a3f5f"
            },
            "error_y": {
             "color": "#2a3f5f"
            },
            "marker": {
             "line": {
              "color": "#E5ECF6",
              "width": 0.5
             },
             "pattern": {
              "fillmode": "overlay",
              "size": 10,
              "solidity": 0.2
             }
            },
            "type": "bar"
           }
          ],
          "barpolar": [
           {
            "marker": {
             "line": {
              "color": "#E5ECF6",
              "width": 0.5
             },
             "pattern": {
              "fillmode": "overlay",
              "size": 10,
              "solidity": 0.2
             }
            },
            "type": "barpolar"
           }
          ],
          "carpet": [
           {
            "aaxis": {
             "endlinecolor": "#2a3f5f",
             "gridcolor": "white",
             "linecolor": "white",
             "minorgridcolor": "white",
             "startlinecolor": "#2a3f5f"
            },
            "baxis": {
             "endlinecolor": "#2a3f5f",
             "gridcolor": "white",
             "linecolor": "white",
             "minorgridcolor": "white",
             "startlinecolor": "#2a3f5f"
            },
            "type": "carpet"
           }
          ],
          "choropleth": [
           {
            "colorbar": {
             "outlinewidth": 0,
             "ticks": ""
            },
            "type": "choropleth"
           }
          ],
          "contour": [
           {
            "colorbar": {
             "outlinewidth": 0,
             "ticks": ""
            },
            "colorscale": [
             [
              0,
              "#0d0887"
             ],
             [
              0.1111111111111111,
              "#46039f"
             ],
             [
              0.2222222222222222,
              "#7201a8"
             ],
             [
              0.3333333333333333,
              "#9c179e"
             ],
             [
              0.4444444444444444,
              "#bd3786"
             ],
             [
              0.5555555555555556,
              "#d8576b"
             ],
             [
              0.6666666666666666,
              "#ed7953"
             ],
             [
              0.7777777777777778,
              "#fb9f3a"
             ],
             [
              0.8888888888888888,
              "#fdca26"
             ],
             [
              1,
              "#f0f921"
             ]
            ],
            "type": "contour"
           }
          ],
          "contourcarpet": [
           {
            "colorbar": {
             "outlinewidth": 0,
             "ticks": ""
            },
            "type": "contourcarpet"
           }
          ],
          "heatmap": [
           {
            "colorbar": {
             "outlinewidth": 0,
             "ticks": ""
            },
            "colorscale": [
             [
              0,
              "#0d0887"
             ],
             [
              0.1111111111111111,
              "#46039f"
             ],
             [
              0.2222222222222222,
              "#7201a8"
             ],
             [
              0.3333333333333333,
              "#9c179e"
             ],
             [
              0.4444444444444444,
              "#bd3786"
             ],
             [
              0.5555555555555556,
              "#d8576b"
             ],
             [
              0.6666666666666666,
              "#ed7953"
             ],
             [
              0.7777777777777778,
              "#fb9f3a"
             ],
             [
              0.8888888888888888,
              "#fdca26"
             ],
             [
              1,
              "#f0f921"
             ]
            ],
            "type": "heatmap"
           }
          ],
          "heatmapgl": [
           {
            "colorbar": {
             "outlinewidth": 0,
             "ticks": ""
            },
            "colorscale": [
             [
              0,
              "#0d0887"
             ],
             [
              0.1111111111111111,
              "#46039f"
             ],
             [
              0.2222222222222222,
              "#7201a8"
             ],
             [
              0.3333333333333333,
              "#9c179e"
             ],
             [
              0.4444444444444444,
              "#bd3786"
             ],
             [
              0.5555555555555556,
              "#d8576b"
             ],
             [
              0.6666666666666666,
              "#ed7953"
             ],
             [
              0.7777777777777778,
              "#fb9f3a"
             ],
             [
              0.8888888888888888,
              "#fdca26"
             ],
             [
              1,
              "#f0f921"
             ]
            ],
            "type": "heatmapgl"
           }
          ],
          "histogram": [
           {
            "marker": {
             "pattern": {
              "fillmode": "overlay",
              "size": 10,
              "solidity": 0.2
             }
            },
            "type": "histogram"
           }
          ],
          "histogram2d": [
           {
            "colorbar": {
             "outlinewidth": 0,
             "ticks": ""
            },
            "colorscale": [
             [
              0,
              "#0d0887"
             ],
             [
              0.1111111111111111,
              "#46039f"
             ],
             [
              0.2222222222222222,
              "#7201a8"
             ],
             [
              0.3333333333333333,
              "#9c179e"
             ],
             [
              0.4444444444444444,
              "#bd3786"
             ],
             [
              0.5555555555555556,
              "#d8576b"
             ],
             [
              0.6666666666666666,
              "#ed7953"
             ],
             [
              0.7777777777777778,
              "#fb9f3a"
             ],
             [
              0.8888888888888888,
              "#fdca26"
             ],
             [
              1,
              "#f0f921"
             ]
            ],
            "type": "histogram2d"
           }
          ],
          "histogram2dcontour": [
           {
            "colorbar": {
             "outlinewidth": 0,
             "ticks": ""
            },
            "colorscale": [
             [
              0,
              "#0d0887"
             ],
             [
              0.1111111111111111,
              "#46039f"
             ],
             [
              0.2222222222222222,
              "#7201a8"
             ],
             [
              0.3333333333333333,
              "#9c179e"
             ],
             [
              0.4444444444444444,
              "#bd3786"
             ],
             [
              0.5555555555555556,
              "#d8576b"
             ],
             [
              0.6666666666666666,
              "#ed7953"
             ],
             [
              0.7777777777777778,
              "#fb9f3a"
             ],
             [
              0.8888888888888888,
              "#fdca26"
             ],
             [
              1,
              "#f0f921"
             ]
            ],
            "type": "histogram2dcontour"
           }
          ],
          "mesh3d": [
           {
            "colorbar": {
             "outlinewidth": 0,
             "ticks": ""
            },
            "type": "mesh3d"
           }
          ],
          "parcoords": [
           {
            "line": {
             "colorbar": {
              "outlinewidth": 0,
              "ticks": ""
             }
            },
            "type": "parcoords"
           }
          ],
          "pie": [
           {
            "automargin": true,
            "type": "pie"
           }
          ],
          "scatter": [
           {
            "fillpattern": {
             "fillmode": "overlay",
             "size": 10,
             "solidity": 0.2
            },
            "type": "scatter"
           }
          ],
          "scatter3d": [
           {
            "line": {
             "colorbar": {
              "outlinewidth": 0,
              "ticks": ""
             }
            },
            "marker": {
             "colorbar": {
              "outlinewidth": 0,
              "ticks": ""
             }
            },
            "type": "scatter3d"
           }
          ],
          "scattercarpet": [
           {
            "marker": {
             "colorbar": {
              "outlinewidth": 0,
              "ticks": ""
             }
            },
            "type": "scattercarpet"
           }
          ],
          "scattergeo": [
           {
            "marker": {
             "colorbar": {
              "outlinewidth": 0,
              "ticks": ""
             }
            },
            "type": "scattergeo"
           }
          ],
          "scattergl": [
           {
            "marker": {
             "colorbar": {
              "outlinewidth": 0,
              "ticks": ""
             }
            },
            "type": "scattergl"
           }
          ],
          "scattermapbox": [
           {
            "marker": {
             "colorbar": {
              "outlinewidth": 0,
              "ticks": ""
             }
            },
            "type": "scattermapbox"
           }
          ],
          "scatterpolar": [
           {
            "marker": {
             "colorbar": {
              "outlinewidth": 0,
              "ticks": ""
             }
            },
            "type": "scatterpolar"
           }
          ],
          "scatterpolargl": [
           {
            "marker": {
             "colorbar": {
              "outlinewidth": 0,
              "ticks": ""
             }
            },
            "type": "scatterpolargl"
           }
          ],
          "scatterternary": [
           {
            "marker": {
             "colorbar": {
              "outlinewidth": 0,
              "ticks": ""
             }
            },
            "type": "scatterternary"
           }
          ],
          "surface": [
           {
            "colorbar": {
             "outlinewidth": 0,
             "ticks": ""
            },
            "colorscale": [
             [
              0,
              "#0d0887"
             ],
             [
              0.1111111111111111,
              "#46039f"
             ],
             [
              0.2222222222222222,
              "#7201a8"
             ],
             [
              0.3333333333333333,
              "#9c179e"
             ],
             [
              0.4444444444444444,
              "#bd3786"
             ],
             [
              0.5555555555555556,
              "#d8576b"
             ],
             [
              0.6666666666666666,
              "#ed7953"
             ],
             [
              0.7777777777777778,
              "#fb9f3a"
             ],
             [
              0.8888888888888888,
              "#fdca26"
             ],
             [
              1,
              "#f0f921"
             ]
            ],
            "type": "surface"
           }
          ],
          "table": [
           {
            "cells": {
             "fill": {
              "color": "#EBF0F8"
             },
             "line": {
              "color": "white"
             }
            },
            "header": {
             "fill": {
              "color": "#C8D4E3"
             },
             "line": {
              "color": "white"
             }
            },
            "type": "table"
           }
          ]
         },
         "layout": {
          "annotationdefaults": {
           "arrowcolor": "#2a3f5f",
           "arrowhead": 0,
           "arrowwidth": 1
          },
          "autotypenumbers": "strict",
          "coloraxis": {
           "colorbar": {
            "outlinewidth": 0,
            "ticks": ""
           }
          },
          "colorscale": {
           "diverging": [
            [
             0,
             "#8e0152"
            ],
            [
             0.1,
             "#c51b7d"
            ],
            [
             0.2,
             "#de77ae"
            ],
            [
             0.3,
             "#f1b6da"
            ],
            [
             0.4,
             "#fde0ef"
            ],
            [
             0.5,
             "#f7f7f7"
            ],
            [
             0.6,
             "#e6f5d0"
            ],
            [
             0.7,
             "#b8e186"
            ],
            [
             0.8,
             "#7fbc41"
            ],
            [
             0.9,
             "#4d9221"
            ],
            [
             1,
             "#276419"
            ]
           ],
           "sequential": [
            [
             0,
             "#0d0887"
            ],
            [
             0.1111111111111111,
             "#46039f"
            ],
            [
             0.2222222222222222,
             "#7201a8"
            ],
            [
             0.3333333333333333,
             "#9c179e"
            ],
            [
             0.4444444444444444,
             "#bd3786"
            ],
            [
             0.5555555555555556,
             "#d8576b"
            ],
            [
             0.6666666666666666,
             "#ed7953"
            ],
            [
             0.7777777777777778,
             "#fb9f3a"
            ],
            [
             0.8888888888888888,
             "#fdca26"
            ],
            [
             1,
             "#f0f921"
            ]
           ],
           "sequentialminus": [
            [
             0,
             "#0d0887"
            ],
            [
             0.1111111111111111,
             "#46039f"
            ],
            [
             0.2222222222222222,
             "#7201a8"
            ],
            [
             0.3333333333333333,
             "#9c179e"
            ],
            [
             0.4444444444444444,
             "#bd3786"
            ],
            [
             0.5555555555555556,
             "#d8576b"
            ],
            [
             0.6666666666666666,
             "#ed7953"
            ],
            [
             0.7777777777777778,
             "#fb9f3a"
            ],
            [
             0.8888888888888888,
             "#fdca26"
            ],
            [
             1,
             "#f0f921"
            ]
           ]
          },
          "colorway": [
           "#636efa",
           "#EF553B",
           "#00cc96",
           "#ab63fa",
           "#FFA15A",
           "#19d3f3",
           "#FF6692",
           "#B6E880",
           "#FF97FF",
           "#FECB52"
          ],
          "font": {
           "color": "#2a3f5f"
          },
          "geo": {
           "bgcolor": "white",
           "lakecolor": "white",
           "landcolor": "#E5ECF6",
           "showlakes": true,
           "showland": true,
           "subunitcolor": "white"
          },
          "hoverlabel": {
           "align": "left"
          },
          "hovermode": "closest",
          "mapbox": {
           "style": "light"
          },
          "paper_bgcolor": "white",
          "plot_bgcolor": "#E5ECF6",
          "polar": {
           "angularaxis": {
            "gridcolor": "white",
            "linecolor": "white",
            "ticks": ""
           },
           "bgcolor": "#E5ECF6",
           "radialaxis": {
            "gridcolor": "white",
            "linecolor": "white",
            "ticks": ""
           }
          },
          "scene": {
           "xaxis": {
            "backgroundcolor": "#E5ECF6",
            "gridcolor": "white",
            "gridwidth": 2,
            "linecolor": "white",
            "showbackground": true,
            "ticks": "",
            "zerolinecolor": "white"
           },
           "yaxis": {
            "backgroundcolor": "#E5ECF6",
            "gridcolor": "white",
            "gridwidth": 2,
            "linecolor": "white",
            "showbackground": true,
            "ticks": "",
            "zerolinecolor": "white"
           },
           "zaxis": {
            "backgroundcolor": "#E5ECF6",
            "gridcolor": "white",
            "gridwidth": 2,
            "linecolor": "white",
            "showbackground": true,
            "ticks": "",
            "zerolinecolor": "white"
           }
          },
          "shapedefaults": {
           "line": {
            "color": "#2a3f5f"
           }
          },
          "ternary": {
           "aaxis": {
            "gridcolor": "white",
            "linecolor": "white",
            "ticks": ""
           },
           "baxis": {
            "gridcolor": "white",
            "linecolor": "white",
            "ticks": ""
           },
           "bgcolor": "#E5ECF6",
           "caxis": {
            "gridcolor": "white",
            "linecolor": "white",
            "ticks": ""
           }
          },
          "title": {
           "x": 0.05
          },
          "xaxis": {
           "automargin": true,
           "gridcolor": "white",
           "linecolor": "white",
           "ticks": "",
           "title": {
            "standoff": 15
           },
           "zerolinecolor": "white",
           "zerolinewidth": 2
          },
          "yaxis": {
           "automargin": true,
           "gridcolor": "white",
           "linecolor": "white",
           "ticks": "",
           "title": {
            "standoff": 15
           },
           "zerolinecolor": "white",
           "zerolinewidth": 2
          }
         }
        },
        "title": {
         "text": "Above Ground Biomass (Mg) - Gabon RoI"
        },
        "width": 1400,
        "xaxis": {
         "anchor": "y",
         "autorange": true,
         "domain": [
          0,
          1
         ],
         "range": [
          -0.5,
          2.5
         ],
         "title": {
          "text": "RoI Name"
         },
         "type": "category"
        },
        "yaxis": {
         "anchor": "x",
         "autorange": true,
         "domain": [
          0,
          1
         ],
         "range": [
          0,
          33383.48813209494
         ],
         "title": {
          "text": "sum"
         },
         "type": "linear"
        }
       }
      },
      "image/png": "[encoded data removed]",
      "text/html": [
       "<div>                            <div id=\"cf5f90e3-1932-455c-8915-68d8e97f2deb\" class=\"plotly-graph-div\" style=\"height:500px; width:1400px;\"></div>            <script type=\"text/javascript\">                require([\"plotly\"], function(Plotly) {                    window.PLOTLYENV=window.PLOTLYENV || {};                                    if (document.getElementById(\"cf5f90e3-1932-455c-8915-68d8e97f2deb\")) {                    Plotly.newPlot(                        \"cf5f90e3-1932-455c-8915-68d8e97f2deb\",                        [{\"alignmentgroup\":\"True\",\"hovertemplate\":\"Region=RoI<br>RoI Name=%{x}<br>sum=%{y}<extra></extra>\",\"legendgroup\":\"RoI\",\"marker\":{\"color\":\"#77dd77\",\"pattern\":{\"shape\":\"\"}},\"name\":\"RoI\",\"offsetgroup\":\"RoI\",\"orientation\":\"v\",\"showlegend\":true,\"textposition\":\"auto\",\"x\":[\"Test_1\",\"Test_2\",\"Test_3\"],\"xaxis\":\"x\",\"y\":[10767.745098039217,31714.313725490192,4475.098039215686],\"yaxis\":\"y\",\"type\":\"bar\"},{\"alignmentgroup\":\"True\",\"hovertemplate\":\"Region=Forest extent in 2022<br>RoI Name=%{x}<br>sum=%{y}<extra></extra>\",\"legendgroup\":\"Forest extent in 2022\",\"marker\":{\"color\":\"#228b22\",\"pattern\":{\"shape\":\"\"}},\"name\":\"Forest extent in 2022\",\"offsetgroup\":\"Forest extent in 2022\",\"orientation\":\"v\",\"showlegend\":true,\"textposition\":\"auto\",\"x\":[\"Test_1\",\"Test_2\",\"Test_3\"],\"xaxis\":\"x\",\"y\":[10767.745098039217,31714.313725490192,4106.274509803921],\"yaxis\":\"y\",\"type\":\"bar\"}],                        {\"template\":{\"data\":{\"histogram2dcontour\":[{\"type\":\"histogram2dcontour\",\"colorbar\":{\"outlinewidth\":0,\"ticks\":\"\"},\"colorscale\":[[0.0,\"#0d0887\"],[0.1111111111111111,\"#46039f\"],[0.2222222222222222,\"#7201a8\"],[0.3333333333333333,\"#9c179e\"],[0.4444444444444444,\"#bd3786\"],[0.5555555555555556,\"#d8576b\"],[0.6666666666666666,\"#ed7953\"],[0.7777777777777778,\"#fb9f3a\"],[0.8888888888888888,\"#fdca26\"],[1.0,\"#f0f921\"]]}],\"choropleth\":[{\"type\":\"choropleth\",\"colorbar\":{\"outlinewidth\":0,\"ticks\":\"\"}}],\"histogram2d\":[{\"type\":\"histogram2d\",\"colorbar\":{\"outlinewidth\":0,\"ticks\":\"\"},\"colorscale\":[[0.0,\"#0d0887\"],[0.1111111111111111,\"#46039f\"],[0.2222222222222222,\"#7201a8\"],[0.3333333333333333,\"#9c179e\"],[0.4444444444444444,\"#bd3786\"],[0.5555555555555556,\"#d8576b\"],[0.6666666666666666,\"#ed7953\"],[0.7777777777777778,\"#fb9f3a\"],[0.8888888888888888,\"#fdca26\"],[1.0,\"#f0f921\"]]}],\"heatmap\":[{\"type\":\"heatmap\",\"colorbar\":{\"outlinewidth\":0,\"ticks\":\"\"},\"colorscale\":[[0.0,\"#0d0887\"],[0.1111111111111111,\"#46039f\"],[0.2222222222222222,\"#7201a8\"],[0.3333333333333333,\"#9c179e\"],[0.4444444444444444,\"#bd3786\"],[0.5555555555555556,\"#d8576b\"],[0.6666666666666666,\"#ed7953\"],[0.7777777777777778,\"#fb9f3a\"],[0.8888888888888888,\"#fdca26\"],[1.0,\"#f0f921\"]]}],\"heatmapgl\":[{\"type\":\"heatmapgl\",\"colorbar\":{\"outlinewidth\":0,\"ticks\":\"\"},\"colorscale\":[[0.0,\"#0d0887\"],[0.1111111111111111,\"#46039f\"],[0.2222222222222222,\"#7201a8\"],[0.3333333333333333,\"#9c179e\"],[0.4444444444444444,\"#bd3786\"],[0.5555555555555556,\"#d8576b\"],[0.6666666666666666,\"#ed7953\"],[0.7777777777777778,\"#fb9f3a\"],[0.8888888888888888,\"#fdca26\"],[1.0,\"#f0f921\"]]}],\"contourcarpet\":[{\"type\":\"contourcarpet\",\"colorbar\":{\"outlinewidth\":0,\"ticks\":\"\"}}],\"contour\":[{\"type\":\"contour\",\"colorbar\":{\"outlinewidth\":0,\"ticks\":\"\"},\"colorscale\":[[0.0,\"#0d0887\"],[0.1111111111111111,\"#46039f\"],[0.2222222222222222,\"#7201a8\"],[0.3333333333333333,\"#9c179e\"],[0.4444444444444444,\"#bd3786\"],[0.5555555555555556,\"#d8576b\"],[0.6666666666666666,\"#ed7953\"],[0.7777777777777778,\"#fb9f3a\"],[0.8888888888888888,\"#fdca26\"],[1.0,\"#f0f921\"]]}],\"surface\":[{\"type\":\"surface\",\"colorbar\":{\"outlinewidth\":0,\"ticks\":\"\"},\"colorscale\":[[0.0,\"#0d0887\"],[0.1111111111111111,\"#46039f\"],[0.2222222222222222,\"#7201a8\"],[0.3333333333333333,\"#9c179e\"],[0.4444444444444444,\"#bd3786\"],[0.5555555555555556,\"#d8576b\"],[0.6666666666666666,\"#ed7953\"],[0.7777777777777778,\"#fb9f3a\"],[0.8888888888888888,\"#fdca26\"],[1.0,\"#f0f921\"]]}],\"mesh3d\":[{\"type\":\"mesh3d\",\"colorbar\":{\"outlinewidth\":0,\"ticks\":\"\"}}],\"scatter\":[{\"fillpattern\":{\"fillmode\":\"overlay\",\"size\":10,\"solidity\":0.2},\"type\":\"scatter\"}],\"parcoords\":[{\"type\":\"parcoords\",\"line\":{\"colorbar\":{\"outlinewidth\":0,\"ticks\":\"\"}}}],\"scatterpolargl\":[{\"type\":\"scatterpolargl\",\"marker\":{\"colorbar\":{\"outlinewidth\":0,\"ticks\":\"\"}}}],\"bar\":[{\"error_x\":{\"color\":\"#2a3f5f\"},\"error_y\":{\"color\":\"#2a3f5f\"},\"marker\":{\"line\":{\"color\":\"#E5ECF6\",\"width\":0.5},\"pattern\":{\"fillmode\":\"overlay\",\"size\":10,\"solidity\":0.2}},\"type\":\"bar\"}],\"scattergeo\":[{\"type\":\"scattergeo\",\"marker\":{\"colorbar\":{\"outlinewidth\":0,\"ticks\":\"\"}}}],\"scatterpolar\":[{\"type\":\"scatterpolar\",\"marker\":{\"colorbar\":{\"outlinewidth\":0,\"ticks\":\"\"}}}],\"histogram\":[{\"marker\":{\"pattern\":{\"fillmode\":\"overlay\",\"size\":10,\"solidity\":0.2}},\"type\":\"histogram\"}],\"scattergl\":[{\"type\":\"scattergl\",\"marker\":{\"colorbar\":{\"outlinewidth\":0,\"ticks\":\"\"}}}],\"scatter3d\":[{\"type\":\"scatter3d\",\"line\":{\"colorbar\":{\"outlinewidth\":0,\"ticks\":\"\"}},\"marker\":{\"colorbar\":{\"outlinewidth\":0,\"ticks\":\"\"}}}],\"scattermapbox\":[{\"type\":\"scattermapbox\",\"marker\":{\"colorbar\":{\"outlinewidth\":0,\"ticks\":\"\"}}}],\"scatterternary\":[{\"type\":\"scatterternary\",\"marker\":{\"colorbar\":{\"outlinewidth\":0,\"ticks\":\"\"}}}],\"scattercarpet\":[{\"type\":\"scattercarpet\",\"marker\":{\"colorbar\":{\"outlinewidth\":0,\"ticks\":\"\"}}}],\"carpet\":[{\"aaxis\":{\"endlinecolor\":\"#2a3f5f\",\"gridcolor\":\"white\",\"linecolor\":\"white\",\"minorgridcolor\":\"white\",\"startlinecolor\":\"#2a3f5f\"},\"baxis\":{\"endlinecolor\":\"#2a3f5f\",\"gridcolor\":\"white\",\"linecolor\":\"white\",\"minorgridcolor\":\"white\",\"startlinecolor\":\"#2a3f5f\"},\"type\":\"carpet\"}],\"table\":[{\"cells\":{\"fill\":{\"color\":\"#EBF0F8\"},\"line\":{\"color\":\"white\"}},\"header\":{\"fill\":{\"color\":\"#C8D4E3\"},\"line\":{\"color\":\"white\"}},\"type\":\"table\"}],\"barpolar\":[{\"marker\":{\"line\":{\"color\":\"#E5ECF6\",\"width\":0.5},\"pattern\":{\"fillmode\":\"overlay\",\"size\":10,\"solidity\":0.2}},\"type\":\"barpolar\"}],\"pie\":[{\"automargin\":true,\"type\":\"pie\"}]},\"layout\":{\"autotypenumbers\":\"strict\",\"colorway\":[\"#636efa\",\"#EF553B\",\"#00cc96\",\"#ab63fa\",\"#FFA15A\",\"#19d3f3\",\"#FF6692\",\"#B6E880\",\"#FF97FF\",\"#FECB52\"],\"font\":{\"color\":\"#2a3f5f\"},\"hovermode\":\"closest\",\"hoverlabel\":{\"align\":\"left\"},\"paper_bgcolor\":\"white\",\"plot_bgcolor\":\"#E5ECF6\",\"polar\":{\"bgcolor\":\"#E5ECF6\",\"angularaxis\":{\"gridcolor\":\"white\",\"linecolor\":\"white\",\"ticks\":\"\"},\"radialaxis\":{\"gridcolor\":\"white\",\"linecolor\":\"white\",\"ticks\":\"\"}},\"ternary\":{\"bgcolor\":\"#E5ECF6\",\"aaxis\":{\"gridcolor\":\"white\",\"linecolor\":\"white\",\"ticks\":\"\"},\"baxis\":{\"gridcolor\":\"white\",\"linecolor\":\"white\",\"ticks\":\"\"},\"caxis\":{\"gridcolor\":\"white\",\"linecolor\":\"white\",\"ticks\":\"\"}},\"coloraxis\":{\"colorbar\":{\"outlinewidth\":0,\"ticks\":\"\"}},\"colorscale\":{\"sequential\":[[0.0,\"#0d0887\"],[0.1111111111111111,\"#46039f\"],[0.2222222222222222,\"#7201a8\"],[0.3333333333333333,\"#9c179e\"],[0.4444444444444444,\"#bd3786\"],[0.5555555555555556,\"#d8576b\"],[0.6666666666666666,\"#ed7953\"],[0.7777777777777778,\"#fb9f3a\"],[0.8888888888888888,\"#fdca26\"],[1.0,\"#f0f921\"]],\"sequentialminus\":[[0.0,\"#0d0887\"],[0.1111111111111111,\"#46039f\"],[0.2222222222222222,\"#7201a8\"],[0.3333333333333333,\"#9c179e\"],[0.4444444444444444,\"#bd3786\"],[0.5555555555555556,\"#d8576b\"],[0.6666666666666666,\"#ed7953\"],[0.7777777777777778,\"#fb9f3a\"],[0.8888888888888888,\"#fdca26\"],[1.0,\"#f0f921\"]],\"diverging\":[[0,\"#8e0152\"],[0.1,\"#c51b7d\"],[0.2,\"#de77ae\"],[0.3,\"#f1b6da\"],[0.4,\"#fde0ef\"],[0.5,\"#f7f7f7\"],[0.6,\"#e6f5d0\"],[0.7,\"#b8e186\"],[0.8,\"#7fbc41\"],[0.9,\"#4d9221\"],[1,\"#276419\"]]},\"xaxis\":{\"gridcolor\":\"white\",\"linecolor\":\"white\",\"ticks\":\"\",\"title\":{\"standoff\":15},\"zerolinecolor\":\"white\",\"automargin\":true,\"zerolinewidth\":2},\"yaxis\":{\"gridcolor\":\"white\",\"linecolor\":\"white\",\"ticks\":\"\",\"title\":{\"standoff\":15},\"zerolinecolor\":\"white\",\"automargin\":true,\"zerolinewidth\":2},\"scene\":{\"xaxis\":{\"backgroundcolor\":\"#E5ECF6\",\"gridcolor\":\"white\",\"linecolor\":\"white\",\"showbackground\":true,\"ticks\":\"\",\"zerolinecolor\":\"white\",\"gridwidth\":2},\"yaxis\":{\"backgroundcolor\":\"#E5ECF6\",\"gridcolor\":\"white\",\"linecolor\":\"white\",\"showbackground\":true,\"ticks\":\"\",\"zerolinecolor\":\"white\",\"gridwidth\":2},\"zaxis\":{\"backgroundcolor\":\"#E5ECF6\",\"gridcolor\":\"white\",\"linecolor\":\"white\",\"showbackground\":true,\"ticks\":\"\",\"zerolinecolor\":\"white\",\"gridwidth\":2}},\"shapedefaults\":{\"line\":{\"color\":\"#2a3f5f\"}},\"annotationdefaults\":{\"arrowcolor\":\"#2a3f5f\",\"arrowhead\":0,\"arrowwidth\":1},\"geo\":{\"bgcolor\":\"white\",\"landcolor\":\"#E5ECF6\",\"subunitcolor\":\"white\",\"showland\":true,\"showlakes\":true,\"lakecolor\":\"white\"},\"title\":{\"x\":0.05},\"mapbox\":{\"style\":\"light\"}}},\"xaxis\":{\"anchor\":\"y\",\"domain\":[0.0,1.0],\"title\":{\"text\":\"RoI Name\"}},\"yaxis\":{\"anchor\":\"x\",\"domain\":[0.0,1.0],\"title\":{\"text\":\"sum\"}},\"legend\":{\"title\":{\"text\":\"Extent\"},\"tracegroupgap\":0},\"title\":{\"text\":\"Above Ground Biomass (Mg) - Gabon RoI\"},\"barmode\":\"group\",\"height\":500,\"width\":1400},                        {\"responsive\": true}                    ).then(function(){\n",
       "                            \n",
       "var gd = document.getElementById('cf5f90e3-1932-455c-8915-68d8e97f2deb');\n",
       "var x = new MutationObserver(function (mutations, observer) {{\n",
       "        var display = window.getComputedStyle(gd).display;\n",
       "        if (!display || display === 'none') {{\n",
       "            console.log([gd, 'removed!']);\n",
       "            Plotly.purge(gd);\n",
       "            observer.disconnect();\n",
       "        }}\n",
       "}});\n",
       "\n",
       "// Listen for the removal of the full notebook cells\n",
       "var notebookContainer = gd.closest('#notebook-container');\n",
       "if (notebookContainer) {{\n",
       "    x.observe(notebookContainer, {childList: true});\n",
       "}}\n",
       "\n",
       "// Listen for the clearing of the current output cell\n",
       "var outputEl = gd.closest('.output');\n",
       "if (outputEl) {{\n",
       "    x.observe(outputEl, {childList: true});\n",
       "}}\n",
       "\n",
       "                        })                };                });            </script>        </div>"
      ]
     },
     "metadata": {},
     "output_type": "display_data"
    }
   ],
   "source": [
    "# Mangrove area in RoI\n",
    "fig_AGBForest22 = px.bar(merge_agb_table, x = merge_agb_table[roi_column_name],\n",
    "                      y = \"sum\", color = \"Region\", barmode = \"group\",\n",
    "                      category_orders={\"Extent\": [\"RoI\",\"Forest extent in 2022\"]},\n",
    "                      color_discrete_sequence = ['#77dd77','#228b22'],\n",
    "                      width=1400, height=500, \n",
    "                      labels = {roi_column_name: \"RoI Name\",\"Area_Ha\": \"mangrove Area (Ha)\"},\n",
    "                      title =\"Above Ground Biomass (Mg) - \" + projectname)\n",
    "fig_AGBForest22.update_layout(legend_title_text='Extent')"
   ]
  }
 ],
 "metadata": {
  "kernelspec": {
   "display_name": "Python 3 (ipykernel)",
   "language": "python",
   "name": "python3"
  },
  "language_info": {
   "codemirror_mode": {
    "name": "ipython",
    "version": 3
   },
   "file_extension": ".py",
   "mimetype": "text/x-python",
   "name": "python",
   "nbconvert_exporter": "python",
   "pygments_lexer": "ipython3",
   "version": "3.8.13"
  }
 },
 "nbformat": 4,
 "nbformat_minor": 5
}
