{
 "cells": [
  {
   "cell_type": "markdown",
   "id": "855d5374-d3af-4296-9ed4-f46965b8f5c9",
   "metadata": {},
   "source": [
    "# **Global Above-ground Live Woody Biomass Assessment**\n",
    "<span style = \"font-size: 1.5em;\"> ***WHRC Pantropical National Level Carbon Stock Dataset in 2012*** </span>"
   ]
  },
  {
   "cell_type": "markdown",
   "id": "cc40792a-cfc3-4130-87ec-a6931ad43363",
   "metadata": {
    "tags": []
   },
   "source": [
    "## Brief Description"
   ]
  },
  {
   "cell_type": "markdown",
   "id": "896d1099-cc71-45b0-a785-fc0882e5f6f2",
   "metadata": {},
   "source": [
    "### <span style = \"font-size: 1em;\"> ***Brief Description of The Asssessment*** </span>\n",
    "\n",
    "The assessment will estimate the above ground biomass (AGB) (ton C) in RoI and Remaining Forest in 2022. The AGB on Forest area is derived from overlay and masking analysis between WHRC Biomass dataset and Hansen Tree Cover.\n",
    "\n",
    "<span style=\"font-size:1.1em;\"> ***Input Data Needed*** </span>\n",
    "- Shapefile\n",
    "> - **roi_directory** : specify region of interest shapefiile\n",
    "\n",
    "- Input Data Variables\n",
    "> - **projectname (string)** : project name (example: \"RVL_IDN_KubuRaya\")\n",
    "> - **projection**: UTM projection code in code (example: \"EPSG:3857\")\n",
    "> - **roi_column_name** : variable name that specifiy unique ID for multipolygon analysis (example: \"Name\")\n",
    "\n",
    "- Output directory folder\n",
    "> - **output_directory** : select directory folder to put the output result\n",
    "\n",
    "<span style=\"font-size:1.1em;\"> ***Expected Output*** </span>\n",
    "- Rasters dataset\n",
    "> - WHRC Above ground biomass (Mg/Ha) in RoI and Forest extent in 2022\n",
    "\n",
    "- csv, graph and maps \n",
    "> - Above ground biomass estimation in remaining forest extent area (Mg/Ha)\n",
    "> - Above Ground Biomass distribution in remaining forest extent area"
   ]
  },
  {
   "cell_type": "markdown",
   "id": "4c045924-1dca-42cd-b943-39ae861cc525",
   "metadata": {},
   "source": [
    "### <span style = \"font-size: 1em;\"> ***Brief Description of The Dataset*** </span>\n",
    "\n",
    "A national-level map of above-ground live woody biomass density for tropical countries at 500m in 2012. This dataset was assembled from a combination of co-located field measurements, LiDAR observations, and imagery recorded from the Moderate Resolution Imaging Spectroradiometer (MODIS).\n",
    "\n",
    "\n",
    "<span style=\"font-size:1.1em;\"> ***Source*** </span>\n",
    "- WHRC Pantropical National Level Carbon Stock Dataset in 2012\n",
    "A. Baccini, S J. Goetz, W.S. Walker, N. T. Laporte, M. Sun, D. Sulla-Menashe, J. Hackler, P.S.A. Beck, R. Dubayah, M.A. Friedl, S. Samanta and R. A. Houghton. Estimated carbon dioxide emissions from tropical deforestation improved by carbon-density maps. 2012 Nature Climate Change, https://doi.org/10.1038/NCLIMATE1354\n"
   ]
  },
  {
   "cell_type": "markdown",
   "id": "548a69c2-67d3-4dfe-9bd5-8ceb2707a52d",
   "metadata": {},
   "source": [
    "### <span style = \"font-size: 1em;\"> ***Note*** </span>\n",
    "\n",
    "- WHRC biomass datasets represent the above ground biomass estimation in 2012"
   ]
  },
  {
   "cell_type": "markdown",
   "id": "0b496c73-2654-441d-bec7-3166b491a6c6",
   "metadata": {},
   "source": [
    "## Data Preparation"
   ]
  },
  {
   "cell_type": "markdown",
   "id": "aa3edd64-761a-4191-a237-b72ca2cccd37",
   "metadata": {},
   "source": [
    "### Import modules and Relevant Datasets"
   ]
  },
  {
   "cell_type": "code",
   "execution_count": 1,
   "id": "095d54b7-6e3d-4fc3-adf8-e2c08891089a",
   "metadata": {},
   "outputs": [],
   "source": [
    "%matplotlib inline\n",
    "# Earth Engine Packages\n",
    "import os\n",
    "import ee\n",
    "import geemap\n",
    "import geopandas as gpd\n",
    "import pandas as pd\n",
    "from tkinter import Tk, filedialog, simpledialog, messagebox\n",
    "from tkinter import * \n",
    "import matplotlib.pyplot as plt\n",
    "from matplotlib_scalebar.scalebar import ScaleBar\n",
    "from matplotlib.colors import ListedColormap, BoundaryNorm, LinearSegmentedColormap\n",
    "from matplotlib import colors\n",
    "from matplotlib.patches import Patch\n",
    "import geoplot as gplt\n",
    "import contextily as ctx\n",
    "import plotly.express as px\n",
    "import numpy as np\n",
    "import geoplot.crs as gcrs\n",
    "import mapclassify as mc\n",
    "import cartopy.io.img_tiles as cimgt\n",
    "import shapely.wkt"
   ]
  },
  {
   "cell_type": "code",
   "execution_count": 2,
   "id": "7eacf561-2a69-4ae3-8ded-808e1e7124d9",
   "metadata": {},
   "outputs": [],
   "source": [
    "try:\n",
    "        ee.Initialize()\n",
    "except Exception as e:\n",
    "        ee.Authenticate()\n",
    "        ee.Initialize()"
   ]
  },
  {
   "cell_type": "code",
   "execution_count": 3,
   "id": "50e134fb-d7a9-46f5-8ffb-a6f18d296f5a",
   "metadata": {},
   "outputs": [],
   "source": [
    "root = Tk() # pointing root to Tk() to use it as Tk() in program.\n",
    "root.withdraw() # Hides small tkinter window.\n",
    "root.attributes('-topmost', True) # Opened windows will be active. above all windows despite of selection.\n",
    "roi_directory = filedialog.askopenfile(title = \"Open RoI Shapefile\") \n",
    "# Output folder\n",
    "output_directory = filedialog.askdirectory(title = \"Specify Output Folder\")"
   ]
  },
  {
   "cell_type": "code",
   "execution_count": 4,
   "id": "42eb78ce-94fd-4f2b-8903-1755aa457b00",
   "metadata": {},
   "outputs": [],
   "source": [
    "# output directory\n",
    "out_dir = os.path.expanduser(output_directory+'/RapidScreening_AGBiomassAssessment')\n",
    "if not os.path.exists(out_dir):\n",
    "    os.makedirs(out_dir)"
   ]
  },
  {
   "cell_type": "markdown",
   "id": "54e640af-a6ff-4981-99ea-b2dbccac5d9e",
   "metadata": {
    "tags": []
   },
   "source": [
    "### Specify Input Data"
   ]
  },
  {
   "cell_type": "code",
   "execution_count": 5,
   "id": "7314c27a-7b59-4612-b39e-2e1d23bb28ce",
   "metadata": {},
   "outputs": [
    {
     "name": "stdout",
     "output_type": "stream",
     "text": [
      "The script will assess  Gabon RoI\n",
      "Forest is defined as area with >=  30  canopy cover\n",
      "All data will be reprojected to  EPSG:32732  canopy cover\n",
      "Minimum mapping unit size is  12  pixels\n",
      "Column name is  NAME\n"
     ]
    }
   ],
   "source": [
    "###### 1 Specify project/region name, Forest threshold and projection\n",
    "root = Tk() # pointing root to Tk() to use it as Tk() in program.\n",
    "root.withdraw() # Hides small tkinter window.\n",
    "root.attributes('-topmost', True) # Opened windows will be active. above all windows despite of selection.\n",
    "\n",
    "# specify project name\n",
    "projectname = simpledialog.askstring(\"Input\", \"Speficy project name\",parent=root)\n",
    "\n",
    "if projectname is not None:\n",
    "    print(\"The script will assess \", projectname)\n",
    "else:\n",
    "    print(\"Name has not been submitted, Restart the code!\")\n",
    "\n",
    "#Specify forest_threshold\n",
    "forest_threshold = simpledialog.askinteger(\"Input\", \"Specify forest threshold value to define forest\",parent=root , \n",
    "                                           minvalue =0, maxvalue = 100)\n",
    "\n",
    "if forest_threshold is not None:\n",
    "    print(\"Forest is defined as area with >= \", forest_threshold, ' canopy cover')\n",
    "else:\n",
    "    print(\"Forest Threshold has not specified, Restart the code!\")\n",
    "    \n",
    "#Specify Projection\n",
    "projection = simpledialog.askstring(\"Input\", \"Specify Projection in UTM zone, example EPSG:3857\", parent=root)\n",
    "\n",
    "if projection is not None:\n",
    "    print(\"All data will be reprojected to \", projection, ' canopy cover')\n",
    "else:\n",
    "    print(\"Projection has not specified, Restart the code!\")\n",
    "    \n",
    "# Specify minimum mapping unit - forest\n",
    "min_mapping_unit = simpledialog.askinteger(\"Input\", \"Specify Min pixels area, example: 22 pixels = 2 Ha or 6 pixels = 0.5 Ha\",\n",
    "                                           parent=root , minvalue =0, maxvalue = 100)\n",
    "\n",
    "if min_mapping_unit is not None:\n",
    "    print(\"Minimum mapping unit size is \", min_mapping_unit, ' pixels')\n",
    "else:\n",
    "    print(\"Minimum pixels size has not identified, Restart the code!\")\n",
    "\n",
    "pixels_mmu = ee.Number(min_mapping_unit)\n",
    "\n",
    "# Specify column name in RoI attribute table\n",
    "roi_column_name = simpledialog.askstring(\"Input\", \"Specify columns name in ROI attribute table to define boundary name\",parent=root)\n",
    "\n",
    "if roi_column_name is not None:\n",
    "    print(\"Column name is \", roi_column_name)\n",
    "else:\n",
    "    print(\"Column has not identified, Restart the code!\")"
   ]
  },
  {
   "cell_type": "code",
   "execution_count": 6,
   "id": "4af4ddbf-8cf3-4330-aeca-249b4298c0fe",
   "metadata": {},
   "outputs": [],
   "source": [
    "# tile scale to avoid memory ran out issue\n",
    "tileScale = 4"
   ]
  },
  {
   "cell_type": "markdown",
   "id": "fc22e18e-d349-4f2d-a18c-afab5ba438fe",
   "metadata": {
    "tags": []
   },
   "source": [
    "### Visualisation Parameters"
   ]
  },
  {
   "cell_type": "code",
   "execution_count": 7,
   "id": "88a02613-155a-4f38-8c8a-d8893a5c59b7",
   "metadata": {},
   "outputs": [],
   "source": [
    "# Forest non forest map\n",
    "vis_forestnonforest = {'palette': ['#008000']};\n",
    "\n",
    "vis_biomass = {'min': 0.0, 'max': 350.0, 'palette': ['FFFFFF', 'CE7E45', 'DF923D', 'F1B555', 'FCD163', '99B718', '74A901',\n",
    "                                                     '66A000', '529400', '3E8601', '207401', '056201', '004C00', '023B01',\n",
    "                                                     '012E01', '011D01', '011301'],};\n",
    "\n",
    "# roi polygon\n",
    "vis_roi = {'color': '#FF0000', 'width': 2,'lineType': 'solid','fillColor': '00000000'}"
   ]
  },
  {
   "cell_type": "markdown",
   "id": "2447facb-564d-4a0d-9157-7c474262c86b",
   "metadata": {},
   "source": [
    "## Above Ground Biomass (AGB) Estimation in RoI and Remaining Forest Area"
   ]
  },
  {
   "cell_type": "code",
   "execution_count": 8,
   "id": "aea46baa-4c21-41fb-b0c2-8fbcd3a7eace",
   "metadata": {},
   "outputs": [],
   "source": [
    "# Region of interest\n",
    "roi = gpd.read_file(roi_directory.name)\n",
    "\n",
    "# Reproject Shapefile to UTM and convert to ee.FeatureCollection\n",
    "roi_proj  = roi.to_crs(crs=projection)\n",
    "\n",
    "# Convert to ee.FeatureCollection for calculation process\n",
    "roi_proj_gee = geemap.geopandas_to_ee(roi_proj, geodesic=False)"
   ]
  },
  {
   "cell_type": "markdown",
   "id": "1c6db042-ed3f-4826-85e9-763a58bbd0d7",
   "metadata": {
    "tags": []
   },
   "source": [
    "### Data Processing - Hansen Remaining Forest Area"
   ]
  },
  {
   "cell_type": "code",
   "execution_count": 9,
   "id": "c3c74678-6a61-47ca-ad65-33402b825aa4",
   "metadata": {},
   "outputs": [],
   "source": [
    "# Import Hansen image dataset\n",
    "Hansen = ee.Image(\"UMD/hansen/global_forest_change_2021_v1_9\")\n",
    "\n",
    "# Select bands\n",
    "treeCover = Hansen.select(['treecover2000']);\n",
    "lossImage = Hansen.select(['loss']);\n",
    "gainImage = Hansen.select(['gain']);\n",
    "lossImage_year = Hansen.select(['lossyear']);\n",
    "landmask = Hansen.select(['datamask']);"
   ]
  },
  {
   "cell_type": "code",
   "execution_count": 10,
   "id": "6b46c3b8-04a5-4776-bc8d-151f4d1251cc",
   "metadata": {},
   "outputs": [],
   "source": [
    "# Reproject Image to UTM\n",
    "treeCover_proj = treeCover.reproject(crs = projection, scale = 30)\n",
    "lossImage_proj = lossImage.reproject(crs = projection, scale = 30)\n",
    "lossImage_year_proj = lossImage_year.reproject(crs = projection, scale = 30)\n",
    "landmask_proj = landmask.reproject(crs = projection, scale = 30)"
   ]
  },
  {
   "cell_type": "code",
   "execution_count": 11,
   "id": "e994ad35-a47d-4e8d-9186-84b56341122a",
   "metadata": {},
   "outputs": [],
   "source": [
    "# 1 Forest Map in 2000\n",
    "\n",
    "## Define forest area by >= canopy cover\n",
    "Hansen_Forest = treeCover_proj.gte(forest_threshold);\n",
    "## Mask forest canopy cover threshold\n",
    "Hansen_Forest_LandMasked = Hansen_Forest.updateMask(Hansen_Forest.eq(1)).updateMask(landmask_proj.eq(1));\n",
    "\n",
    "## Apply smoothing with minimum area unit\n",
    "Hansen_Forest_MinArea = Hansen_Forest_LandMasked.connectedPixelCount().gte(pixels_mmu).selfMask()\n",
    "\n",
    "## Final forest cover in 2000\n",
    "Hansen_Forest_firstPeriod = Hansen_Forest_LandMasked.updateMask(Hansen_Forest_MinArea);"
   ]
  },
  {
   "cell_type": "code",
   "execution_count": 12,
   "id": "738531a8-c529-41be-8d7d-1516ac6ddaa5",
   "metadata": {},
   "outputs": [],
   "source": [
    "# 2 Accumulative Forest Loss 2001-2021\n",
    "maskerforestLos_0121 = lossImage_year_proj.gte(1);\n",
    "## Set MMU to Estimate accumulative forest 2013-2021\n",
    "forestLoss_0121 = lossImage_proj.updateMask(Hansen_Forest_firstPeriod).updateMask(landmask_proj.eq(1)).updateMask(maskerforestLos_0121);\n",
    "contLoss = forestLoss_0121.connectedPixelCount().gte(pixels_mmu);\n",
    "AccumForestLoss_0121 = forestLoss_0121.updateMask(contLoss);"
   ]
  },
  {
   "cell_type": "code",
   "execution_count": 13,
   "id": "d7ae3846-c1c7-4a50-8f95-36b7bbd5f7a7",
   "metadata": {},
   "outputs": [],
   "source": [
    "# 3 Forest Cover in 2022\n",
    "minLossUnmask_22 = AccumForestLoss_0121.unmask();\n",
    "notLoss_22 = minLossUnmask_22.select('loss').eq(0);\n",
    "Hansen_Remaining_Forest = Hansen_Forest_firstPeriod.updateMask(notLoss_22)\n",
    "\n",
    "# Clip in roi\n",
    "Hansen_Remaining_Forest_roi = Hansen_Remaining_Forest.clip(roi_proj_gee)"
   ]
  },
  {
   "cell_type": "markdown",
   "id": "628ec408-e7e9-4a74-a595-6d56ca73d946",
   "metadata": {
    "tags": []
   },
   "source": [
    "### Data Processing - WHRC Above Ground Biomass"
   ]
  },
  {
   "cell_type": "code",
   "execution_count": 14,
   "id": "ccace05e-c220-4901-bd85-9712df0b8ea6",
   "metadata": {},
   "outputs": [],
   "source": [
    "# 1. Reproject WHRC Dataset\n",
    "WHRC = ee.Image(\"WHRC/biomass/tropical\")\n",
    "WHRC_proj = WHRC.reproject(crs = projection, scale = 500)"
   ]
  },
  {
   "cell_type": "code",
   "execution_count": 15,
   "id": "0c1cc188-d873-4aab-89ea-d138e0168b8c",
   "metadata": {},
   "outputs": [],
   "source": [
    "# 2. Mask WHRC with roi and Remaining Forest\n",
    "WHRC_roi_proj = WHRC_proj.clip(roi_proj_gee)\n",
    "WHRC_RemainingForest_proj = WHRC_proj.updateMask(Hansen_Remaining_Forest_roi.eq(1))"
   ]
  },
  {
   "cell_type": "code",
   "execution_count": 16,
   "id": "dc382911-a860-4100-9b61-eb1998c557a5",
   "metadata": {},
   "outputs": [],
   "source": [
    "# 3. Above ground biomass estimation\n",
    "abv_biomass_roi = WHRC_roi_proj.select('Mg').multiply(25)\n",
    "abv_biomass_RemainingForest = WHRC_RemainingForest_proj.select ('Mg').multiply(25)"
   ]
  },
  {
   "cell_type": "markdown",
   "id": "6e99fe26-3124-498e-b679-0ab4394eacce",
   "metadata": {},
   "source": [
    "### Interactive Map visualization"
   ]
  },
  {
   "cell_type": "code",
   "execution_count": 17,
   "id": "c34ae7e2-92d4-4134-a41b-322f064026fe",
   "metadata": {},
   "outputs": [
    {
     "data": {
      "application/vnd.jupyter.widget-view+json": {
       "model_id": "8e92b689d1b7419cac2466c53b121049",
       "version_major": 2,
       "version_minor": 0
      },
      "text/plain": [
       "Map(center=[0.4653966800280865, 9.583736496336329], controls=(WidgetControl(options=['position', 'transparent_…"
      ]
     },
     "execution_count": 17,
     "metadata": {},
     "output_type": "execute_result"
    }
   ],
   "source": [
    "Map = geemap.Map()\n",
    "Map.centerObject(roi_proj_gee, 10)\n",
    "\n",
    "# 1 RoI and buffer\n",
    "Map.addLayer(roi_proj_gee, vis_roi, \"Region of Interest\");\n",
    "# 2 Remaining Forest\n",
    "Map.addLayer(Hansen_Remaining_Forest_roi, vis_forestnonforest, \"Forest/Non-forest 2022\");\n",
    "# 3. Above ground biomass \n",
    "Map.addLayer(WHRC_RemainingForest_proj, vis_biomass, 'WHRC-Biomass in Forest 2022', False)\n",
    "\n",
    "Map"
   ]
  },
  {
   "cell_type": "markdown",
   "id": "e5514158-3e92-4cab-a8d8-1d2e4c547502",
   "metadata": {},
   "source": [
    "## Above Ground Biomass Estimation"
   ]
  },
  {
   "cell_type": "code",
   "execution_count": 18,
   "id": "d90224b1-1dca-4aff-9b33-3cf05e6c9c2f",
   "metadata": {},
   "outputs": [
    {
     "name": "stdout",
     "output_type": "stream",
     "text": [
      "Computing statistics ...\n",
      "Generating URL ...\n",
      "Downloading data from https://earthengine.googleapis.com/v1alpha/projects/earthengine-legacy/tables/1eef3800904cf261a2c9671a4413eec5-0b0f98606bb84db4c984f00474e1cd06:getFeatures\n",
      "Please wait ...\n",
      "Data downloaded to C:\\Users\\FadliUwaisElqorni\\SYSTEMIQ Ltd\\GIS Tools - Documents\\23_FEASIBILITY RVL_TZA_RUV - AUDD\\Python Script\\03 Comparison Number Checking All\\03 Jupyter Calculation\\RapidScreening_AGBiomassAssessment\\Gabon RoI_AGBiomass_roi.csv\n",
      "Computing statistics ...\n",
      "Generating URL ...\n",
      "Downloading data from https://earthengine.googleapis.com/v1alpha/projects/earthengine-legacy/tables/79ed2f0aeb4cf9dbcc27a3f24a7c73f0-f862ed7ee8a7bdd889fae47c4eb5665f:getFeatures\n",
      "Please wait ...\n",
      "Data downloaded to C:\\Users\\FadliUwaisElqorni\\SYSTEMIQ Ltd\\GIS Tools - Documents\\23_FEASIBILITY RVL_TZA_RUV - AUDD\\Python Script\\03 Comparison Number Checking All\\03 Jupyter Calculation\\RapidScreening_AGBiomassAssessment\\Gabon RoI_AGBiomass_RemainingForest.csv\n"
     ]
    }
   ],
   "source": [
    "# 1. Above ground Biomass\n",
    "\n",
    "# a. Above ground biomass - RoI\n",
    "AGB_roi_dir = os.path.join(out_dir, projectname + '_AGBiomass_roi.csv')\n",
    "geemap.zonal_stats(\n",
    "    abv_biomass_roi,\n",
    "    roi_proj_gee,\n",
    "    AGB_roi_dir,\n",
    "    statistics_type='SUM',\n",
    "    tile_scale = tileScale,\n",
    "    scale = 500,\n",
    "    crs = projection,\n",
    ")\n",
    "\n",
    "# b. Above ground biomass - Remaining Forest in 2022\n",
    "AGB_RemainingForest_dir = os.path.join(out_dir, projectname + '_AGBiomass_RemainingForest.csv')\n",
    "geemap.zonal_stats(\n",
    "    abv_biomass_RemainingForest,\n",
    "    roi_proj_gee,\n",
    "    AGB_RemainingForest_dir,\n",
    "    statistics_type='SUM',\n",
    "    tile_scale = tileScale,\n",
    "    scale = 500,\n",
    "    crs = projection,\n",
    ")"
   ]
  },
  {
   "cell_type": "code",
   "execution_count": 19,
   "id": "e5f483bb-9894-4af6-89f9-ad50137b90d5",
   "metadata": {},
   "outputs": [],
   "source": [
    "# 2. Above ground biomass Rasters\n",
    "\n",
    "# a. Above ground biomass -Remaining Forest in 2022\n",
    "geemap.ee_export_image_to_drive(\n",
    "    abv_biomass_RemainingForest,\n",
    "    description = projectname + '_AGBiomass_RemainingForest22',\n",
    "    folder = projectname + '_BiomassAssessment',\n",
    "    fileNamePrefix = projectname + '_AGBiomass_RemainingForest22',\n",
    "    scale = 30,\n",
    "    crs = projection,\n",
    "    maxPixels= 1e12,\n",
    "    region = roi_proj_gee.geometry()\n",
    ")"
   ]
  }
 ],
 "metadata": {
  "kernelspec": {
   "display_name": "Python 3 (ipykernel)",
   "language": "python",
   "name": "python3"
  },
  "language_info": {
   "codemirror_mode": {
    "name": "ipython",
    "version": 3
   },
   "file_extension": ".py",
   "mimetype": "text/x-python",
   "name": "python",
   "nbconvert_exporter": "python",
   "pygments_lexer": "ipython3",
   "version": "3.8.13"
  }
 },
 "nbformat": 4,
 "nbformat_minor": 5
}
